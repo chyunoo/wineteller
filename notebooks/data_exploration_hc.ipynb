{
 "cells": [
  {
   "cell_type": "markdown",
   "id": "83224967",
   "metadata": {},
   "source": [
    "# Wineteller : Reminder\n",
    "\n",
    "\n",
    "- Build a wine recommender based on occasion rather than intrinsic wine characteristics \n",
    "\n",
    "- Deduce occasion from wine descriptors that can fit an atmosphere -> Body, Complexity, Finish \n",
    "\n",
    "- Use Computational Wine Wheel (mappings) to extract only words that are specific to Body, Complexity and Finish\n",
    "\n",
    "- Train a Word2Vec model -> clusterize with K-means"
   ]
  },
  {
   "cell_type": "code",
   "execution_count": 1,
   "id": "cbbdf1f9",
   "metadata": {},
   "outputs": [],
   "source": [
    "#File paths \n",
    "file_location = '/Users/hyunoochang/code/chyunoo/wineteller/raw_data/winemag-data_first150k.csv'\n",
    "map_location = '/Users/hyunoochang/code/chyunoo/wineteller/raw_data/descriptor_mapping.csv'"
   ]
  },
  {
   "cell_type": "markdown",
   "id": "87327eb1",
   "metadata": {
    "heading_collapsed": true
   },
   "source": [
    "# Data Exploration"
   ]
  },
  {
   "cell_type": "code",
   "execution_count": 2,
   "id": "9f3b4032",
   "metadata": {
    "hidden": true
   },
   "outputs": [],
   "source": [
    "#python\n",
    "import pandas as pd\n",
    "import string\n",
    "import numpy as np\n",
    "\n",
    "#compute cell-executing time\n",
    "from tqdm.notebook import trange, tqdm\n",
    "\n",
    "#text preprocessing\n",
    "from operator import itemgetter\n",
    "from nltk.tokenize import word_tokenize, sent_tokenize\n",
    "from nltk.stem import SnowballStemmer\n",
    "from nltk.corpus import stopwords\n",
    "from collections import Counter, OrderedDict\n",
    "\n",
    "#nlp modeling\n",
    "from gensim.models.phrases import Phrases, Phraser\n",
    "from gensim.models import Word2Vec\n",
    "from sklearn.feature_extraction.text import TfidfVectorizer\n",
    "\n",
    "#clusterization \n",
    "from sklearn.metrics.pairwise import cosine_similarity\n",
    "from sklearn.neighbors import NearestNeighbors\n",
    "from sklearn.decomposition import PCA\n",
    "from matplotlib import pyplot as plt\n",
    "from nltk.cluster import KMeansClusterer\n",
    "import nltk\n",
    "from sklearn.manifold import TSNE\n",
    "from sklearn.cluster import KMeans\n",
    "from PIL import Image\n",
    "from wordcloud import WordCloud, STOPWORDS, ImageColorGenerator"
   ]
  },
  {
   "cell_type": "markdown",
   "id": "1dfd653c",
   "metadata": {
    "hidden": true
   },
   "source": [
    "## Load Data"
   ]
  },
  {
   "cell_type": "code",
   "execution_count": 3,
   "id": "476394fc",
   "metadata": {
    "hidden": true
   },
   "outputs": [
    {
     "name": "stdout",
     "output_type": "stream",
     "text": [
      "(150930, 10)\n"
     ]
    }
   ],
   "source": [
    "data = pd.read_csv(file_location, index_col='Unnamed: 0')\n",
    "print(data.shape)"
   ]
  },
  {
   "cell_type": "code",
   "execution_count": 4,
   "id": "3de56afd",
   "metadata": {
    "hidden": true
   },
   "outputs": [
    {
     "data": {
      "text/html": [
       "<div>\n",
       "<style scoped>\n",
       "    .dataframe tbody tr th:only-of-type {\n",
       "        vertical-align: middle;\n",
       "    }\n",
       "\n",
       "    .dataframe tbody tr th {\n",
       "        vertical-align: top;\n",
       "    }\n",
       "\n",
       "    .dataframe thead th {\n",
       "        text-align: right;\n",
       "    }\n",
       "</style>\n",
       "<table border=\"1\" class=\"dataframe\">\n",
       "  <thead>\n",
       "    <tr style=\"text-align: right;\">\n",
       "      <th></th>\n",
       "      <th>country</th>\n",
       "      <th>description</th>\n",
       "      <th>designation</th>\n",
       "      <th>points</th>\n",
       "      <th>price</th>\n",
       "      <th>province</th>\n",
       "      <th>region_1</th>\n",
       "      <th>region_2</th>\n",
       "      <th>variety</th>\n",
       "      <th>winery</th>\n",
       "    </tr>\n",
       "  </thead>\n",
       "  <tbody>\n",
       "    <tr>\n",
       "      <th>0</th>\n",
       "      <td>US</td>\n",
       "      <td>This tremendous 100% varietal wine hails from ...</td>\n",
       "      <td>Martha's Vineyard</td>\n",
       "      <td>96</td>\n",
       "      <td>235.0</td>\n",
       "      <td>California</td>\n",
       "      <td>Napa Valley</td>\n",
       "      <td>Napa</td>\n",
       "      <td>Cabernet Sauvignon</td>\n",
       "      <td>Heitz</td>\n",
       "    </tr>\n",
       "    <tr>\n",
       "      <th>1</th>\n",
       "      <td>Spain</td>\n",
       "      <td>Ripe aromas of fig, blackberry and cassis are ...</td>\n",
       "      <td>Carodorum Selección Especial Reserva</td>\n",
       "      <td>96</td>\n",
       "      <td>110.0</td>\n",
       "      <td>Northern Spain</td>\n",
       "      <td>Toro</td>\n",
       "      <td>NaN</td>\n",
       "      <td>Tinta de Toro</td>\n",
       "      <td>Bodega Carmen Rodríguez</td>\n",
       "    </tr>\n",
       "    <tr>\n",
       "      <th>2</th>\n",
       "      <td>US</td>\n",
       "      <td>Mac Watson honors the memory of a wine once ma...</td>\n",
       "      <td>Special Selected Late Harvest</td>\n",
       "      <td>96</td>\n",
       "      <td>90.0</td>\n",
       "      <td>California</td>\n",
       "      <td>Knights Valley</td>\n",
       "      <td>Sonoma</td>\n",
       "      <td>Sauvignon Blanc</td>\n",
       "      <td>Macauley</td>\n",
       "    </tr>\n",
       "    <tr>\n",
       "      <th>3</th>\n",
       "      <td>US</td>\n",
       "      <td>This spent 20 months in 30% new French oak, an...</td>\n",
       "      <td>Reserve</td>\n",
       "      <td>96</td>\n",
       "      <td>65.0</td>\n",
       "      <td>Oregon</td>\n",
       "      <td>Willamette Valley</td>\n",
       "      <td>Willamette Valley</td>\n",
       "      <td>Pinot Noir</td>\n",
       "      <td>Ponzi</td>\n",
       "    </tr>\n",
       "    <tr>\n",
       "      <th>4</th>\n",
       "      <td>France</td>\n",
       "      <td>This is the top wine from La Bégude, named aft...</td>\n",
       "      <td>La Brûlade</td>\n",
       "      <td>95</td>\n",
       "      <td>66.0</td>\n",
       "      <td>Provence</td>\n",
       "      <td>Bandol</td>\n",
       "      <td>NaN</td>\n",
       "      <td>Provence red blend</td>\n",
       "      <td>Domaine de la Bégude</td>\n",
       "    </tr>\n",
       "  </tbody>\n",
       "</table>\n",
       "</div>"
      ],
      "text/plain": [
       "  country                                        description  \\\n",
       "0      US  This tremendous 100% varietal wine hails from ...   \n",
       "1   Spain  Ripe aromas of fig, blackberry and cassis are ...   \n",
       "2      US  Mac Watson honors the memory of a wine once ma...   \n",
       "3      US  This spent 20 months in 30% new French oak, an...   \n",
       "4  France  This is the top wine from La Bégude, named aft...   \n",
       "\n",
       "                            designation  points  price        province  \\\n",
       "0                     Martha's Vineyard      96  235.0      California   \n",
       "1  Carodorum Selección Especial Reserva      96  110.0  Northern Spain   \n",
       "2         Special Selected Late Harvest      96   90.0      California   \n",
       "3                               Reserve      96   65.0          Oregon   \n",
       "4                            La Brûlade      95   66.0        Provence   \n",
       "\n",
       "            region_1           region_2             variety  \\\n",
       "0        Napa Valley               Napa  Cabernet Sauvignon   \n",
       "1               Toro                NaN       Tinta de Toro   \n",
       "2     Knights Valley             Sonoma     Sauvignon Blanc   \n",
       "3  Willamette Valley  Willamette Valley          Pinot Noir   \n",
       "4             Bandol                NaN  Provence red blend   \n",
       "\n",
       "                    winery  \n",
       "0                    Heitz  \n",
       "1  Bodega Carmen Rodríguez  \n",
       "2                 Macauley  \n",
       "3                    Ponzi  \n",
       "4     Domaine de la Bégude  "
      ]
     },
     "execution_count": 4,
     "metadata": {},
     "output_type": "execute_result"
    }
   ],
   "source": [
    "data.head(5)"
   ]
  },
  {
   "cell_type": "code",
   "execution_count": 5,
   "id": "8f913fee",
   "metadata": {
    "hidden": true
   },
   "outputs": [],
   "source": [
    "#Sample for fast test\n",
    "#data=data[:1000]"
   ]
  },
  {
   "cell_type": "markdown",
   "id": "831c3fdd",
   "metadata": {
    "hidden": true
   },
   "source": [
    "## Clean Data"
   ]
  },
  {
   "cell_type": "code",
   "execution_count": 6,
   "id": "60f2a8c1",
   "metadata": {
    "hidden": true
   },
   "outputs": [
    {
     "data": {
      "text/plain": [
       "country            5\n",
       "description        0\n",
       "designation    45735\n",
       "points             0\n",
       "price          13695\n",
       "province           5\n",
       "region_1       25060\n",
       "region_2       89977\n",
       "variety            0\n",
       "winery             0\n",
       "dtype: int64"
      ]
     },
     "execution_count": 6,
     "metadata": {},
     "output_type": "execute_result"
    }
   ],
   "source": [
    "data.isna().sum()"
   ]
  },
  {
   "cell_type": "code",
   "execution_count": 7,
   "id": "b640a12a",
   "metadata": {
    "hidden": true
   },
   "outputs": [],
   "source": [
    "data.drop(columns = [\"region_1\", \"region_2\", \"points\", \"price\", \"designation\", \"winery\"], inplace=True)"
   ]
  },
  {
   "cell_type": "code",
   "execution_count": 8,
   "id": "a0d8b5db",
   "metadata": {
    "hidden": true
   },
   "outputs": [
    {
     "data": {
      "text/plain": [
       "(97833, 4)"
      ]
     },
     "execution_count": 8,
     "metadata": {},
     "output_type": "execute_result"
    }
   ],
   "source": [
    "data = data.drop_duplicates()\n",
    "data.shape"
   ]
  },
  {
   "cell_type": "markdown",
   "id": "a883a02e",
   "metadata": {
    "heading_collapsed": true
   },
   "source": [
    "# Data Preprocessing"
   ]
  },
  {
   "cell_type": "markdown",
   "id": "40c6c6c7",
   "metadata": {
    "heading_collapsed": true,
    "hidden": true
   },
   "source": [
    "## Tokenize into sentences"
   ]
  },
  {
   "cell_type": "code",
   "execution_count": 9,
   "id": "bed174d3",
   "metadata": {
    "hidden": true
   },
   "outputs": [
    {
     "data": {
      "application/vnd.jupyter.widget-view+json": {
       "model_id": "14fa1e949a1541e2af46f1bb392421ae",
       "version_major": 2,
       "version_minor": 0
      },
      "text/plain": [
       "  0%|          | 0/97833 [00:00<?, ?it/s]"
      ]
     },
     "metadata": {},
     "output_type": "display_data"
    },
    {
     "name": "stdout",
     "output_type": "stream",
     "text": [
      "CPU times: user 14.8 s, sys: 831 ms, total: 15.7 s\n",
      "Wall time: 19.5 s\n"
     ]
    }
   ],
   "source": [
    "%%time\n",
    "#tokenization : reviews -> sentences\n",
    "\n",
    "reviews_list = list(data['description'])\n",
    "reviews_list = [str(r) for r in reviews_list]\n",
    "\n",
    "sentences_tokenized=[]\n",
    "for review in tqdm(reviews_list) :\n",
    "    sentences_tokenized.append(sent_tokenize(review))\n",
    "sentences_tokenized = [item for sublist in sentences_tokenized for item in sublist]"
   ]
  },
  {
   "cell_type": "code",
   "execution_count": 10,
   "id": "f8051fb2",
   "metadata": {
    "hidden": true
   },
   "outputs": [
    {
     "data": {
      "text/plain": [
       "270453"
      ]
     },
     "execution_count": 10,
     "metadata": {},
     "output_type": "execute_result"
    }
   ],
   "source": [
    "len(sentences_tokenized)"
   ]
  },
  {
   "cell_type": "code",
   "execution_count": 11,
   "id": "4c493e58",
   "metadata": {
    "hidden": true
   },
   "outputs": [
    {
     "data": {
      "text/plain": [
       "['This tremendous 100% varietal wine hails from Oakville and was aged over three years in oak.']"
      ]
     },
     "execution_count": 11,
     "metadata": {},
     "output_type": "execute_result"
    }
   ],
   "source": [
    "sentences_tokenized[:1]"
   ]
  },
  {
   "cell_type": "markdown",
   "id": "65abde12",
   "metadata": {
    "heading_collapsed": true,
    "hidden": true
   },
   "source": [
    "## Remove stopwords and punctuation"
   ]
  },
  {
   "cell_type": "code",
   "execution_count": 12,
   "id": "53e7fd87",
   "metadata": {
    "hidden": true
   },
   "outputs": [
    {
     "data": {
      "application/vnd.jupyter.widget-view+json": {
       "model_id": "a989327693f04d25a382627853507242",
       "version_major": 2,
       "version_minor": 0
      },
      "text/plain": [
       "  0%|          | 0/270453 [00:00<?, ?it/s]"
      ]
     },
     "metadata": {},
     "output_type": "display_data"
    },
    {
     "name": "stdout",
     "output_type": "stream",
     "text": [
      "CPU times: user 3min 30s, sys: 9.44 s, total: 3min 39s\n",
      "Wall time: 4min 38s\n"
     ]
    }
   ],
   "source": [
    "%%time\n",
    "#normalization : remove stopwords and punctuation + tokenize sentences into words\n",
    "\n",
    "stop_words = set(stopwords.words('english')) \n",
    "\n",
    "punctuation_table = str.maketrans({key: None for key in string.punctuation})\n",
    "sno = SnowballStemmer('english')\n",
    "\n",
    "def normalize_text(raw_text):\n",
    "    try:\n",
    "        word_list = word_tokenize(raw_text)\n",
    "        normalized_sentence = []\n",
    "        for w in word_list:\n",
    "            try:\n",
    "                w = str(w)\n",
    "                lower_case_word = str.lower(w)\n",
    "                stemmed_word = sno.stem(lower_case_word)\n",
    "                no_punctuation = stemmed_word.translate(punctuation_table)\n",
    "                if len(no_punctuation) > 1 and no_punctuation not in stop_words:\n",
    "                    normalized_sentence.append(no_punctuation)\n",
    "            except:\n",
    "                continue\n",
    "        return normalized_sentence\n",
    "    except:\n",
    "        return ''\n",
    "\n",
    "sentence_sample = sentences_tokenized[:10]\n",
    "normalized_sentences = []\n",
    "for s in tqdm(sentences_tokenized) :\n",
    "    normalized_text = normalize_text(s)\n",
    "    normalized_sentences.append(normalized_text)"
   ]
  },
  {
   "cell_type": "code",
   "execution_count": 13,
   "id": "f3531a48",
   "metadata": {
    "hidden": true
   },
   "outputs": [
    {
     "data": {
      "text/plain": [
       "[['tremend',\n",
       "  '100',\n",
       "  'variet',\n",
       "  'wine',\n",
       "  'hail',\n",
       "  'oakvill',\n",
       "  'age',\n",
       "  'three',\n",
       "  'year',\n",
       "  'oak']]"
      ]
     },
     "execution_count": 13,
     "metadata": {},
     "output_type": "execute_result"
    }
   ],
   "source": [
    "normalized_sentences[:1]"
   ]
  },
  {
   "cell_type": "markdown",
   "id": "cc9fcf31",
   "metadata": {
    "heading_collapsed": true,
    "hidden": true
   },
   "source": [
    "## N-grams"
   ]
  },
  {
   "cell_type": "code",
   "execution_count": 14,
   "id": "864f9044",
   "metadata": {
    "hidden": true
   },
   "outputs": [
    {
     "data": {
      "application/vnd.jupyter.widget-view+json": {
       "model_id": "1401e45011f2497fb944663282003d0c",
       "version_major": 2,
       "version_minor": 0
      },
      "text/plain": [
       "  0%|          | 0/270453 [00:00<?, ?it/s]"
      ]
     },
     "metadata": {},
     "output_type": "display_data"
    },
    {
     "name": "stdout",
     "output_type": "stream",
     "text": [
      "CPU times: user 25.3 s, sys: 626 ms, total: 25.9 s\n",
      "Wall time: 27.6 s\n"
     ]
    }
   ],
   "source": [
    "%%time \n",
    "#retrieve bi-grams and tri-grams from normalized sentences\n",
    "\n",
    "phrases = Phrases(normalized_sentences)\n",
    "phrases = Phrases(phrases[normalized_sentences])\n",
    "\n",
    "ngrams = Phraser(phrases)\n",
    "\n",
    "phrased_sentences = []\n",
    "for sent in tqdm(normalized_sentences):\n",
    "    phrased_sentence = ngrams[sent]\n",
    "    phrased_sentences.append(phrased_sentence)\n",
    "\n",
    "full_list_words = [item for sublist in phrased_sentences for item in sublist]"
   ]
  },
  {
   "cell_type": "code",
   "execution_count": 15,
   "id": "1b98c122",
   "metadata": {
    "hidden": true
   },
   "outputs": [
    {
     "data": {
      "text/plain": [
       "[['tremend',\n",
       "  '100_variet',\n",
       "  'wine',\n",
       "  'hail',\n",
       "  'oakvill',\n",
       "  'age',\n",
       "  'three_year',\n",
       "  'oak']]"
      ]
     },
     "execution_count": 15,
     "metadata": {},
     "output_type": "execute_result"
    }
   ],
   "source": [
    "phrased_sentences[:1]"
   ]
  },
  {
   "cell_type": "code",
   "execution_count": 16,
   "id": "d7590b3e",
   "metadata": {
    "hidden": true
   },
   "outputs": [
    {
     "data": {
      "text/plain": [
       "['tremend', '100_variet', 'wine', 'hail', 'oakvill']"
      ]
     },
     "execution_count": 16,
     "metadata": {},
     "output_type": "execute_result"
    }
   ],
   "source": [
    "full_list_words[:5]"
   ]
  },
  {
   "cell_type": "code",
   "execution_count": 17,
   "id": "ce67a6d6",
   "metadata": {
    "hidden": true
   },
   "outputs": [],
   "source": [
    "#most common 5000 words in corpus\n",
    "\n",
    "word_counts = Counter(full_list_words)\n",
    "sorted_counts = OrderedDict(word_counts.most_common(5000))\n",
    "counter_df = pd.DataFrame.from_dict(sorted_counts, orient='index')\n",
    "top_5000_words = counter_df.head(5000)\n",
    "counter_df.to_csv('top_5000_descriptors.csv')"
   ]
  },
  {
   "cell_type": "code",
   "execution_count": 18,
   "id": "74af5e27",
   "metadata": {
    "hidden": true
   },
   "outputs": [
    {
     "data": {
      "text/html": [
       "<div>\n",
       "<style scoped>\n",
       "    .dataframe tbody tr th:only-of-type {\n",
       "        vertical-align: middle;\n",
       "    }\n",
       "\n",
       "    .dataframe tbody tr th {\n",
       "        vertical-align: top;\n",
       "    }\n",
       "\n",
       "    .dataframe thead th {\n",
       "        text-align: right;\n",
       "    }\n",
       "</style>\n",
       "<table border=\"1\" class=\"dataframe\">\n",
       "  <thead>\n",
       "    <tr style=\"text-align: right;\">\n",
       "      <th></th>\n",
       "      <th>0</th>\n",
       "    </tr>\n",
       "  </thead>\n",
       "  <tbody>\n",
       "    <tr>\n",
       "      <th>wine</th>\n",
       "      <td>60956</td>\n",
       "    </tr>\n",
       "    <tr>\n",
       "      <th>flavor</th>\n",
       "      <td>55898</td>\n",
       "    </tr>\n",
       "    <tr>\n",
       "      <th>fruit</th>\n",
       "      <td>40089</td>\n",
       "    </tr>\n",
       "    <tr>\n",
       "      <th>finish</th>\n",
       "      <td>29733</td>\n",
       "    </tr>\n",
       "    <tr>\n",
       "      <th>acid</th>\n",
       "      <td>25915</td>\n",
       "    </tr>\n",
       "  </tbody>\n",
       "</table>\n",
       "</div>"
      ],
      "text/plain": [
       "            0\n",
       "wine    60956\n",
       "flavor  55898\n",
       "fruit   40089\n",
       "finish  29733\n",
       "acid    25915"
      ]
     },
     "execution_count": 18,
     "metadata": {},
     "output_type": "execute_result"
    }
   ],
   "source": [
    "top_5000_words.head()"
   ]
  },
  {
   "cell_type": "markdown",
   "id": "8bcff1ef",
   "metadata": {
    "hidden": true
   },
   "source": [
    "## Filter wine descriptors"
   ]
  },
  {
   "cell_type": "markdown",
   "id": "930480e3",
   "metadata": {
    "hidden": true
   },
   "source": [
    "### Load descriptor mapping"
   ]
  },
  {
   "cell_type": "code",
   "execution_count": 19,
   "id": "46fb1c23",
   "metadata": {
    "hidden": true
   },
   "outputs": [
    {
     "data": {
      "text/html": [
       "<div>\n",
       "<style scoped>\n",
       "    .dataframe tbody tr th:only-of-type {\n",
       "        vertical-align: middle;\n",
       "    }\n",
       "\n",
       "    .dataframe tbody tr th {\n",
       "        vertical-align: top;\n",
       "    }\n",
       "\n",
       "    .dataframe thead th {\n",
       "        text-align: right;\n",
       "    }\n",
       "</style>\n",
       "<table border=\"1\" class=\"dataframe\">\n",
       "  <thead>\n",
       "    <tr style=\"text-align: right;\">\n",
       "      <th></th>\n",
       "      <th>level_3</th>\n",
       "      <th>level_2</th>\n",
       "      <th>level_1</th>\n",
       "    </tr>\n",
       "    <tr>\n",
       "      <th>raw descriptor</th>\n",
       "      <th></th>\n",
       "      <th></th>\n",
       "      <th></th>\n",
       "    </tr>\n",
       "  </thead>\n",
       "  <tbody>\n",
       "    <tr>\n",
       "      <th>abras</th>\n",
       "      <td>abrasive</td>\n",
       "      <td>high_tannin</td>\n",
       "      <td>tannin</td>\n",
       "    </tr>\n",
       "    <tr>\n",
       "      <th>acacia</th>\n",
       "      <td>acacia</td>\n",
       "      <td>flowery</td>\n",
       "      <td>flower</td>\n",
       "    </tr>\n",
       "    <tr>\n",
       "      <th>acacia_flower</th>\n",
       "      <td>acacia</td>\n",
       "      <td>flowery</td>\n",
       "      <td>flower</td>\n",
       "    </tr>\n",
       "    <tr>\n",
       "      <th>aciddriven</th>\n",
       "      <td>acid_driven</td>\n",
       "      <td>high_acid</td>\n",
       "      <td>acid</td>\n",
       "    </tr>\n",
       "    <tr>\n",
       "      <th>aggress</th>\n",
       "      <td>aggressive</td>\n",
       "      <td>high_acid</td>\n",
       "      <td>acid</td>\n",
       "    </tr>\n",
       "  </tbody>\n",
       "</table>\n",
       "</div>"
      ],
      "text/plain": [
       "                    level_3      level_2 level_1\n",
       "raw descriptor                                  \n",
       "abras              abrasive  high_tannin  tannin\n",
       "acacia               acacia      flowery  flower\n",
       "acacia_flower        acacia      flowery  flower\n",
       "aciddriven      acid_driven    high_acid    acid\n",
       "aggress          aggressive    high_acid    acid"
      ]
     },
     "execution_count": 19,
     "metadata": {},
     "output_type": "execute_result"
    }
   ],
   "source": [
    "#load wine descriptor_mapping\n",
    "descriptor_mapping = pd.read_csv(map_location).set_index('raw descriptor')\n",
    "descriptor_mapping.head()"
   ]
  },
  {
   "cell_type": "code",
   "execution_count": 20,
   "id": "4499c729",
   "metadata": {
    "hidden": true
   },
   "outputs": [
    {
     "data": {
      "text/plain": [
       "fruit              235\n",
       "vegetal             90\n",
       "woody               77\n",
       "tannin              72\n",
       "earth_inorganic     68\n",
       "acid                63\n",
       "body                57\n",
       "spice               46\n",
       "caramel             44\n",
       "flower              38\n",
       "visual              30\n",
       "earth_organic       27\n",
       "sweetness           22\n",
       "sulfides            21\n",
       "nutty               19\n",
       "microbial           17\n",
       "concentration       17\n",
       "complexity          16\n",
       "alcohol             16\n",
       "brettanomyces       15\n",
       "style               11\n",
       "salinity             8\n",
       "finish               6\n",
       "Name: level_1, dtype: int64"
      ]
     },
     "execution_count": 20,
     "metadata": {},
     "output_type": "execute_result"
    }
   ],
   "source": [
    "descriptor_mapping.level_1.value_counts()"
   ]
  },
  {
   "cell_type": "code",
   "execution_count": 21,
   "id": "67dd4dd8",
   "metadata": {
    "hidden": true
   },
   "outputs": [],
   "source": [
    "#We keep ALL non-aroma descriptors and exclude aroma descriptors\n",
    "\n",
    "descriptor_list = ['body', 'complexity', 'finish', 'alcohol', 'sweetness']\n",
    "filtered_descriptor_mapping = descriptor_mapping[descriptor_mapping['level_1'].isin(descriptor_list)]"
   ]
  },
  {
   "cell_type": "code",
   "execution_count": 22,
   "id": "ff73fda9",
   "metadata": {
    "hidden": true
   },
   "outputs": [
    {
     "data": {
      "text/html": [
       "<div>\n",
       "<style scoped>\n",
       "    .dataframe tbody tr th:only-of-type {\n",
       "        vertical-align: middle;\n",
       "    }\n",
       "\n",
       "    .dataframe tbody tr th {\n",
       "        vertical-align: top;\n",
       "    }\n",
       "\n",
       "    .dataframe thead th {\n",
       "        text-align: right;\n",
       "    }\n",
       "</style>\n",
       "<table border=\"1\" class=\"dataframe\">\n",
       "  <thead>\n",
       "    <tr style=\"text-align: right;\">\n",
       "      <th></th>\n",
       "      <th>level_3</th>\n",
       "      <th>level_2</th>\n",
       "      <th>level_1</th>\n",
       "    </tr>\n",
       "    <tr>\n",
       "      <th>raw descriptor</th>\n",
       "      <th></th>\n",
       "      <th></th>\n",
       "      <th></th>\n",
       "    </tr>\n",
       "  </thead>\n",
       "  <tbody>\n",
       "    <tr>\n",
       "      <th>airi</th>\n",
       "      <td>airy</td>\n",
       "      <td>light_bodied</td>\n",
       "      <td>body</td>\n",
       "    </tr>\n",
       "    <tr>\n",
       "      <th>bake</th>\n",
       "      <td>baked</td>\n",
       "      <td>high_alcohol</td>\n",
       "      <td>alcohol</td>\n",
       "    </tr>\n",
       "    <tr>\n",
       "      <th>big_bold</th>\n",
       "      <td>bold</td>\n",
       "      <td>full_bodied</td>\n",
       "      <td>body</td>\n",
       "    </tr>\n",
       "    <tr>\n",
       "      <th>bone_dri</th>\n",
       "      <td>bone_dry</td>\n",
       "      <td>dry</td>\n",
       "      <td>sweetness</td>\n",
       "    </tr>\n",
       "    <tr>\n",
       "      <th>bonedri</th>\n",
       "      <td>bone_dry</td>\n",
       "      <td>dry</td>\n",
       "      <td>sweetness</td>\n",
       "    </tr>\n",
       "  </tbody>\n",
       "</table>\n",
       "</div>"
      ],
      "text/plain": [
       "                 level_3       level_2    level_1\n",
       "raw descriptor                                   \n",
       "airi                airy  light_bodied       body\n",
       "bake               baked  high_alcohol    alcohol\n",
       "big_bold            bold   full_bodied       body\n",
       "bone_dri        bone_dry           dry  sweetness\n",
       "bonedri         bone_dry           dry  sweetness"
      ]
     },
     "execution_count": 22,
     "metadata": {},
     "output_type": "execute_result"
    }
   ],
   "source": [
    "filtered_descriptor_mapping.head()"
   ]
  },
  {
   "cell_type": "code",
   "execution_count": 23,
   "id": "891dbcc7",
   "metadata": {
    "hidden": true
   },
   "outputs": [
    {
     "data": {
      "text/plain": [
       "body          57\n",
       "sweetness     22\n",
       "alcohol       16\n",
       "complexity    16\n",
       "finish         6\n",
       "Name: level_1, dtype: int64"
      ]
     },
     "execution_count": 23,
     "metadata": {},
     "output_type": "execute_result"
    }
   ],
   "source": [
    "#number of raw descriptors per features \n",
    "filtered_descriptor_mapping[\"level_1\"].value_counts()"
   ]
  },
  {
   "cell_type": "code",
   "execution_count": 24,
   "id": "8088670b",
   "metadata": {
    "hidden": true
   },
   "outputs": [
    {
     "name": "stdout",
     "output_type": "stream",
     "text": [
      "filtered descriptors : 12 % , 117 out of 1015\n"
     ]
    }
   ],
   "source": [
    "print('filtered descriptors :', round((filtered_descriptor_mapping[\"level_1\"].value_counts().sum()/descriptor_mapping.level_1.value_counts().sum())*100),'% ,',filtered_descriptor_mapping[\"level_1\"].value_counts().sum(), 'out of', descriptor_mapping.level_1.value_counts().sum())"
   ]
  },
  {
   "cell_type": "code",
   "execution_count": 25,
   "id": "8f4e5b18",
   "metadata": {
    "hidden": true
   },
   "outputs": [
    {
     "name": "stdout",
     "output_type": "stream",
     "text": [
      "['airi', 'bake', 'big_bold', 'bone_dri', 'bonedri', 'bullish', 'blocki', 'chunki', 'solid_chunki', 'clampi', 'close', 'cloy', 'complex', 'complic', 'dainti', 'deep', 'depth', 'dri', 'drier', 'dryness', 'eas', 'easi_sip', 'eleg', 'expans', 'extract', 'feminin', 'finess', 'ampl_weight', 'bold', 'full_bodi', 'fullbodi', 'soupi', 'weighti', 'headi', 'hearti', 'heavi', 'heavier', 'heavyweight', 'bigger', 'high_alcohol', 'highoctan', 'alcohol_heat', 'heat', 'heat_evid', 'hot', 'lavish', 'rather_lean', 'length', 'lengthi', 'long_mouthwat', 'longlast', 'lightest', 'light', 'light_bodi', 'lightbodi', 'lighter', 'lighter_style', 'lightfoot', 'lightweight', 'thin', 'linear', 'light_feet', 'low_alcohol', 'lowalcohol', 'straightforward', 'lush', 'luxuri', 'mass', 'medium_bodi', 'medium_fullbodi', 'medium_weight', 'mediumbodi', 'mediumweight', 'medium_length', 'mediumlength_finish', 'mediumsweet', 'semisweet', 'modest', 'offdri', 'offdri_style', 'onedimension', 'opul', 'plump', 'pungent', 'quaffer', 'refin', 'residu_sugar', 'residu_sweet', 'rich', 'richer', 'robust', 'semisweet_riesl', 'uncompl', 'stick', 'sticki', 'stout', 'sturdi', 'succul', 'sugar', 'sugari', 'superrich', 'sweet', 'sweeten', 'sweeter', 'sweettart', 'sweettast', 'syrup', 'syrupi', 'thick', 'unoak', 'viscos', 'viscous', 'voluptu', 'warm', 'warmth', 'warmth_alcohol', 'weight']\n"
     ]
    }
   ],
   "source": [
    "#list of all raw descriptors\n",
    "print(list(filtered_descriptor_mapping.index),)"
   ]
  },
  {
   "cell_type": "code",
   "execution_count": 26,
   "id": "f3159c44",
   "metadata": {
    "hidden": true
   },
   "outputs": [
    {
     "data": {
      "text/plain": [
       "full_bodied             36\n",
       "light_bodied            16\n",
       "high_alcohol            13\n",
       "sweet                   10\n",
       "high_complexity          8\n",
       "low_complexity           8\n",
       "dry                      7\n",
       "very_sweet               5\n",
       "medium_bodied            5\n",
       "long_finish              4\n",
       "low_alcohol              3\n",
       "medium_length_finish     2\n",
       "Name: level_2, dtype: int64"
      ]
     },
     "execution_count": 26,
     "metadata": {},
     "output_type": "execute_result"
    }
   ],
   "source": [
    "#list of all level_2 descriptors\n",
    "filtered_descriptor_mapping[\"level_2\"].value_counts()"
   ]
  },
  {
   "cell_type": "markdown",
   "id": "1863c100",
   "metadata": {
    "hidden": true
   },
   "source": [
    "#### Data exploration (descriptors)"
   ]
  },
  {
   "cell_type": "code",
   "execution_count": 27,
   "id": "0da84e1f",
   "metadata": {
    "hidden": true
   },
   "outputs": [],
   "source": [
    "#filtered_descriptor_mapping[filtered_descriptor_mapping[\"level_1\"] == \"visual\"].head()"
   ]
  },
  {
   "cell_type": "code",
   "execution_count": 28,
   "id": "0c3a3a6f",
   "metadata": {
    "hidden": true
   },
   "outputs": [],
   "source": [
    "#filtered_descriptor_mapping[filtered_descriptor_mapping[\"level_1\"] == \"style\"].head()"
   ]
  },
  {
   "cell_type": "code",
   "execution_count": 29,
   "id": "50b139c9",
   "metadata": {
    "hidden": true
   },
   "outputs": [],
   "source": [
    "#filtered_descriptor_mapping[filtered_descriptor_mapping[\"level_1\"] == \"alcohol\"] .head()"
   ]
  },
  {
   "cell_type": "code",
   "execution_count": 30,
   "id": "d1bddcfa",
   "metadata": {
    "hidden": true
   },
   "outputs": [],
   "source": [
    "#filtered_descriptor_mapping[filtered_descriptor_mapping[\"level_1\"] == \"tannin\"].groupby(\"level_2\").count()"
   ]
  },
  {
   "cell_type": "code",
   "execution_count": 31,
   "id": "277f846d",
   "metadata": {
    "hidden": true
   },
   "outputs": [],
   "source": [
    "#filtered_descriptor_mapping[filtered_descriptor_mapping[\"level_2\"] == \"low_tannin\"].value_counts()"
   ]
  },
  {
   "cell_type": "markdown",
   "id": "5056dd61",
   "metadata": {
    "hidden": true
   },
   "source": [
    "### Apply mapping to sentences"
   ]
  },
  {
   "cell_type": "code",
   "execution_count": null,
   "id": "9e2d5aa2",
   "metadata": {
    "hidden": true
   },
   "outputs": [
    {
     "data": {
      "application/vnd.jupyter.widget-view+json": {
       "model_id": "7920dddf14b34ba0b28b4bc09760e9ae",
       "version_major": 2,
       "version_minor": 0
      },
      "text/plain": [
       "  0%|          | 0/270453 [00:00<?, ?it/s]"
      ]
     },
     "metadata": {},
     "output_type": "display_data"
    }
   ],
   "source": [
    "%%time\n",
    "#apply mapping on each word of each sentence\n",
    "\n",
    "#### MUST UPDATE CODE ####\n",
    "#-> due to small size of vocabulary : return level_3 for body, complexity, finish, sweetness and alcohol\n",
    "\n",
    "def return_mapped_descriptor(word):\n",
    "    if word in list(filtered_descriptor_mapping.index):\n",
    "        normalized_word = filtered_descriptor_mapping['level_3'][word]\n",
    "        return normalized_word\n",
    "    else:\n",
    "        return \"\"\n",
    "\n",
    "normalized_sentences = []\n",
    "for sent in tqdm(phrased_sentences):\n",
    "    normalized_sentence = []\n",
    "    for word in sent:\n",
    "        normalized_word = return_mapped_descriptor(word)\n",
    "        if normalized_word != \"\" :\n",
    "            normalized_sentence.append(str(normalized_word))\n",
    "        else :\n",
    "            pass\n",
    "    normalized_sentences.append(normalized_sentence)"
   ]
  },
  {
   "cell_type": "code",
   "execution_count": null,
   "id": "94cfe7b1",
   "metadata": {
    "hidden": true
   },
   "outputs": [],
   "source": [
    "normalized_sentences[:10]"
   ]
  },
  {
   "cell_type": "code",
   "execution_count": null,
   "id": "97d2265b",
   "metadata": {
    "hidden": true
   },
   "outputs": [],
   "source": [
    "len(normalized_sentences)"
   ]
  },
  {
   "cell_type": "markdown",
   "id": "0272fdb7",
   "metadata": {
    "heading_collapsed": true
   },
   "source": [
    "# Model"
   ]
  },
  {
   "cell_type": "markdown",
   "id": "af1d2c5f",
   "metadata": {
    "heading_collapsed": true,
    "hidden": true
   },
   "source": [
    "## Train model "
   ]
  },
  {
   "cell_type": "code",
   "execution_count": null,
   "id": "59eef180",
   "metadata": {
    "hidden": true
   },
   "outputs": [],
   "source": [
    "%%time\n",
    "#fit Word2Vec model into corpus \n",
    "model = Word2Vec(normalized_sentences, vector_size=300, min_count=1, epochs=15)\n",
    "print(model)\n",
    "\n",
    "model.save('model.bin')"
   ]
  },
  {
   "cell_type": "code",
   "execution_count": null,
   "id": "91bd5313",
   "metadata": {
    "hidden": true
   },
   "outputs": [],
   "source": [
    "#list of vocab learned by model\n",
    "print(model.wv.index_to_key,)"
   ]
  },
  {
   "cell_type": "markdown",
   "id": "8d608c00",
   "metadata": {
    "hidden": true
   },
   "source": [
    "## Explore Word Embeddings"
   ]
  },
  {
   "cell_type": "code",
   "execution_count": null,
   "id": "807c1a43",
   "metadata": {
    "hidden": true
   },
   "outputs": [],
   "source": [
    "#Find most similar from vector\n",
    "#wv = preprocessed_data.loc[4,\"review_vector\"]\n",
    "#wv = np.squeeze(wv, axis=0)\n",
    "#print(wv.shape)\n",
    "#model.wv.most_similar(positive=[wv,], topn=10)"
   ]
  },
  {
   "cell_type": "code",
   "execution_count": null,
   "id": "8ca9cbd3",
   "metadata": {
    "hidden": true
   },
   "outputs": [],
   "source": [
    "#Find most similar word \n",
    "model.wv.most_similar(positive='light_bodied', topn=10)"
   ]
  },
  {
   "cell_type": "code",
   "execution_count": null,
   "id": "1c8f4c6c",
   "metadata": {
    "hidden": true
   },
   "outputs": [],
   "source": [
    "#Retrieve vector from word \n",
    "#model.wv[\"light_bodied\"]"
   ]
  },
  {
   "cell_type": "code",
   "execution_count": null,
   "id": "474071da",
   "metadata": {
    "hidden": true
   },
   "outputs": [],
   "source": [
    "#Compute distance between two words/vectors\n",
    "#cosine_similarity([model.wv[\"light_bodied\"]], [wv])"
   ]
  },
  {
   "cell_type": "markdown",
   "id": "cb4fc3da",
   "metadata": {
    "hidden": true
   },
   "source": [
    "## Return mapped descriptors from reviews"
   ]
  },
  {
   "cell_type": "code",
   "execution_count": null,
   "id": "0eb67dab",
   "metadata": {
    "hidden": true
   },
   "outputs": [],
   "source": [
    "%%time\n",
    "wine_reviews = list(data['description'])\n",
    "\n",
    "def return_descriptor_from_mapping(word):\n",
    "    if word in list(filtered_descriptor_mapping.index):\n",
    "        descriptor_to_return = filtered_descriptor_mapping['level_3'][word]\n",
    "        return descriptor_to_return\n",
    "\n",
    "descriptorized_reviews = []\n",
    "for review in tqdm(wine_reviews):\n",
    "    normalized_review = normalize_text(review)\n",
    "    phrased_review = ngrams[normalized_review]\n",
    "    descriptors_only = [return_descriptor_from_mapping(word) for word in phrased_review]\n",
    "    no_nones = [str(d) for d in descriptors_only if d is not None]\n",
    "    descriptorized_review = ' '.join(no_nones)\n",
    "    descriptorized_reviews.append(descriptorized_review)"
   ]
  },
  {
   "cell_type": "code",
   "execution_count": null,
   "id": "3a053803",
   "metadata": {
    "hidden": true
   },
   "outputs": [],
   "source": [
    "descriptorized_reviews[:5]"
   ]
  },
  {
   "cell_type": "code",
   "execution_count": null,
   "id": "ea7da785",
   "metadata": {
    "hidden": true
   },
   "outputs": [],
   "source": [
    "len(descriptorized_reviews)"
   ]
  },
  {
   "cell_type": "markdown",
   "id": "c4b69016",
   "metadata": {
    "hidden": true
   },
   "source": [
    "## Calculate Review Vectors with TFIDF"
   ]
  },
  {
   "cell_type": "code",
   "execution_count": null,
   "id": "d82ce390",
   "metadata": {
    "hidden": true
   },
   "outputs": [],
   "source": [
    "%%time\n",
    "\n",
    "#apply Tfidf weights and compute wine review vectors from word vectors\n",
    "\n",
    "vectorizer = TfidfVectorizer()\n",
    "X = vectorizer.fit(descriptorized_reviews)\n",
    "\n",
    "dict_of_tfidf_weightings = dict(zip(X.get_feature_names(), X.idf_))"
   ]
  },
  {
   "cell_type": "code",
   "execution_count": null,
   "id": "61d28453",
   "metadata": {
    "hidden": true
   },
   "outputs": [],
   "source": [
    "%%time\n",
    "wine_review_vectors = []\n",
    "for d in tqdm(descriptorized_reviews):\n",
    "    descriptor_count = 0\n",
    "    weighted_review_terms = []\n",
    "    terms = d.split(' ')\n",
    "    for term in terms:\n",
    "        if term in dict_of_tfidf_weightings.keys():\n",
    "            tfidf_weighting = dict_of_tfidf_weightings[term]\n",
    "            word_vector = model.wv.get_vector(term).reshape(1, 300)\n",
    "            weighted_word_vector = tfidf_weighting * word_vector\n",
    "            weighted_review_terms.append(weighted_word_vector)\n",
    "            descriptor_count += 1\n",
    "        else:\n",
    "            continue\n",
    "    try:\n",
    "        review_vector = sum(weighted_review_terms)/len(weighted_review_terms)\n",
    "    except:\n",
    "        review_vector = []\n",
    "    vector_and_count = [terms, review_vector, descriptor_count]\n",
    "    wine_review_vectors.append(vector_and_count)"
   ]
  },
  {
   "cell_type": "markdown",
   "id": "86f570d5",
   "metadata": {
    "hidden": true
   },
   "source": [
    "## Merge in final dataset "
   ]
  },
  {
   "cell_type": "code",
   "execution_count": null,
   "id": "02b5181d",
   "metadata": {
    "hidden": true
   },
   "outputs": [],
   "source": [
    "#concatenante in new dataset\n",
    "data['normalized_descriptors'] = list(map(itemgetter(0), wine_review_vectors))\n",
    "data['review_vector'] = list(map(itemgetter(1), wine_review_vectors))\n",
    "data['descriptor_count'] = list(map(itemgetter(2), wine_review_vectors))\n",
    "\n",
    "data.reset_index(inplace=True)"
   ]
  },
  {
   "cell_type": "code",
   "execution_count": null,
   "id": "e5f82409",
   "metadata": {
    "hidden": true
   },
   "outputs": [],
   "source": [
    "data.head()"
   ]
  },
  {
   "cell_type": "code",
   "execution_count": null,
   "id": "fa431d33",
   "metadata": {
    "hidden": true
   },
   "outputs": [],
   "source": [
    "data.loc[3,\"description\"]"
   ]
  },
  {
   "cell_type": "code",
   "execution_count": null,
   "id": "ed2f0486",
   "metadata": {
    "hidden": true
   },
   "outputs": [],
   "source": [
    "#rows with no BCF descriptor \n",
    "data = data.drop(columns= \"index\")\n",
    "preprocessed_data = data[data[\"descriptor_count\"]>0]\n",
    "print(preprocessed_data.shape)"
   ]
  },
  {
   "cell_type": "markdown",
   "id": "d7d45add",
   "metadata": {
    "hidden": true
   },
   "source": [
    "## Export in csv"
   ]
  },
  {
   "cell_type": "code",
   "execution_count": null,
   "id": "7dd6faa9",
   "metadata": {
    "hidden": true
   },
   "outputs": [],
   "source": [
    "#from pathlib import Path  \n",
    "#filepath = Path('/Users/hyunoochang/code/chyunoo/wineteller/notebooks/preprocessed_data.csv')  \n",
    "#preprocessed_data.to_csv(filepath)"
   ]
  },
  {
   "cell_type": "markdown",
   "id": "40c1d845",
   "metadata": {
    "heading_collapsed": true
   },
   "source": [
    "# Clusterization "
   ]
  },
  {
   "cell_type": "markdown",
   "id": "bfd3a474",
   "metadata": {
    "hidden": true
   },
   "source": [
    "## Prepare dataset "
   ]
  },
  {
   "cell_type": "code",
   "execution_count": null,
   "id": "6785a5d9",
   "metadata": {
    "hidden": true
   },
   "outputs": [],
   "source": [
    "test = preprocessed_data.copy()\n",
    "\n",
    "#Convert word index (non hashable) to tuples\n",
    "test['normalized_descriptors'] = test['normalized_descriptors'].apply(tuple)\n",
    "\n",
    "#Drop duplicates\n",
    "test = test.drop_duplicates(subset=\"normalized_descriptors\")\n",
    "\n",
    "#Create X_train\n",
    "X_train = test[\"review_vector\"]\n",
    "X_train = np.array(list(X_train), dtype=np.float)\n",
    "X_train = np.squeeze(X_train, axis = 1)\n",
    "X_train.shape"
   ]
  },
  {
   "cell_type": "markdown",
   "id": "df7a36df",
   "metadata": {
    "hidden": true
   },
   "source": [
    "## TSNE "
   ]
  },
  {
   "cell_type": "code",
   "execution_count": null,
   "id": "849778b8",
   "metadata": {
    "hidden": true
   },
   "outputs": [],
   "source": [
    "tsne = TSNE(n_components=2, random_state=0)\n",
    "Y = tsne.fit_transform(X_train)"
   ]
  },
  {
   "cell_type": "code",
   "execution_count": null,
   "id": "a4bc187f",
   "metadata": {
    "hidden": true
   },
   "outputs": [],
   "source": [
    "plt.scatter(Y[:, 0], Y[:, 1])"
   ]
  },
  {
   "cell_type": "code",
   "execution_count": null,
   "id": "83239575",
   "metadata": {
    "hidden": true
   },
   "outputs": [],
   "source": [
    "#Code for plotting words (unreadable)\n",
    "#plt.scatter(Y[:, 0], Y[:, 1])\n",
    "\n",
    "#for label, x, y in zip(wines, Y[:, 0], Y[:, 1]):\n",
    "    #plt.annotate(label, xy=(x, y), xytext=(0, 0), textcoords=\"offset points\")\n",
    "#plt.show()"
   ]
  },
  {
   "cell_type": "markdown",
   "id": "503b53d4",
   "metadata": {
    "hidden": true
   },
   "source": [
    "## PCA "
   ]
  },
  {
   "cell_type": "markdown",
   "id": "34f025b6",
   "metadata": {
    "hidden": true
   },
   "source": [
    "### With Two dimensions"
   ]
  },
  {
   "cell_type": "code",
   "execution_count": null,
   "id": "980e7ab7",
   "metadata": {
    "hidden": true
   },
   "outputs": [],
   "source": [
    "pca = PCA(n_components=2)\n",
    "pca_results = pca.fit_transform(X_train)"
   ]
  },
  {
   "cell_type": "code",
   "execution_count": null,
   "id": "c7afc251",
   "metadata": {
    "hidden": true
   },
   "outputs": [],
   "source": [
    "pca_results.shape"
   ]
  },
  {
   "cell_type": "code",
   "execution_count": null,
   "id": "ed7efbfd",
   "metadata": {
    "hidden": true
   },
   "outputs": [],
   "source": [
    "pca_df = pd.DataFrame(pca_results, index=list(test.normalized_descriptors), columns=[\"pc1\", \"pc2\"])\n",
    "pca_df.head()"
   ]
  },
  {
   "cell_type": "code",
   "execution_count": null,
   "id": "11e1ba2a",
   "metadata": {
    "hidden": true
   },
   "outputs": [],
   "source": [
    "pca_df.plot(x='pc1',y='pc2',kind=\"scatter\",figsize=(15, 10))"
   ]
  },
  {
   "cell_type": "code",
   "execution_count": null,
   "id": "60c9fffd",
   "metadata": {
    "hidden": true
   },
   "outputs": [],
   "source": [
    "wine_words = [str(word).strip(\"(),' '\") for word in pca_df.index]\n",
    "print(len(wine_words,))"
   ]
  },
  {
   "cell_type": "code",
   "execution_count": null,
   "id": "00ca75d8",
   "metadata": {
    "hidden": true
   },
   "outputs": [],
   "source": [
    "pca_df.index = wine_words\n",
    "pca_df.head()"
   ]
  },
  {
   "cell_type": "code",
   "execution_count": null,
   "id": "1669d2c8",
   "metadata": {
    "hidden": true,
    "scrolled": true
   },
   "outputs": [],
   "source": [
    "ax = pca_df.plot(x='pc1',y='pc2',kind=\"scatter\",figsize=(15, 10),alpha=0)\n",
    "for word in pca_df.index : \n",
    "    for txt in ['full_bodied']:\n",
    "        if txt in word : \n",
    "            x = pca_df.pc1.loc[word]\n",
    "            y = pca_df.pc2.loc[word]\n",
    "            ax.annotate(word, (x,y))\n",
    "plt.show()"
   ]
  },
  {
   "cell_type": "code",
   "execution_count": null,
   "id": "ccedbd1b",
   "metadata": {
    "hidden": true
   },
   "outputs": [],
   "source": [
    "for v in pca.explained_variance_ratio_:\n",
    "    print('Explained variation per principal component: {}%'.format(round(v*100,2)))"
   ]
  },
  {
   "cell_type": "code",
   "execution_count": null,
   "id": "38339e33",
   "metadata": {
    "hidden": true
   },
   "outputs": [],
   "source": [
    "plt.plot(pca.explained_variance_ratio_)\n",
    "plt.xlabel('Principal Component'); plt.ylabel('% explained variance');"
   ]
  },
  {
   "cell_type": "markdown",
   "id": "4911daac",
   "metadata": {
    "hidden": true
   },
   "source": [
    "### With Max Dimensions"
   ]
  },
  {
   "cell_type": "code",
   "execution_count": null,
   "id": "7693aa93",
   "metadata": {
    "hidden": true
   },
   "outputs": [],
   "source": [
    "X_train.shape"
   ]
  },
  {
   "cell_type": "code",
   "execution_count": null,
   "id": "97cec973",
   "metadata": {
    "hidden": true
   },
   "outputs": [],
   "source": [
    "len(list(test.normalized_descriptors))"
   ]
  },
  {
   "cell_type": "code",
   "execution_count": null,
   "id": "edb86d52",
   "metadata": {
    "hidden": true
   },
   "outputs": [],
   "source": [
    "pca_max = PCA()\n",
    "pca_max_results = pca_max.fit_transform(X_train)\n",
    "pca_max_df = pd.DataFrame(pca_max_results, index=list(test.normalized_descriptors), columns= [f'PC{i}' for i in range(1, 301)])"
   ]
  },
  {
   "cell_type": "code",
   "execution_count": null,
   "id": "79fa1e04",
   "metadata": {
    "hidden": true
   },
   "outputs": [],
   "source": [
    "pca_max_results.shape"
   ]
  },
  {
   "cell_type": "code",
   "execution_count": null,
   "id": "0a0c5bb2",
   "metadata": {
    "hidden": true
   },
   "outputs": [],
   "source": [
    "pca_max_df.head()"
   ]
  },
  {
   "cell_type": "code",
   "execution_count": null,
   "id": "f42401c4",
   "metadata": {
    "hidden": true
   },
   "outputs": [],
   "source": [
    "pca_max.explained_variance_ratio_[:11]"
   ]
  },
  {
   "cell_type": "code",
   "execution_count": null,
   "id": "9d7a33a2",
   "metadata": {
    "hidden": true
   },
   "outputs": [],
   "source": [
    "plt.plot(pca_max.explained_variance_ratio_[:11])\n",
    "plt.xlabel('Principal Component'); plt.ylabel('% explained variance');"
   ]
  },
  {
   "cell_type": "markdown",
   "id": "7db423ba",
   "metadata": {
    "hidden": true
   },
   "source": [
    "## K-Means "
   ]
  },
  {
   "cell_type": "code",
   "execution_count": null,
   "id": "b1309368",
   "metadata": {
    "hidden": true
   },
   "outputs": [],
   "source": [
    "X_proj = pd.DataFrame(pca_results, columns=[\"pc1\", \"pc2\"])"
   ]
  },
  {
   "cell_type": "code",
   "execution_count": null,
   "id": "4ac63842",
   "metadata": {
    "hidden": true
   },
   "outputs": [],
   "source": [
    "from sklearn.cluster import KMeans\n",
    "km = KMeans(n_clusters=5) \n",
    "km.fit(X_proj)"
   ]
  },
  {
   "cell_type": "code",
   "execution_count": null,
   "id": "a5f16957",
   "metadata": {
    "hidden": true
   },
   "outputs": [],
   "source": [
    "km.cluster_centers_.shape"
   ]
  },
  {
   "cell_type": "code",
   "execution_count": null,
   "id": "b60fcd1a",
   "metadata": {
    "hidden": true
   },
   "outputs": [],
   "source": [
    "print(km.labels_,)"
   ]
  },
  {
   "cell_type": "code",
   "execution_count": null,
   "id": "b77bf323",
   "metadata": {
    "hidden": true
   },
   "outputs": [],
   "source": [
    "plt.title('KMeans clustering'); plt.xlabel('PC 1'); plt.ylabel('PC 2')\n",
    "ax = plt.gca()\n",
    "sc = ax.scatter(X_proj.iloc[:,0], X_proj.iloc[:,1], c=km.labels_)\n",
    "\n",
    "\n",
    "colors = km.labels_\n",
    "labels = np.unique(km.labels_)\n",
    "clset = set(zip(colors, labels))\n",
    "handles = [plt.plot([],color=sc.get_cmap()(sc.norm(c)),ls=\"\", marker=\"o\")[0] for c,l in clset ]\n",
    "labels = [l for c,l in clset]\n",
    "plt.legend(handles, labels)\n",
    "plt.show()"
   ]
  },
  {
   "cell_type": "code",
   "execution_count": null,
   "id": "443ff6dc",
   "metadata": {
    "hidden": true
   },
   "outputs": [],
   "source": [
    "%%time\n",
    "inertias = []\n",
    "ks = range(1,20)\n",
    "\n",
    "for k in ks:\n",
    "    km_test = KMeans(n_clusters=k).fit(X_train)\n",
    "    inertias.append(km_test.inertia_)\n",
    "\n",
    "plt.plot(ks, inertias)\n",
    "plt.xlabel('k cluster number')"
   ]
  },
  {
   "cell_type": "markdown",
   "id": "8463d6ff",
   "metadata": {
    "hidden": true
   },
   "source": [
    "## Word clouds for each cluster"
   ]
  },
  {
   "cell_type": "code",
   "execution_count": null,
   "id": "1f1b606a",
   "metadata": {
    "hidden": true
   },
   "outputs": [],
   "source": [
    "text = str(list(pca_df[km.labels_==1].index))\n",
    "\n",
    "# Create and generate a word cloud image:\n",
    "wordcloud = WordCloud(background_color=\"white\", max_words=5).generate(text)\n",
    "\n",
    "# Display the generated image:\n",
    "plt.imshow(wordcloud, interpolation='bilinear')\n",
    "plt.axis(\"off\")\n",
    "plt.show()"
   ]
  },
  {
   "cell_type": "code",
   "execution_count": null,
   "id": "034380e2",
   "metadata": {
    "hidden": true
   },
   "outputs": [],
   "source": [
    "text = str(list(pca_df[km.labels_==0].index))\n",
    "\n",
    "# Create and generate a word cloud image:\n",
    "wordcloud = WordCloud(background_color=\"white\", max_words=5).generate(text)\n",
    "\n",
    "# Display the generated image:\n",
    "plt.imshow(wordcloud, interpolation='bilinear')\n",
    "plt.axis(\"off\")\n",
    "plt.show()"
   ]
  },
  {
   "cell_type": "code",
   "execution_count": null,
   "id": "5518bd3a",
   "metadata": {
    "hidden": true
   },
   "outputs": [],
   "source": [
    "text = str(list(pca_df[km.labels_==2].index))\n",
    "\n",
    "# Create and generate a word cloud image:\n",
    "wordcloud = WordCloud(background_color=\"white\", max_words=10).generate(text)\n",
    "\n",
    "# Display the generated image:\n",
    "plt.imshow(wordcloud, interpolation='bilinear')\n",
    "plt.axis(\"off\")\n",
    "plt.show()"
   ]
  },
  {
   "cell_type": "code",
   "execution_count": null,
   "id": "7e703f79",
   "metadata": {
    "hidden": true
   },
   "outputs": [],
   "source": [
    "text = str(list(pca_df[km.labels_==3].index))\n",
    "\n",
    "# Create and generate a word cloud image:\n",
    "wordcloud = WordCloud(background_color=\"white\", max_words=10).generate(text)\n",
    "\n",
    "# Display the generated image:\n",
    "plt.imshow(wordcloud, interpolation='bilinear')\n",
    "plt.axis(\"off\")\n",
    "plt.show()"
   ]
  },
  {
   "cell_type": "code",
   "execution_count": null,
   "id": "38ece8d8",
   "metadata": {
    "hidden": true
   },
   "outputs": [],
   "source": [
    "text = str(list(pca_df[km.labels_==4].index))\n",
    "\n",
    "# Create and generate a word cloud image:\n",
    "wordcloud = WordCloud(background_color=\"white\", max_words=5).generate(text)\n",
    "\n",
    "# Display the generated image:\n",
    "plt.imshow(wordcloud, interpolation='bilinear')\n",
    "plt.axis(\"off\")\n",
    "plt.show()"
   ]
  }
 ],
 "metadata": {
  "kernelspec": {
   "display_name": "Python 3 (ipykernel)",
   "language": "python",
   "name": "python3"
  },
  "language_info": {
   "codemirror_mode": {
    "name": "ipython",
    "version": 3
   },
   "file_extension": ".py",
   "mimetype": "text/x-python",
   "name": "python",
   "nbconvert_exporter": "python",
   "pygments_lexer": "ipython3",
   "version": "3.8.12"
  },
  "toc": {
   "base_numbering": 1,
   "nav_menu": {
    "height": "388px",
    "width": "391px"
   },
   "number_sections": true,
   "sideBar": true,
   "skip_h1_title": false,
   "title_cell": "Table of Contents",
   "title_sidebar": "Contents",
   "toc_cell": false,
   "toc_position": {},
   "toc_section_display": true,
   "toc_window_display": false
  }
 },
 "nbformat": 4,
 "nbformat_minor": 5
}
