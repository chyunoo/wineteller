{
 "cells": [
  {
   "cell_type": "code",
   "execution_count": 1,
   "id": "fc460c49",
   "metadata": {},
   "outputs": [],
   "source": [
    "import pandas as pd"
   ]
  },
  {
   "cell_type": "code",
   "execution_count": 19,
   "id": "1841a337",
   "metadata": {},
   "outputs": [
    {
     "name": "stdout",
     "output_type": "stream",
     "text": [
      "(150930, 10)\n"
     ]
    }
   ],
   "source": [
    "file_location = '/Users/hyunoochang/code/chyunoo/wineteller/raw_data/winemag-data_first150k.csv'\n",
    "\n",
    "data = pd.read_csv(file_location, index_col='Unnamed: 0')\n",
    "print(data.shape)"
   ]
  },
  {
   "cell_type": "code",
   "execution_count": 20,
   "id": "69622257",
   "metadata": {},
   "outputs": [
    {
     "data": {
      "text/html": [
       "<div>\n",
       "<style scoped>\n",
       "    .dataframe tbody tr th:only-of-type {\n",
       "        vertical-align: middle;\n",
       "    }\n",
       "\n",
       "    .dataframe tbody tr th {\n",
       "        vertical-align: top;\n",
       "    }\n",
       "\n",
       "    .dataframe thead th {\n",
       "        text-align: right;\n",
       "    }\n",
       "</style>\n",
       "<table border=\"1\" class=\"dataframe\">\n",
       "  <thead>\n",
       "    <tr style=\"text-align: right;\">\n",
       "      <th></th>\n",
       "      <th>country</th>\n",
       "      <th>description</th>\n",
       "      <th>designation</th>\n",
       "      <th>points</th>\n",
       "      <th>price</th>\n",
       "      <th>province</th>\n",
       "      <th>region_1</th>\n",
       "      <th>region_2</th>\n",
       "      <th>variety</th>\n",
       "      <th>winery</th>\n",
       "    </tr>\n",
       "  </thead>\n",
       "  <tbody>\n",
       "    <tr>\n",
       "      <th>0</th>\n",
       "      <td>US</td>\n",
       "      <td>This tremendous 100% varietal wine hails from ...</td>\n",
       "      <td>Martha's Vineyard</td>\n",
       "      <td>96</td>\n",
       "      <td>235.0</td>\n",
       "      <td>California</td>\n",
       "      <td>Napa Valley</td>\n",
       "      <td>Napa</td>\n",
       "      <td>Cabernet Sauvignon</td>\n",
       "      <td>Heitz</td>\n",
       "    </tr>\n",
       "    <tr>\n",
       "      <th>1</th>\n",
       "      <td>Spain</td>\n",
       "      <td>Ripe aromas of fig, blackberry and cassis are ...</td>\n",
       "      <td>Carodorum Selección Especial Reserva</td>\n",
       "      <td>96</td>\n",
       "      <td>110.0</td>\n",
       "      <td>Northern Spain</td>\n",
       "      <td>Toro</td>\n",
       "      <td>NaN</td>\n",
       "      <td>Tinta de Toro</td>\n",
       "      <td>Bodega Carmen Rodríguez</td>\n",
       "    </tr>\n",
       "    <tr>\n",
       "      <th>2</th>\n",
       "      <td>US</td>\n",
       "      <td>Mac Watson honors the memory of a wine once ma...</td>\n",
       "      <td>Special Selected Late Harvest</td>\n",
       "      <td>96</td>\n",
       "      <td>90.0</td>\n",
       "      <td>California</td>\n",
       "      <td>Knights Valley</td>\n",
       "      <td>Sonoma</td>\n",
       "      <td>Sauvignon Blanc</td>\n",
       "      <td>Macauley</td>\n",
       "    </tr>\n",
       "    <tr>\n",
       "      <th>3</th>\n",
       "      <td>US</td>\n",
       "      <td>This spent 20 months in 30% new French oak, an...</td>\n",
       "      <td>Reserve</td>\n",
       "      <td>96</td>\n",
       "      <td>65.0</td>\n",
       "      <td>Oregon</td>\n",
       "      <td>Willamette Valley</td>\n",
       "      <td>Willamette Valley</td>\n",
       "      <td>Pinot Noir</td>\n",
       "      <td>Ponzi</td>\n",
       "    </tr>\n",
       "    <tr>\n",
       "      <th>4</th>\n",
       "      <td>France</td>\n",
       "      <td>This is the top wine from La Bégude, named aft...</td>\n",
       "      <td>La Brûlade</td>\n",
       "      <td>95</td>\n",
       "      <td>66.0</td>\n",
       "      <td>Provence</td>\n",
       "      <td>Bandol</td>\n",
       "      <td>NaN</td>\n",
       "      <td>Provence red blend</td>\n",
       "      <td>Domaine de la Bégude</td>\n",
       "    </tr>\n",
       "  </tbody>\n",
       "</table>\n",
       "</div>"
      ],
      "text/plain": [
       "  country                                        description  \\\n",
       "0      US  This tremendous 100% varietal wine hails from ...   \n",
       "1   Spain  Ripe aromas of fig, blackberry and cassis are ...   \n",
       "2      US  Mac Watson honors the memory of a wine once ma...   \n",
       "3      US  This spent 20 months in 30% new French oak, an...   \n",
       "4  France  This is the top wine from La Bégude, named aft...   \n",
       "\n",
       "                            designation  points  price        province  \\\n",
       "0                     Martha's Vineyard      96  235.0      California   \n",
       "1  Carodorum Selección Especial Reserva      96  110.0  Northern Spain   \n",
       "2         Special Selected Late Harvest      96   90.0      California   \n",
       "3                               Reserve      96   65.0          Oregon   \n",
       "4                            La Brûlade      95   66.0        Provence   \n",
       "\n",
       "            region_1           region_2             variety  \\\n",
       "0        Napa Valley               Napa  Cabernet Sauvignon   \n",
       "1               Toro                NaN       Tinta de Toro   \n",
       "2     Knights Valley             Sonoma     Sauvignon Blanc   \n",
       "3  Willamette Valley  Willamette Valley          Pinot Noir   \n",
       "4             Bandol                NaN  Provence red blend   \n",
       "\n",
       "                    winery  \n",
       "0                    Heitz  \n",
       "1  Bodega Carmen Rodríguez  \n",
       "2                 Macauley  \n",
       "3                    Ponzi  \n",
       "4     Domaine de la Bégude  "
      ]
     },
     "execution_count": 20,
     "metadata": {},
     "output_type": "execute_result"
    }
   ],
   "source": [
    "data.head(5)"
   ]
  },
  {
   "cell_type": "code",
   "execution_count": 21,
   "id": "9940876c",
   "metadata": {},
   "outputs": [],
   "source": [
    "labels = data['variety']\n",
    "descriptions = data['description']"
   ]
  },
  {
   "cell_type": "code",
   "execution_count": 22,
   "id": "5d6553b2",
   "metadata": {},
   "outputs": [
    {
     "name": "stdout",
     "output_type": "stream",
     "text": [
      "Cabernet Sauvignon   :   This tremendous 100% varietal wine hails from Oakville and was aged over three years in oak. Juicy red-cherry fruit and a compelling hint of caramel greet the palate, framed by elegant, fine tannins and a subtle minty tone in the background. Balanced and rewarding from start to finish, it has years ahead of it to develop further nuance. Enjoy 2022–2030.\n",
      "Tinta de Toro   :   Ripe aromas of fig, blackberry and cassis are softened and sweetened by a slathering of oaky chocolate and vanilla. This is full, layered, intense and cushioned on the palate, with rich flavors of chocolaty black fruits and baking spices. A toasty, everlasting finish is heady but ideally balanced. Drink through 2023.\n",
      "Sauvignon Blanc   :   Mac Watson honors the memory of a wine once made by his mother in this tremendously delicious, balanced and complex botrytised white. Dark gold in color, it layers toasted hazelnut, pear compote and orange peel flavors, reveling in the succulence of its 122 g/L of residual sugar.\n"
     ]
    }
   ],
   "source": [
    "print('{}   :   {}'.format(labels.tolist()[0], descriptions.tolist()[0]))\n",
    "print('{}   :   {}'.format(labels.tolist()[1], descriptions.tolist()[1]))\n",
    "print('{}   :   {}'.format(labels.tolist()[2], descriptions.tolist()[2]))"
   ]
  },
  {
   "cell_type": "code",
   "execution_count": 23,
   "id": "83e63343",
   "metadata": {},
   "outputs": [
    {
     "name": "stdout",
     "output_type": "stream",
     "text": [
      "Chardonnay                       14482\n",
      "Pinot Noir                       14291\n",
      "Cabernet Sauvignon               12800\n",
      "Red Blend                        10062\n",
      "Bordeaux-style Red Blend          7347\n",
      "Sauvignon Blanc                   6320\n",
      "Syrah                             5825\n",
      "Riesling                          5524\n",
      "Merlot                            5070\n",
      "Zinfandel                         3799\n",
      "Sangiovese                        3345\n",
      "Malbec                            3208\n",
      "White Blend                       2824\n",
      "Rosé                              2817\n",
      "Tempranillo                       2556\n",
      "Nebbiolo                          2241\n",
      "Portuguese Red                    2216\n",
      "Sparkling Blend                   2004\n",
      "Shiraz                            1970\n",
      "Corvina, Rondinella, Molinara     1682\n",
      "Rhône-style Red Blend             1505\n",
      "Pinot Gris                        1365\n",
      "Barbera                           1365\n",
      "Cabernet Franc                    1363\n",
      "Sangiovese Grosso                 1346\n",
      "Pinot Grigio                      1305\n",
      "Viognier                          1263\n",
      "Bordeaux-style White Blend        1261\n",
      "Champagne Blend                   1238\n",
      "Port                              1058\n",
      "Grüner Veltliner                  1042\n",
      "Gewürztraminer                     982\n",
      "Portuguese White                   941\n",
      "Petite Sirah                       897\n",
      "Carmenère                          761\n",
      "Tempranillo Blend                  756\n",
      "Chenin Blanc                       746\n",
      "Glera                              622\n",
      "Grenache                           603\n",
      "Prosecco                           594\n",
      "Albariño                           537\n",
      "Gamay                              535\n",
      "Pinot Blanc                        470\n",
      "Nero d'Avola                       458\n",
      "Moscato                            430\n",
      "Rhône-style White Blend            409\n",
      "Garganega                          402\n",
      "Garnacha                           401\n",
      "Torrontés                          367\n",
      "Dolcetto                           358\n",
      "Name: variety, dtype: int64\n"
     ]
    }
   ],
   "source": [
    "varietal_counts = labels.value_counts()\n",
    "print(varietal_counts[:50])"
   ]
  },
  {
   "cell_type": "code",
   "execution_count": 27,
   "id": "8eb1b119",
   "metadata": {},
   "outputs": [
    {
     "name": "stdout",
     "output_type": "stream",
     "text": [
      "Rhône-style Red Blend    1505\n",
      "Pinot Gris               1365\n",
      "Barbera                  1365\n",
      "Cabernet Franc           1363\n",
      "Sangiovese Grosso        1346\n",
      "                         ... \n",
      "Carignan-Syrah              1\n",
      "Premsal                     1\n",
      "Muskat                      1\n",
      "Syrah-Carignan              1\n",
      "Carnelian                   1\n",
      "Name: variety, Length: 612, dtype: int64\n"
     ]
    }
   ],
   "source": [
    "print(varietal_counts[:])"
   ]
  }
 ],
 "metadata": {
  "kernelspec": {
   "display_name": "Python 3 (ipykernel)",
   "language": "python",
   "name": "python3"
  },
  "language_info": {
   "codemirror_mode": {
    "name": "ipython",
    "version": 3
   },
   "file_extension": ".py",
   "mimetype": "text/x-python",
   "name": "python",
   "nbconvert_exporter": "python",
   "pygments_lexer": "ipython3",
   "version": "3.8.12"
  },
  "toc": {
   "base_numbering": 1,
   "nav_menu": {},
   "number_sections": true,
   "sideBar": true,
   "skip_h1_title": false,
   "title_cell": "Table of Contents",
   "title_sidebar": "Contents",
   "toc_cell": false,
   "toc_position": {},
   "toc_section_display": true,
   "toc_window_display": false
  }
 },
 "nbformat": 4,
 "nbformat_minor": 5
}
