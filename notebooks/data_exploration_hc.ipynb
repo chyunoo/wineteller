{
 "cells": [
  {
   "cell_type": "markdown",
   "id": "83224967",
   "metadata": {},
   "source": [
    "# Wineteller : Reminder\n",
    "\n",
    "- Build a wine recommender based on occasion rather than intrinsic wine characteristics \n",
    "\n",
    "- Deduce occasion from wine descriptors that can fit an atmosphere -> Body, Complexity, Finish \n",
    "\n",
    "- Use Computational Wine Wheel (mappings) to extract only words that are specific to Body, Complexity and Finish\n",
    "\n",
    "- Train a Word2Vec model -> clusterize with K-means"
   ]
  },
  {
   "cell_type": "markdown",
   "id": "87327eb1",
   "metadata": {},
   "source": [
    "# Data Exploration"
   ]
  },
  {
   "cell_type": "code",
   "execution_count": 41,
   "id": "9f3b4032",
   "metadata": {},
   "outputs": [],
   "source": [
    "#python\n",
    "import pandas as pd\n",
    "import string\n",
    "\n",
    "#compute cell-executing time\n",
    "from tqdm.notebook import trange, tqdm\n",
    "\n",
    "#text preprocessing\n",
    "from operator import itemgetter\n",
    "from nltk.tokenize import word_tokenize, sent_tokenize\n",
    "from nltk.stem import SnowballStemmer\n",
    "from nltk.corpus import stopwords\n",
    "from collections import Counter, OrderedDict\n",
    "\n",
    "#nlp modeling\n",
    "from gensim.models.phrases import Phrases, Phraser\n",
    "from gensim.models import Word2Vec\n",
    "from sklearn.feature_extraction.text import TfidfVectorizer\n",
    "\n",
    "#clusterization \n",
    "from sklearn.metrics.pairwise import cosine_similarity\n",
    "from sklearn.neighbors import NearestNeighbors\n",
    "from sklearn.decomposition import PCA\n",
    "from matplotlib import pyplot as plt\n",
    "from nltk.cluster import KMeansClusterer\n",
    "import nltk"
   ]
  },
  {
   "cell_type": "markdown",
   "id": "1dfd653c",
   "metadata": {},
   "source": [
    "## Load Data"
   ]
  },
  {
   "cell_type": "code",
   "execution_count": 2,
   "id": "476394fc",
   "metadata": {},
   "outputs": [
    {
     "name": "stdout",
     "output_type": "stream",
     "text": [
      "(150930, 10)\n"
     ]
    }
   ],
   "source": [
    "file_location = '/Users/hyunoochang/code/chyunoo/wineteller/raw_data/winemag-data_first150k.csv'\n",
    "\n",
    "data = pd.read_csv(file_location, index_col='Unnamed: 0')\n",
    "print(data.shape)"
   ]
  },
  {
   "cell_type": "code",
   "execution_count": 3,
   "id": "3de56afd",
   "metadata": {},
   "outputs": [
    {
     "data": {
      "text/html": [
       "<div>\n",
       "<style scoped>\n",
       "    .dataframe tbody tr th:only-of-type {\n",
       "        vertical-align: middle;\n",
       "    }\n",
       "\n",
       "    .dataframe tbody tr th {\n",
       "        vertical-align: top;\n",
       "    }\n",
       "\n",
       "    .dataframe thead th {\n",
       "        text-align: right;\n",
       "    }\n",
       "</style>\n",
       "<table border=\"1\" class=\"dataframe\">\n",
       "  <thead>\n",
       "    <tr style=\"text-align: right;\">\n",
       "      <th></th>\n",
       "      <th>country</th>\n",
       "      <th>description</th>\n",
       "      <th>designation</th>\n",
       "      <th>points</th>\n",
       "      <th>price</th>\n",
       "      <th>province</th>\n",
       "      <th>region_1</th>\n",
       "      <th>region_2</th>\n",
       "      <th>variety</th>\n",
       "      <th>winery</th>\n",
       "    </tr>\n",
       "  </thead>\n",
       "  <tbody>\n",
       "    <tr>\n",
       "      <th>0</th>\n",
       "      <td>US</td>\n",
       "      <td>This tremendous 100% varietal wine hails from ...</td>\n",
       "      <td>Martha's Vineyard</td>\n",
       "      <td>96</td>\n",
       "      <td>235.0</td>\n",
       "      <td>California</td>\n",
       "      <td>Napa Valley</td>\n",
       "      <td>Napa</td>\n",
       "      <td>Cabernet Sauvignon</td>\n",
       "      <td>Heitz</td>\n",
       "    </tr>\n",
       "    <tr>\n",
       "      <th>1</th>\n",
       "      <td>Spain</td>\n",
       "      <td>Ripe aromas of fig, blackberry and cassis are ...</td>\n",
       "      <td>Carodorum Selección Especial Reserva</td>\n",
       "      <td>96</td>\n",
       "      <td>110.0</td>\n",
       "      <td>Northern Spain</td>\n",
       "      <td>Toro</td>\n",
       "      <td>NaN</td>\n",
       "      <td>Tinta de Toro</td>\n",
       "      <td>Bodega Carmen Rodríguez</td>\n",
       "    </tr>\n",
       "    <tr>\n",
       "      <th>2</th>\n",
       "      <td>US</td>\n",
       "      <td>Mac Watson honors the memory of a wine once ma...</td>\n",
       "      <td>Special Selected Late Harvest</td>\n",
       "      <td>96</td>\n",
       "      <td>90.0</td>\n",
       "      <td>California</td>\n",
       "      <td>Knights Valley</td>\n",
       "      <td>Sonoma</td>\n",
       "      <td>Sauvignon Blanc</td>\n",
       "      <td>Macauley</td>\n",
       "    </tr>\n",
       "    <tr>\n",
       "      <th>3</th>\n",
       "      <td>US</td>\n",
       "      <td>This spent 20 months in 30% new French oak, an...</td>\n",
       "      <td>Reserve</td>\n",
       "      <td>96</td>\n",
       "      <td>65.0</td>\n",
       "      <td>Oregon</td>\n",
       "      <td>Willamette Valley</td>\n",
       "      <td>Willamette Valley</td>\n",
       "      <td>Pinot Noir</td>\n",
       "      <td>Ponzi</td>\n",
       "    </tr>\n",
       "    <tr>\n",
       "      <th>4</th>\n",
       "      <td>France</td>\n",
       "      <td>This is the top wine from La Bégude, named aft...</td>\n",
       "      <td>La Brûlade</td>\n",
       "      <td>95</td>\n",
       "      <td>66.0</td>\n",
       "      <td>Provence</td>\n",
       "      <td>Bandol</td>\n",
       "      <td>NaN</td>\n",
       "      <td>Provence red blend</td>\n",
       "      <td>Domaine de la Bégude</td>\n",
       "    </tr>\n",
       "  </tbody>\n",
       "</table>\n",
       "</div>"
      ],
      "text/plain": [
       "  country                                        description  \\\n",
       "0      US  This tremendous 100% varietal wine hails from ...   \n",
       "1   Spain  Ripe aromas of fig, blackberry and cassis are ...   \n",
       "2      US  Mac Watson honors the memory of a wine once ma...   \n",
       "3      US  This spent 20 months in 30% new French oak, an...   \n",
       "4  France  This is the top wine from La Bégude, named aft...   \n",
       "\n",
       "                            designation  points  price        province  \\\n",
       "0                     Martha's Vineyard      96  235.0      California   \n",
       "1  Carodorum Selección Especial Reserva      96  110.0  Northern Spain   \n",
       "2         Special Selected Late Harvest      96   90.0      California   \n",
       "3                               Reserve      96   65.0          Oregon   \n",
       "4                            La Brûlade      95   66.0        Provence   \n",
       "\n",
       "            region_1           region_2             variety  \\\n",
       "0        Napa Valley               Napa  Cabernet Sauvignon   \n",
       "1               Toro                NaN       Tinta de Toro   \n",
       "2     Knights Valley             Sonoma     Sauvignon Blanc   \n",
       "3  Willamette Valley  Willamette Valley          Pinot Noir   \n",
       "4             Bandol                NaN  Provence red blend   \n",
       "\n",
       "                    winery  \n",
       "0                    Heitz  \n",
       "1  Bodega Carmen Rodríguez  \n",
       "2                 Macauley  \n",
       "3                    Ponzi  \n",
       "4     Domaine de la Bégude  "
      ]
     },
     "execution_count": 3,
     "metadata": {},
     "output_type": "execute_result"
    }
   ],
   "source": [
    "data.head(5)"
   ]
  },
  {
   "cell_type": "code",
   "execution_count": 4,
   "id": "8f913fee",
   "metadata": {},
   "outputs": [],
   "source": [
    "data=data[:10000]"
   ]
  },
  {
   "cell_type": "markdown",
   "id": "831c3fdd",
   "metadata": {
    "heading_collapsed": true
   },
   "source": [
    "## Clean Data"
   ]
  },
  {
   "cell_type": "code",
   "execution_count": 5,
   "id": "60f2a8c1",
   "metadata": {
    "hidden": true
   },
   "outputs": [
    {
     "data": {
      "text/plain": [
       "country           2\n",
       "description       0\n",
       "designation    2929\n",
       "points            0\n",
       "price           539\n",
       "province          2\n",
       "region_1       1560\n",
       "region_2       6126\n",
       "variety           0\n",
       "winery            0\n",
       "dtype: int64"
      ]
     },
     "execution_count": 5,
     "metadata": {},
     "output_type": "execute_result"
    }
   ],
   "source": [
    "data.isna().sum()"
   ]
  },
  {
   "cell_type": "code",
   "execution_count": 6,
   "id": "a0d8b5db",
   "metadata": {
    "hidden": true
   },
   "outputs": [
    {
     "data": {
      "text/plain": [
       "(9392, 10)"
      ]
     },
     "execution_count": 6,
     "metadata": {},
     "output_type": "execute_result"
    }
   ],
   "source": [
    "data = data.drop_duplicates()\n",
    "data.shape"
   ]
  },
  {
   "cell_type": "markdown",
   "id": "a883a02e",
   "metadata": {},
   "source": [
    "# Data Preprocessing"
   ]
  },
  {
   "cell_type": "code",
   "execution_count": 7,
   "id": "bed174d3",
   "metadata": {},
   "outputs": [
    {
     "data": {
      "application/vnd.jupyter.widget-view+json": {
       "model_id": "c2271325c7bf423d970543298ea766c2",
       "version_major": 2,
       "version_minor": 0
      },
      "text/plain": [
       "  0%|          | 0/9392 [00:00<?, ?it/s]"
      ]
     },
     "metadata": {},
     "output_type": "display_data"
    },
    {
     "name": "stdout",
     "output_type": "stream",
     "text": [
      "CPU times: user 2.17 s, sys: 140 ms, total: 2.31 s\n",
      "Wall time: 3.84 s\n"
     ]
    }
   ],
   "source": [
    "%%time\n",
    "#tokenization : reviews -> sentences\n",
    "\n",
    "reviews_list = list(data['description'])\n",
    "reviews_list = [str(r) for r in reviews_list]\n",
    "\n",
    "sentences_tokenized=[]\n",
    "for review in tqdm(reviews_list) :\n",
    "    sentences_tokenized.append(sent_tokenize(review))\n",
    "sentences_tokenized = [item for sublist in sentences_tokenized for item in sublist]"
   ]
  },
  {
   "cell_type": "code",
   "execution_count": 8,
   "id": "f8051fb2",
   "metadata": {},
   "outputs": [
    {
     "data": {
      "text/plain": [
       "25680"
      ]
     },
     "execution_count": 8,
     "metadata": {},
     "output_type": "execute_result"
    }
   ],
   "source": [
    "len(sentences_tokenized)"
   ]
  },
  {
   "cell_type": "code",
   "execution_count": 9,
   "id": "4c493e58",
   "metadata": {},
   "outputs": [
    {
     "data": {
      "text/plain": [
       "['This tremendous 100% varietal wine hails from Oakville and was aged over three years in oak.']"
      ]
     },
     "execution_count": 9,
     "metadata": {},
     "output_type": "execute_result"
    }
   ],
   "source": [
    "sentences_tokenized[:1]"
   ]
  },
  {
   "cell_type": "code",
   "execution_count": 10,
   "id": "53e7fd87",
   "metadata": {},
   "outputs": [
    {
     "data": {
      "application/vnd.jupyter.widget-view+json": {
       "model_id": "dbae362c3c0e446f9f71660422cc1e17",
       "version_major": 2,
       "version_minor": 0
      },
      "text/plain": [
       "  0%|          | 0/25680 [00:00<?, ?it/s]"
      ]
     },
     "metadata": {},
     "output_type": "display_data"
    },
    {
     "name": "stdout",
     "output_type": "stream",
     "text": [
      "CPU times: user 27.7 s, sys: 1.15 s, total: 28.8 s\n",
      "Wall time: 53.9 s\n"
     ]
    }
   ],
   "source": [
    "%%time\n",
    "#normalization : remove stopwords and punctuation + tokenize sentences into words\n",
    "\n",
    "stop_words = set(stopwords.words('english')) \n",
    "\n",
    "punctuation_table = str.maketrans({key: None for key in string.punctuation})\n",
    "sno = SnowballStemmer('english')\n",
    "\n",
    "def normalize_text(raw_text):\n",
    "    try:\n",
    "        word_list = word_tokenize(raw_text)\n",
    "        normalized_sentence = []\n",
    "        for w in word_list:\n",
    "            try:\n",
    "                w = str(w)\n",
    "                lower_case_word = str.lower(w)\n",
    "                stemmed_word = sno.stem(lower_case_word)\n",
    "                no_punctuation = stemmed_word.translate(punctuation_table)\n",
    "                if len(no_punctuation) > 1 and no_punctuation not in stop_words:\n",
    "                    normalized_sentence.append(no_punctuation)\n",
    "            except:\n",
    "                continue\n",
    "        return normalized_sentence\n",
    "    except:\n",
    "        return ''\n",
    "\n",
    "sentence_sample = sentences_tokenized[:10]\n",
    "normalized_sentences = []\n",
    "for s in tqdm(sentences_tokenized) :\n",
    "    normalized_text = normalize_text(s)\n",
    "    normalized_sentences.append(normalized_text)"
   ]
  },
  {
   "cell_type": "code",
   "execution_count": 11,
   "id": "f3531a48",
   "metadata": {},
   "outputs": [
    {
     "data": {
      "text/plain": [
       "[['tremend',\n",
       "  '100',\n",
       "  'variet',\n",
       "  'wine',\n",
       "  'hail',\n",
       "  'oakvill',\n",
       "  'age',\n",
       "  'three',\n",
       "  'year',\n",
       "  'oak']]"
      ]
     },
     "execution_count": 11,
     "metadata": {},
     "output_type": "execute_result"
    }
   ],
   "source": [
    "normalized_sentences[:1]"
   ]
  },
  {
   "cell_type": "code",
   "execution_count": 12,
   "id": "864f9044",
   "metadata": {},
   "outputs": [
    {
     "data": {
      "application/vnd.jupyter.widget-view+json": {
       "model_id": "6183fae68d4e4e5b80858feaae9d3ce7",
       "version_major": 2,
       "version_minor": 0
      },
      "text/plain": [
       "  0%|          | 0/25680 [00:00<?, ?it/s]"
      ]
     },
     "metadata": {},
     "output_type": "display_data"
    },
    {
     "name": "stdout",
     "output_type": "stream",
     "text": [
      "CPU times: user 4.7 s, sys: 292 ms, total: 5 s\n",
      "Wall time: 9.88 s\n"
     ]
    }
   ],
   "source": [
    "%%time \n",
    "#retrieve bi-grams and tri-grams from normalized sentences\n",
    "\n",
    "phrases = Phrases(normalized_sentences)\n",
    "phrases = Phrases(phrases[normalized_sentences])\n",
    "\n",
    "ngrams = Phraser(phrases)\n",
    "\n",
    "phrased_sentences = []\n",
    "for sent in tqdm(normalized_sentences):\n",
    "    phrased_sentence = ngrams[sent]\n",
    "    phrased_sentences.append(phrased_sentence)\n",
    "\n",
    "full_list_words = [item for sublist in phrased_sentences for item in sublist]"
   ]
  },
  {
   "cell_type": "code",
   "execution_count": 13,
   "id": "1b98c122",
   "metadata": {},
   "outputs": [
    {
     "data": {
      "text/plain": [
       "[['tremend',\n",
       "  '100_variet',\n",
       "  'wine',\n",
       "  'hail',\n",
       "  'oakvill',\n",
       "  'age',\n",
       "  'three_year',\n",
       "  'oak']]"
      ]
     },
     "execution_count": 13,
     "metadata": {},
     "output_type": "execute_result"
    }
   ],
   "source": [
    "phrased_sentences[:1]"
   ]
  },
  {
   "cell_type": "code",
   "execution_count": 14,
   "id": "d7590b3e",
   "metadata": {},
   "outputs": [
    {
     "data": {
      "text/plain": [
       "['tremend', '100_variet', 'wine', 'hail', 'oakvill']"
      ]
     },
     "execution_count": 14,
     "metadata": {},
     "output_type": "execute_result"
    }
   ],
   "source": [
    "full_list_words[:5]"
   ]
  },
  {
   "cell_type": "code",
   "execution_count": 15,
   "id": "ce67a6d6",
   "metadata": {},
   "outputs": [],
   "source": [
    "#most common 5000 words in corpus\n",
    "\n",
    "word_counts = Counter(full_list_words)\n",
    "sorted_counts = OrderedDict(word_counts.most_common(5000))\n",
    "counter_df = pd.DataFrame.from_dict(sorted_counts, orient='index')\n",
    "top_5000_words = counter_df.head(5000)\n",
    "counter_df.to_csv('top_5000_descriptors.csv')"
   ]
  },
  {
   "cell_type": "code",
   "execution_count": 16,
   "id": "74af5e27",
   "metadata": {},
   "outputs": [
    {
     "data": {
      "text/html": [
       "<div>\n",
       "<style scoped>\n",
       "    .dataframe tbody tr th:only-of-type {\n",
       "        vertical-align: middle;\n",
       "    }\n",
       "\n",
       "    .dataframe tbody tr th {\n",
       "        vertical-align: top;\n",
       "    }\n",
       "\n",
       "    .dataframe thead th {\n",
       "        text-align: right;\n",
       "    }\n",
       "</style>\n",
       "<table border=\"1\" class=\"dataframe\">\n",
       "  <thead>\n",
       "    <tr style=\"text-align: right;\">\n",
       "      <th></th>\n",
       "      <th>0</th>\n",
       "    </tr>\n",
       "  </thead>\n",
       "  <tbody>\n",
       "    <tr>\n",
       "      <th>wine</th>\n",
       "      <td>5753</td>\n",
       "    </tr>\n",
       "    <tr>\n",
       "      <th>flavor</th>\n",
       "      <td>4931</td>\n",
       "    </tr>\n",
       "    <tr>\n",
       "      <th>aroma</th>\n",
       "      <td>3408</td>\n",
       "    </tr>\n",
       "    <tr>\n",
       "      <th>fruit</th>\n",
       "      <td>3279</td>\n",
       "    </tr>\n",
       "    <tr>\n",
       "      <th>finish</th>\n",
       "      <td>3046</td>\n",
       "    </tr>\n",
       "  </tbody>\n",
       "</table>\n",
       "</div>"
      ],
      "text/plain": [
       "           0\n",
       "wine    5753\n",
       "flavor  4931\n",
       "aroma   3408\n",
       "fruit   3279\n",
       "finish  3046"
      ]
     },
     "execution_count": 16,
     "metadata": {},
     "output_type": "execute_result"
    }
   ],
   "source": [
    "top_5000_words.head()"
   ]
  },
  {
   "cell_type": "code",
   "execution_count": 17,
   "id": "46fb1c23",
   "metadata": {},
   "outputs": [
    {
     "data": {
      "text/html": [
       "<div>\n",
       "<style scoped>\n",
       "    .dataframe tbody tr th:only-of-type {\n",
       "        vertical-align: middle;\n",
       "    }\n",
       "\n",
       "    .dataframe tbody tr th {\n",
       "        vertical-align: top;\n",
       "    }\n",
       "\n",
       "    .dataframe thead th {\n",
       "        text-align: right;\n",
       "    }\n",
       "</style>\n",
       "<table border=\"1\" class=\"dataframe\">\n",
       "  <thead>\n",
       "    <tr style=\"text-align: right;\">\n",
       "      <th></th>\n",
       "      <th>level_3</th>\n",
       "      <th>level_2</th>\n",
       "      <th>level_1</th>\n",
       "    </tr>\n",
       "    <tr>\n",
       "      <th>raw descriptor</th>\n",
       "      <th></th>\n",
       "      <th></th>\n",
       "      <th></th>\n",
       "    </tr>\n",
       "  </thead>\n",
       "  <tbody>\n",
       "    <tr>\n",
       "      <th>abras</th>\n",
       "      <td>abrasive</td>\n",
       "      <td>high_tannin</td>\n",
       "      <td>tannin</td>\n",
       "    </tr>\n",
       "    <tr>\n",
       "      <th>acacia</th>\n",
       "      <td>acacia</td>\n",
       "      <td>flowery</td>\n",
       "      <td>flower</td>\n",
       "    </tr>\n",
       "    <tr>\n",
       "      <th>acacia_flower</th>\n",
       "      <td>acacia</td>\n",
       "      <td>flowery</td>\n",
       "      <td>flower</td>\n",
       "    </tr>\n",
       "    <tr>\n",
       "      <th>aciddriven</th>\n",
       "      <td>acid_driven</td>\n",
       "      <td>high_acid</td>\n",
       "      <td>acid</td>\n",
       "    </tr>\n",
       "    <tr>\n",
       "      <th>aggress</th>\n",
       "      <td>aggressive</td>\n",
       "      <td>high_acid</td>\n",
       "      <td>acid</td>\n",
       "    </tr>\n",
       "  </tbody>\n",
       "</table>\n",
       "</div>"
      ],
      "text/plain": [
       "                    level_3      level_2 level_1\n",
       "raw descriptor                                  \n",
       "abras              abrasive  high_tannin  tannin\n",
       "acacia               acacia      flowery  flower\n",
       "acacia_flower        acacia      flowery  flower\n",
       "aciddriven      acid_driven    high_acid    acid\n",
       "aggress          aggressive    high_acid    acid"
      ]
     },
     "execution_count": 17,
     "metadata": {},
     "output_type": "execute_result"
    }
   ],
   "source": [
    "#load wine descriptor_mapping\n",
    "map_location = '/Users/hyunoochang/code/chyunoo/wineteller/raw_data/descriptor_mapping.csv'\n",
    "\n",
    "descriptor_mapping = pd.read_csv(map_location).set_index('raw descriptor')\n",
    "descriptor_mapping.head()"
   ]
  },
  {
   "cell_type": "code",
   "execution_count": 18,
   "id": "67dd4dd8",
   "metadata": {},
   "outputs": [],
   "source": [
    "#occasion 'related' features : body, complexity, finish(B.C.F) -> more body = more intimacy, less body = more energy etc\n",
    "\n",
    "descriptor_list = ['body', 'complexity', 'finish']\n",
    "filtered_descriptor_mapping = descriptor_mapping[descriptor_mapping['level_1'].isin(descriptor_list)]"
   ]
  },
  {
   "cell_type": "code",
   "execution_count": 19,
   "id": "ff73fda9",
   "metadata": {},
   "outputs": [
    {
     "data": {
      "text/html": [
       "<div>\n",
       "<style scoped>\n",
       "    .dataframe tbody tr th:only-of-type {\n",
       "        vertical-align: middle;\n",
       "    }\n",
       "\n",
       "    .dataframe tbody tr th {\n",
       "        vertical-align: top;\n",
       "    }\n",
       "\n",
       "    .dataframe thead th {\n",
       "        text-align: right;\n",
       "    }\n",
       "</style>\n",
       "<table border=\"1\" class=\"dataframe\">\n",
       "  <thead>\n",
       "    <tr style=\"text-align: right;\">\n",
       "      <th></th>\n",
       "      <th>level_3</th>\n",
       "      <th>level_2</th>\n",
       "      <th>level_1</th>\n",
       "    </tr>\n",
       "    <tr>\n",
       "      <th>raw descriptor</th>\n",
       "      <th></th>\n",
       "      <th></th>\n",
       "      <th></th>\n",
       "    </tr>\n",
       "  </thead>\n",
       "  <tbody>\n",
       "    <tr>\n",
       "      <th>airi</th>\n",
       "      <td>airy</td>\n",
       "      <td>light_bodied</td>\n",
       "      <td>body</td>\n",
       "    </tr>\n",
       "    <tr>\n",
       "      <th>big_bold</th>\n",
       "      <td>bold</td>\n",
       "      <td>full_bodied</td>\n",
       "      <td>body</td>\n",
       "    </tr>\n",
       "    <tr>\n",
       "      <th>bullish</th>\n",
       "      <td>bullish</td>\n",
       "      <td>full_bodied</td>\n",
       "      <td>body</td>\n",
       "    </tr>\n",
       "    <tr>\n",
       "      <th>blocki</th>\n",
       "      <td>chunky</td>\n",
       "      <td>full_bodied</td>\n",
       "      <td>body</td>\n",
       "    </tr>\n",
       "    <tr>\n",
       "      <th>chunki</th>\n",
       "      <td>chunky</td>\n",
       "      <td>full_bodied</td>\n",
       "      <td>body</td>\n",
       "    </tr>\n",
       "  </tbody>\n",
       "</table>\n",
       "</div>"
      ],
      "text/plain": [
       "                level_3       level_2 level_1\n",
       "raw descriptor                               \n",
       "airi               airy  light_bodied    body\n",
       "big_bold           bold   full_bodied    body\n",
       "bullish         bullish   full_bodied    body\n",
       "blocki           chunky   full_bodied    body\n",
       "chunki           chunky   full_bodied    body"
      ]
     },
     "execution_count": 19,
     "metadata": {},
     "output_type": "execute_result"
    }
   ],
   "source": [
    "filtered_descriptor_mapping.head()"
   ]
  },
  {
   "cell_type": "code",
   "execution_count": 20,
   "id": "891dbcc7",
   "metadata": {},
   "outputs": [
    {
     "data": {
      "text/plain": [
       "body          57\n",
       "complexity    16\n",
       "finish         6\n",
       "Name: level_1, dtype: int64"
      ]
     },
     "execution_count": 20,
     "metadata": {},
     "output_type": "execute_result"
    }
   ],
   "source": [
    "#number of raw descriptors per features \n",
    "filtered_descriptor_mapping[\"level_1\"].value_counts()"
   ]
  },
  {
   "cell_type": "code",
   "execution_count": 21,
   "id": "8f4e5b18",
   "metadata": {},
   "outputs": [
    {
     "data": {
      "text/plain": [
       "['airi',\n",
       " 'big_bold',\n",
       " 'bullish',\n",
       " 'blocki',\n",
       " 'chunki',\n",
       " 'solid_chunki',\n",
       " 'clampi',\n",
       " 'close',\n",
       " 'complex',\n",
       " 'complic',\n",
       " 'dainti',\n",
       " 'deep',\n",
       " 'depth',\n",
       " 'eas',\n",
       " 'easi_sip',\n",
       " 'eleg',\n",
       " 'expans',\n",
       " 'extract',\n",
       " 'feminin',\n",
       " 'finess',\n",
       " 'ampl_weight',\n",
       " 'bold',\n",
       " 'full_bodi',\n",
       " 'fullbodi',\n",
       " 'soupi',\n",
       " 'weighti',\n",
       " 'hearti',\n",
       " 'heavi',\n",
       " 'heavier',\n",
       " 'heavyweight',\n",
       " 'lavish',\n",
       " 'rather_lean',\n",
       " 'length',\n",
       " 'lengthi',\n",
       " 'long_mouthwat',\n",
       " 'longlast',\n",
       " 'lightest',\n",
       " 'light',\n",
       " 'light_bodi',\n",
       " 'lightbodi',\n",
       " 'lighter',\n",
       " 'lighter_style',\n",
       " 'lightfoot',\n",
       " 'lightweight',\n",
       " 'thin',\n",
       " 'linear',\n",
       " 'straightforward',\n",
       " 'lush',\n",
       " 'luxuri',\n",
       " 'mass',\n",
       " 'medium_bodi',\n",
       " 'medium_fullbodi',\n",
       " 'medium_weight',\n",
       " 'mediumbodi',\n",
       " 'mediumweight',\n",
       " 'medium_length',\n",
       " 'mediumlength_finish',\n",
       " 'modest',\n",
       " 'onedimension',\n",
       " 'opul',\n",
       " 'plump',\n",
       " 'quaffer',\n",
       " 'refin',\n",
       " 'rich',\n",
       " 'richer',\n",
       " 'robust',\n",
       " 'uncompl',\n",
       " 'stout',\n",
       " 'sturdi',\n",
       " 'succul',\n",
       " 'superrich',\n",
       " 'syrup',\n",
       " 'syrupi',\n",
       " 'thick',\n",
       " 'unoak',\n",
       " 'viscos',\n",
       " 'viscous',\n",
       " 'voluptu',\n",
       " 'weight']"
      ]
     },
     "execution_count": 21,
     "metadata": {},
     "output_type": "execute_result"
    }
   ],
   "source": [
    "#list of all raw descriptors (body, finish, complexity)\n",
    "list(filtered_descriptor_mapping.index)"
   ]
  },
  {
   "cell_type": "code",
   "execution_count": 22,
   "id": "9e2d5aa2",
   "metadata": {},
   "outputs": [
    {
     "data": {
      "application/vnd.jupyter.widget-view+json": {
       "model_id": "b5f8e81ce06840c697fece0f50c4b646",
       "version_major": 2,
       "version_minor": 0
      },
      "text/plain": [
       "  0%|          | 0/25680 [00:00<?, ?it/s]"
      ]
     },
     "metadata": {},
     "output_type": "display_data"
    },
    {
     "name": "stdout",
     "output_type": "stream",
     "text": [
      "CPU times: user 6.8 s, sys: 290 ms, total: 7.09 s\n",
      "Wall time: 17.8 s\n"
     ]
    }
   ],
   "source": [
    "%%time\n",
    "#apply mapping on each word of each sentence\n",
    "\n",
    "def return_mapped_descriptor(word):\n",
    "    if word in list(filtered_descriptor_mapping.index):\n",
    "        normalized_word = filtered_descriptor_mapping['level_3'][word]\n",
    "        return normalized_word\n",
    "    else:\n",
    "        return \"\"\n",
    "\n",
    "normalized_sentences = []\n",
    "for sent in tqdm(phrased_sentences):\n",
    "    normalized_sentence = []\n",
    "    for word in sent:\n",
    "        normalized_word = return_mapped_descriptor(word)\n",
    "        if normalized_word != \"\" :\n",
    "            normalized_sentence.append(str(normalized_word))\n",
    "        else :\n",
    "            pass\n",
    "    normalized_sentences.append(normalized_sentence)"
   ]
  },
  {
   "cell_type": "code",
   "execution_count": 23,
   "id": "94cfe7b1",
   "metadata": {},
   "outputs": [
    {
     "data": {
      "text/plain": [
       "[[], ['elegant'], [], [], [], ['rich'], [], [], ['complex'], ['succulent']]"
      ]
     },
     "execution_count": 23,
     "metadata": {},
     "output_type": "execute_result"
    }
   ],
   "source": [
    "normalized_sentences[:10]"
   ]
  },
  {
   "cell_type": "markdown",
   "id": "0272fdb7",
   "metadata": {},
   "source": [
    "# Model"
   ]
  },
  {
   "cell_type": "markdown",
   "id": "669566cc",
   "metadata": {},
   "source": [
    "## Word embeddings with Word2Vec"
   ]
  },
  {
   "cell_type": "code",
   "execution_count": 24,
   "id": "59eef180",
   "metadata": {},
   "outputs": [
    {
     "name": "stdout",
     "output_type": "stream",
     "text": [
      "Word2Vec<vocab=50, vector_size=300, alpha=0.025>\n",
      "CPU times: user 895 ms, sys: 28.6 ms, total: 923 ms\n",
      "Wall time: 1 s\n"
     ]
    }
   ],
   "source": [
    "%%time\n",
    "#fit Word2Vec model into corpus \n",
    "model = Word2Vec(normalized_sentences, vector_size=300, min_count=1, epochs=15)\n",
    "print(model)\n",
    "\n",
    "model.save('model.bin')"
   ]
  },
  {
   "cell_type": "code",
   "execution_count": 25,
   "id": "e1bdb9b8",
   "metadata": {},
   "outputs": [
    {
     "data": {
      "text/plain": [
       "['rich',\n",
       " 'light_bodied',\n",
       " 'full_bodied',\n",
       " 'complex',\n",
       " 'medium_bodied',\n",
       " 'elegant',\n",
       " 'depth',\n",
       " 'weight',\n",
       " 'closed',\n",
       " 'heavy',\n",
       " 'lush',\n",
       " 'chunky',\n",
       " 'low_complexity',\n",
       " 'thick',\n",
       " 'plump',\n",
       " 'robust',\n",
       " 'length',\n",
       " 'hearty',\n",
       " 'extracted',\n",
       " 'succulent',\n",
       " 'opulent',\n",
       " 'modest',\n",
       " 'syrupy',\n",
       " 'linear',\n",
       " 'lengthy',\n",
       " 'refined',\n",
       " 'finessed',\n",
       " 'viscous',\n",
       " 'luxurious',\n",
       " 'lavish',\n",
       " 'expansive',\n",
       " 'light',\n",
       " 'bold',\n",
       " 'voluptuous',\n",
       " 'sturdy',\n",
       " 'one_dimensional',\n",
       " 'simple',\n",
       " 'easy',\n",
       " 'lean',\n",
       " 'clampy',\n",
       " 'airy',\n",
       " 'dainty',\n",
       " 'quaffer',\n",
       " 'unoaked',\n",
       " 'stout',\n",
       " 'complicated',\n",
       " 'bullish',\n",
       " 'super_rich',\n",
       " 'mass',\n",
       " 'feminine']"
      ]
     },
     "execution_count": 25,
     "metadata": {},
     "output_type": "execute_result"
    }
   ],
   "source": [
    "#list of vocab learned by model\n",
    "model.wv.index_to_key"
   ]
  },
  {
   "cell_type": "code",
   "execution_count": 26,
   "id": "8ca9cbd3",
   "metadata": {},
   "outputs": [
    {
     "data": {
      "text/plain": [
       "[('full_bodied', 0.6375356912612915),\n",
       " ('rich', 0.633638322353363),\n",
       " ('elegant', 0.5696607232093811),\n",
       " ('syrupy', 0.5197229385375977),\n",
       " ('medium_bodied', 0.4964926540851593),\n",
       " ('complex', 0.481254518032074),\n",
       " ('thick', 0.4690910577774048),\n",
       " ('heavy', 0.45315712690353394),\n",
       " ('weight', 0.45136749744415283),\n",
       " ('length', 0.4176982641220093)]"
      ]
     },
     "execution_count": 26,
     "metadata": {},
     "output_type": "execute_result"
    }
   ],
   "source": [
    "#example \n",
    "model.wv.most_similar(positive='light_bodied', topn=10)"
   ]
  },
  {
   "cell_type": "markdown",
   "id": "1658f84b",
   "metadata": {},
   "source": [
    "## Merge with dataset"
   ]
  },
  {
   "cell_type": "code",
   "execution_count": 27,
   "id": "0eb67dab",
   "metadata": {},
   "outputs": [
    {
     "data": {
      "application/vnd.jupyter.widget-view+json": {
       "model_id": "caedd33906b84e9aa706a41f83058910",
       "version_major": 2,
       "version_minor": 0
      },
      "text/plain": [
       "  0%|          | 0/9392 [00:00<?, ?it/s]"
      ]
     },
     "metadata": {},
     "output_type": "display_data"
    },
    {
     "name": "stdout",
     "output_type": "stream",
     "text": [
      "CPU times: user 28.4 s, sys: 890 ms, total: 29.3 s\n",
      "Wall time: 34.5 s\n"
     ]
    }
   ],
   "source": [
    "%%time\n",
    "wine_reviews = list(data['description'])\n",
    "\n",
    "def return_descriptor_from_mapping(word):\n",
    "    if word in list(filtered_descriptor_mapping.index):\n",
    "        descriptor_to_return = filtered_descriptor_mapping['level_3'][word]\n",
    "        return descriptor_to_return\n",
    "\n",
    "descriptorized_reviews = []\n",
    "for review in tqdm(wine_reviews):\n",
    "    normalized_review = normalize_text(review)\n",
    "    phrased_review = ngrams[normalized_review]\n",
    "    descriptors_only = [return_descriptor_from_mapping(word) for word in phrased_review]\n",
    "    no_nones = [str(d) for d in descriptors_only if d is not None]\n",
    "    descriptorized_review = ' '.join(no_nones)\n",
    "    descriptorized_reviews.append(descriptorized_review)"
   ]
  },
  {
   "cell_type": "code",
   "execution_count": 28,
   "id": "3a053803",
   "metadata": {},
   "outputs": [
    {
     "data": {
      "text/plain": [
       "['elegant', 'rich', 'complex succulent', '', 'rich']"
      ]
     },
     "execution_count": 28,
     "metadata": {},
     "output_type": "execute_result"
    }
   ],
   "source": [
    "descriptorized_reviews[:5]"
   ]
  },
  {
   "cell_type": "code",
   "execution_count": 29,
   "id": "d82ce390",
   "metadata": {},
   "outputs": [
    {
     "name": "stdout",
     "output_type": "stream",
     "text": [
      "CPU times: user 93.9 ms, sys: 7.1 ms, total: 101 ms\n",
      "Wall time: 197 ms\n"
     ]
    },
    {
     "name": "stderr",
     "output_type": "stream",
     "text": [
      "/Users/hyunoochang/.pyenv/versions/3.8.12/envs/wineteller/lib/python3.8/site-packages/sklearn/utils/deprecation.py:87: FutureWarning: Function get_feature_names is deprecated; get_feature_names is deprecated in 1.0 and will be removed in 1.2. Please use get_feature_names_out instead.\n",
      "  warnings.warn(msg, category=FutureWarning)\n"
     ]
    }
   ],
   "source": [
    "%%time\n",
    "\n",
    "#apply Tfidf weights and compute wine review vectors from word vectors\n",
    "\n",
    "vectorizer = TfidfVectorizer()\n",
    "X = vectorizer.fit(descriptorized_reviews)\n",
    "\n",
    "dict_of_tfidf_weightings = dict(zip(X.get_feature_names(), X.idf_))"
   ]
  },
  {
   "cell_type": "code",
   "execution_count": 30,
   "id": "61d28453",
   "metadata": {},
   "outputs": [
    {
     "data": {
      "application/vnd.jupyter.widget-view+json": {
       "model_id": "8f682cdfa3d44358979e3b7a7011db3a",
       "version_major": 2,
       "version_minor": 0
      },
      "text/plain": [
       "  0%|          | 0/9392 [00:00<?, ?it/s]"
      ]
     },
     "metadata": {},
     "output_type": "display_data"
    },
    {
     "name": "stdout",
     "output_type": "stream",
     "text": [
      "CPU times: user 392 ms, sys: 39.3 ms, total: 432 ms\n",
      "Wall time: 758 ms\n"
     ]
    }
   ],
   "source": [
    "%%time\n",
    "wine_review_vectors = []\n",
    "for d in tqdm(descriptorized_reviews):\n",
    "    descriptor_count = 0\n",
    "    weighted_review_terms = []\n",
    "    terms = d.split(' ')\n",
    "    for term in terms:\n",
    "        if term in dict_of_tfidf_weightings.keys():\n",
    "            tfidf_weighting = dict_of_tfidf_weightings[term]\n",
    "            word_vector = model.wv.get_vector(term).reshape(1, 300)\n",
    "            weighted_word_vector = tfidf_weighting * word_vector\n",
    "            weighted_review_terms.append(weighted_word_vector)\n",
    "            descriptor_count += 1\n",
    "        else:\n",
    "            continue\n",
    "    try:\n",
    "        review_vector = sum(weighted_review_terms)/len(weighted_review_terms)\n",
    "    except:\n",
    "        review_vector = []\n",
    "    vector_and_count = [terms, review_vector, descriptor_count]\n",
    "    wine_review_vectors.append(vector_and_count)"
   ]
  },
  {
   "cell_type": "code",
   "execution_count": 31,
   "id": "02b5181d",
   "metadata": {},
   "outputs": [],
   "source": [
    "#concatenante in new dataset\n",
    "data['normalized_descriptors'] = list(map(itemgetter(0), wine_review_vectors))\n",
    "data['review_vector'] = list(map(itemgetter(1), wine_review_vectors))\n",
    "data['descriptor_count'] = list(map(itemgetter(2), wine_review_vectors))\n",
    "\n",
    "data.reset_index(inplace=True)"
   ]
  },
  {
   "cell_type": "code",
   "execution_count": 32,
   "id": "e5f82409",
   "metadata": {},
   "outputs": [
    {
     "data": {
      "text/html": [
       "<div>\n",
       "<style scoped>\n",
       "    .dataframe tbody tr th:only-of-type {\n",
       "        vertical-align: middle;\n",
       "    }\n",
       "\n",
       "    .dataframe tbody tr th {\n",
       "        vertical-align: top;\n",
       "    }\n",
       "\n",
       "    .dataframe thead th {\n",
       "        text-align: right;\n",
       "    }\n",
       "</style>\n",
       "<table border=\"1\" class=\"dataframe\">\n",
       "  <thead>\n",
       "    <tr style=\"text-align: right;\">\n",
       "      <th></th>\n",
       "      <th>index</th>\n",
       "      <th>country</th>\n",
       "      <th>description</th>\n",
       "      <th>designation</th>\n",
       "      <th>points</th>\n",
       "      <th>price</th>\n",
       "      <th>province</th>\n",
       "      <th>region_1</th>\n",
       "      <th>region_2</th>\n",
       "      <th>variety</th>\n",
       "      <th>winery</th>\n",
       "      <th>normalized_descriptors</th>\n",
       "      <th>review_vector</th>\n",
       "      <th>descriptor_count</th>\n",
       "    </tr>\n",
       "  </thead>\n",
       "  <tbody>\n",
       "    <tr>\n",
       "      <th>0</th>\n",
       "      <td>0</td>\n",
       "      <td>US</td>\n",
       "      <td>This tremendous 100% varietal wine hails from ...</td>\n",
       "      <td>Martha's Vineyard</td>\n",
       "      <td>96</td>\n",
       "      <td>235.0</td>\n",
       "      <td>California</td>\n",
       "      <td>Napa Valley</td>\n",
       "      <td>Napa</td>\n",
       "      <td>Cabernet Sauvignon</td>\n",
       "      <td>Heitz</td>\n",
       "      <td>[elegant]</td>\n",
       "      <td>[[-0.009475023, 0.014538017, 7.603483e-05, 0.0...</td>\n",
       "      <td>1</td>\n",
       "    </tr>\n",
       "    <tr>\n",
       "      <th>1</th>\n",
       "      <td>1</td>\n",
       "      <td>Spain</td>\n",
       "      <td>Ripe aromas of fig, blackberry and cassis are ...</td>\n",
       "      <td>Carodorum Selección Especial Reserva</td>\n",
       "      <td>96</td>\n",
       "      <td>110.0</td>\n",
       "      <td>Northern Spain</td>\n",
       "      <td>Toro</td>\n",
       "      <td>NaN</td>\n",
       "      <td>Tinta de Toro</td>\n",
       "      <td>Bodega Carmen Rodríguez</td>\n",
       "      <td>[rich]</td>\n",
       "      <td>[[-0.00035677507, 0.011194306, 0.0016463208, 0...</td>\n",
       "      <td>1</td>\n",
       "    </tr>\n",
       "    <tr>\n",
       "      <th>2</th>\n",
       "      <td>2</td>\n",
       "      <td>US</td>\n",
       "      <td>Mac Watson honors the memory of a wine once ma...</td>\n",
       "      <td>Special Selected Late Harvest</td>\n",
       "      <td>96</td>\n",
       "      <td>90.0</td>\n",
       "      <td>California</td>\n",
       "      <td>Knights Valley</td>\n",
       "      <td>Sonoma</td>\n",
       "      <td>Sauvignon Blanc</td>\n",
       "      <td>Macauley</td>\n",
       "      <td>[complex, succulent]</td>\n",
       "      <td>[[-0.009610914, 0.007981829, -0.00077262614, 0...</td>\n",
       "      <td>2</td>\n",
       "    </tr>\n",
       "    <tr>\n",
       "      <th>3</th>\n",
       "      <td>3</td>\n",
       "      <td>US</td>\n",
       "      <td>This spent 20 months in 30% new French oak, an...</td>\n",
       "      <td>Reserve</td>\n",
       "      <td>96</td>\n",
       "      <td>65.0</td>\n",
       "      <td>Oregon</td>\n",
       "      <td>Willamette Valley</td>\n",
       "      <td>Willamette Valley</td>\n",
       "      <td>Pinot Noir</td>\n",
       "      <td>Ponzi</td>\n",
       "      <td>[]</td>\n",
       "      <td>[]</td>\n",
       "      <td>0</td>\n",
       "    </tr>\n",
       "    <tr>\n",
       "      <th>4</th>\n",
       "      <td>4</td>\n",
       "      <td>France</td>\n",
       "      <td>This is the top wine from La Bégude, named aft...</td>\n",
       "      <td>La Brûlade</td>\n",
       "      <td>95</td>\n",
       "      <td>66.0</td>\n",
       "      <td>Provence</td>\n",
       "      <td>Bandol</td>\n",
       "      <td>NaN</td>\n",
       "      <td>Provence red blend</td>\n",
       "      <td>Domaine de la Bégude</td>\n",
       "      <td>[rich]</td>\n",
       "      <td>[[-0.00035677507, 0.011194306, 0.0016463208, 0...</td>\n",
       "      <td>1</td>\n",
       "    </tr>\n",
       "  </tbody>\n",
       "</table>\n",
       "</div>"
      ],
      "text/plain": [
       "   index country                                        description  \\\n",
       "0      0      US  This tremendous 100% varietal wine hails from ...   \n",
       "1      1   Spain  Ripe aromas of fig, blackberry and cassis are ...   \n",
       "2      2      US  Mac Watson honors the memory of a wine once ma...   \n",
       "3      3      US  This spent 20 months in 30% new French oak, an...   \n",
       "4      4  France  This is the top wine from La Bégude, named aft...   \n",
       "\n",
       "                            designation  points  price        province  \\\n",
       "0                     Martha's Vineyard      96  235.0      California   \n",
       "1  Carodorum Selección Especial Reserva      96  110.0  Northern Spain   \n",
       "2         Special Selected Late Harvest      96   90.0      California   \n",
       "3                               Reserve      96   65.0          Oregon   \n",
       "4                            La Brûlade      95   66.0        Provence   \n",
       "\n",
       "            region_1           region_2             variety  \\\n",
       "0        Napa Valley               Napa  Cabernet Sauvignon   \n",
       "1               Toro                NaN       Tinta de Toro   \n",
       "2     Knights Valley             Sonoma     Sauvignon Blanc   \n",
       "3  Willamette Valley  Willamette Valley          Pinot Noir   \n",
       "4             Bandol                NaN  Provence red blend   \n",
       "\n",
       "                    winery normalized_descriptors  \\\n",
       "0                    Heitz              [elegant]   \n",
       "1  Bodega Carmen Rodríguez                 [rich]   \n",
       "2                 Macauley   [complex, succulent]   \n",
       "3                    Ponzi                     []   \n",
       "4     Domaine de la Bégude                 [rich]   \n",
       "\n",
       "                                       review_vector  descriptor_count  \n",
       "0  [[-0.009475023, 0.014538017, 7.603483e-05, 0.0...                 1  \n",
       "1  [[-0.00035677507, 0.011194306, 0.0016463208, 0...                 1  \n",
       "2  [[-0.009610914, 0.007981829, -0.00077262614, 0...                 2  \n",
       "3                                                 []                 0  \n",
       "4  [[-0.00035677507, 0.011194306, 0.0016463208, 0...                 1  "
      ]
     },
     "execution_count": 32,
     "metadata": {},
     "output_type": "execute_result"
    }
   ],
   "source": [
    "data.head()"
   ]
  },
  {
   "cell_type": "code",
   "execution_count": 74,
   "id": "fa431d33",
   "metadata": {},
   "outputs": [
    {
     "data": {
      "text/plain": [
       "'Ripe aromas of fig, blackberry and cassis are softened and sweetened by a slathering of oaky chocolate and vanilla. This is full, layered, intense and cushioned on the palate, with rich flavors of chocolaty black fruits and baking spices. A toasty, everlasting finish is heady but ideally balanced. Drink through 2023.'"
      ]
     },
     "execution_count": 74,
     "metadata": {},
     "output_type": "execute_result"
    }
   ],
   "source": [
    "data.loc[1,\"description\"]"
   ]
  },
  {
   "cell_type": "code",
   "execution_count": 34,
   "id": "ed2f0486",
   "metadata": {},
   "outputs": [
    {
     "data": {
      "text/plain": [
       "(5323, 14)"
      ]
     },
     "execution_count": 34,
     "metadata": {},
     "output_type": "execute_result"
    }
   ],
   "source": [
    "#rows with no BCF descriptor \n",
    "data[data[\"descriptor_count\"]>0].shape"
   ]
  },
  {
   "cell_type": "code",
   "execution_count": 35,
   "id": "d050d61a",
   "metadata": {},
   "outputs": [],
   "source": [
    "#save in csv"
   ]
  },
  {
   "cell_type": "markdown",
   "id": "40c1d845",
   "metadata": {
    "heading_collapsed": true
   },
   "source": [
    "# Clusterization "
   ]
  },
  {
   "cell_type": "code",
   "execution_count": 60,
   "id": "790af290",
   "metadata": {
    "hidden": true
   },
   "outputs": [
    {
     "data": {
      "text/plain": [
       "(5323, 14)"
      ]
     },
     "execution_count": 60,
     "metadata": {},
     "output_type": "execute_result"
    }
   ],
   "source": [
    "bcf_data = data.loc[data[\"descriptor_count\"]>0]\n",
    "bcf_data.shape"
   ]
  },
  {
   "cell_type": "code",
   "execution_count": 61,
   "id": "741efc33",
   "metadata": {
    "hidden": true
   },
   "outputs": [
    {
     "data": {
      "text/plain": [
       "5323"
      ]
     },
     "execution_count": 61,
     "metadata": {},
     "output_type": "execute_result"
    }
   ],
   "source": [
    "input_vectors = list(bcf_data[\"review_vector\"])\n",
    "len(input_vectors)"
   ]
  },
  {
   "cell_type": "code",
   "execution_count": 68,
   "id": "469303c5",
   "metadata": {
    "hidden": true
   },
   "outputs": [
    {
     "data": {
      "text/plain": [
       "list"
      ]
     },
     "execution_count": 68,
     "metadata": {},
     "output_type": "execute_result"
    }
   ],
   "source": [
    "input_vectors_listed = [a.tolist() for a in input_vectors]\n",
    "len(input_vectors_listed)"
   ]
  },
  {
   "cell_type": "code",
   "execution_count": 71,
   "id": "311abff7",
   "metadata": {
    "hidden": true
   },
   "outputs": [],
   "source": [
    "input_vectors_listed = [a[0] for a in input_vectors_listed]\n",
    "len(input_vectors_listed)"
   ]
  },
  {
   "cell_type": "code",
   "execution_count": 73,
   "id": "4463ada5",
   "metadata": {
    "hidden": true
   },
   "outputs": [
    {
     "data": {
      "text/plain": [
       "[[-0.009475022554397583,\n",
       "  0.014538017101585865,\n",
       "  7.603482663398609e-05,\n",
       "  0.014904347248375416,\n",
       "  -0.012064171023666859,\n",
       "  -0.015744628384709358,\n",
       "  -0.005646529607474804,\n",
       "  0.021332520991563797,\n",
       "  -0.015585128217935562,\n",
       "  0.005606562830507755,\n",
       "  0.004733514040708542,\n",
       "  -0.02029336988925934,\n",
       "  -0.011129258200526237,\n",
       "  0.025872567668557167,\n",
       "  -0.012565359473228455,\n",
       "  -0.01945394277572632,\n",
       "  0.00465345336124301,\n",
       "  0.004110360983759165,\n",
       "  0.007612778805196285,\n",
       "  -0.0061904932372272015,\n",
       "  -0.0017957333475351334,\n",
       "  0.005348891485482454,\n",
       "  0.0006386013119481504,\n",
       "  0.0032991275656968355,\n",
       "  -0.009331905283033848,\n",
       "  0.000559321662876755,\n",
       "  -0.01670609600841999,\n",
       "  0.019189035519957542,\n",
       "  -0.006279172375798225,\n",
       "  -0.02345680259168148,\n",
       "  -0.006812826730310917,\n",
       "  -0.011949241161346436,\n",
       "  0.012510721571743488,\n",
       "  0.010075286962091923,\n",
       "  -0.014139238744974136,\n",
       "  0.016926264390349388,\n",
       "  0.014275437220931053,\n",
       "  -0.018618786707520485,\n",
       "  -0.014947215095162392,\n",
       "  0.006459944415837526,\n",
       "  0.004403673578053713,\n",
       "  -0.009140320122241974,\n",
       "  -0.009615849703550339,\n",
       "  0.0058710468001663685,\n",
       "  0.006814637221395969,\n",
       "  0.021365895867347717,\n",
       "  -0.02252325974404812,\n",
       "  -0.014940393157303333,\n",
       "  0.000647186825517565,\n",
       "  -0.007300001569092274,\n",
       "  -0.014144930988550186,\n",
       "  -0.0025339906569570303,\n",
       "  0.006893838755786419,\n",
       "  0.023177288472652435,\n",
       "  0.0024019242264330387,\n",
       "  0.005044353194534779,\n",
       "  0.01328297983855009,\n",
       "  -0.009273217990994453,\n",
       "  0.011505535803735256,\n",
       "  0.00995134562253952,\n",
       "  0.0018630522536113858,\n",
       "  -0.006927098147571087,\n",
       "  -0.0034608596470206976,\n",
       "  0.00117056246381253,\n",
       "  0.007356659043580294,\n",
       "  -0.001331159146502614,\n",
       "  -0.004436356481164694,\n",
       "  0.02190314047038555,\n",
       "  -0.003395634237676859,\n",
       "  0.013308077119290829,\n",
       "  -0.007047153543680906,\n",
       "  0.012084433808922768,\n",
       "  0.012517786584794521,\n",
       "  -0.012580345384776592,\n",
       "  0.024071799591183662,\n",
       "  0.00844340119510889,\n",
       "  -0.0013355192495509982,\n",
       "  0.00034687569132074714,\n",
       "  -0.0028179192449897528,\n",
       "  -0.01576555334031582,\n",
       "  -0.017718292772769928,\n",
       "  -0.008418436162173748,\n",
       "  -0.007293075323104858,\n",
       "  0.027753697708249092,\n",
       "  -0.010424615815281868,\n",
       "  0.00644463486969471,\n",
       "  0.0008272384293377399,\n",
       "  -0.018439268693327904,\n",
       "  0.019929377362132072,\n",
       "  0.021603994071483612,\n",
       "  -0.005367401521652937,\n",
       "  -6.284372648224235e-05,\n",
       "  -0.004977323580533266,\n",
       "  -0.01652400754392147,\n",
       "  -0.0012672079028561711,\n",
       "  0.022171271964907646,\n",
       "  0.010609680786728859,\n",
       "  0.012503833509981632,\n",
       "  0.01018221490085125,\n",
       "  0.015966618433594704,\n",
       "  0.005334009882062674,\n",
       "  -0.018569400534033775,\n",
       "  0.008937905542552471,\n",
       "  0.005379399750381708,\n",
       "  0.005210446659475565,\n",
       "  -0.009778715670108795,\n",
       "  -0.0044074892066419125,\n",
       "  0.014723986387252808,\n",
       "  -0.007220077328383923,\n",
       "  -0.01159643940627575,\n",
       "  -0.017371412366628647,\n",
       "  -0.02429836615920067,\n",
       "  -0.00813137274235487,\n",
       "  0.01773546077311039,\n",
       "  -0.009010981768369675,\n",
       "  0.020548975095152855,\n",
       "  -0.011429095640778542,\n",
       "  0.0009556409204378724,\n",
       "  -0.0032515034545212984,\n",
       "  -0.0265604667365551,\n",
       "  0.026181181892752647,\n",
       "  0.01802336424589157,\n",
       "  0.012656105682253838,\n",
       "  0.0023022706154733896,\n",
       "  0.0010423469357192516,\n",
       "  0.028907865285873413,\n",
       "  0.0023909383453428745,\n",
       "  -0.020564356818795204,\n",
       "  -0.007072984240949154,\n",
       "  0.011910990811884403,\n",
       "  0.01329019945114851,\n",
       "  -0.0007398276939056814,\n",
       "  0.01057105790823698,\n",
       "  -0.03399080038070679,\n",
       "  0.00645196670666337,\n",
       "  0.017483577132225037,\n",
       "  0.007059074472635984,\n",
       "  -0.004433616530150175,\n",
       "  -0.026518216356635094,\n",
       "  -0.018008410930633545,\n",
       "  0.007100976537913084,\n",
       "  -0.01557384803891182,\n",
       "  -0.019737569615244865,\n",
       "  0.01451904233545065,\n",
       "  0.014662297442555428,\n",
       "  0.006385743618011475,\n",
       "  -0.024410251528024673,\n",
       "  -0.01603415422141552,\n",
       "  0.02189059555530548,\n",
       "  0.005434571765363216,\n",
       "  -0.004079314414411783,\n",
       "  -0.025806283578276634,\n",
       "  0.0034630177542567253,\n",
       "  0.0006060774903744459,\n",
       "  0.00017803108494263142,\n",
       "  0.018162846565246582,\n",
       "  -0.017467645928263664,\n",
       "  -0.015751197934150696,\n",
       "  -0.014011194929480553,\n",
       "  0.011349061504006386,\n",
       "  0.005203490145504475,\n",
       "  0.006939995568245649,\n",
       "  -0.003719015745446086,\n",
       "  0.012514148838818073,\n",
       "  0.0017793946899473667,\n",
       "  0.022030740976333618,\n",
       "  -0.024487800896167755,\n",
       "  0.014849581755697727,\n",
       "  0.013907607644796371,\n",
       "  0.019413363188505173,\n",
       "  0.005398487206548452,\n",
       "  0.013342590071260929,\n",
       "  0.010871819220483303,\n",
       "  0.002560144755989313,\n",
       "  0.002882594708353281,\n",
       "  -0.016088338568806648,\n",
       "  0.013044881634414196,\n",
       "  -0.01611913926899433,\n",
       "  0.020476598292589188,\n",
       "  -0.008306405507028103,\n",
       "  -0.010490771383047104,\n",
       "  -0.011061402969062328,\n",
       "  -0.02616811916232109,\n",
       "  -0.015751363709568977,\n",
       "  -0.018773386254906654,\n",
       "  -0.005033992696553469,\n",
       "  0.0036995927803218365,\n",
       "  0.0018021258292719722,\n",
       "  0.00023173607769422233,\n",
       "  -0.01275597047060728,\n",
       "  0.023502115160226822,\n",
       "  0.013061798177659512,\n",
       "  0.0036868099123239517,\n",
       "  0.008450848050415516,\n",
       "  -0.01650136709213257,\n",
       "  0.004444741643965244,\n",
       "  -0.015973614528775215,\n",
       "  -0.012451255694031715,\n",
       "  -0.013095580972731113,\n",
       "  0.007275359705090523,\n",
       "  0.00017152680084109306,\n",
       "  0.016910836100578308,\n",
       "  0.007567923050373793,\n",
       "  -0.01730581745505333,\n",
       "  0.027014246210455894,\n",
       "  -0.015579323284327984,\n",
       "  0.018962349742650986,\n",
       "  0.010046636685729027,\n",
       "  -0.011511126533150673,\n",
       "  -0.00826367549598217,\n",
       "  -0.008254400454461575,\n",
       "  -0.02414683997631073,\n",
       "  0.02186727337539196,\n",
       "  -0.00716078095138073,\n",
       "  0.027271602302789688,\n",
       "  -0.022934967651963234,\n",
       "  -0.002078956225886941,\n",
       "  -0.011546701192855835,\n",
       "  -0.0028239013627171516,\n",
       "  -0.027380667626857758,\n",
       "  0.012261060997843742,\n",
       "  -0.0020291185937821865,\n",
       "  -0.012300858274102211,\n",
       "  -0.023901117965579033,\n",
       "  -0.0031492975540459156,\n",
       "  -0.011332065798342228,\n",
       "  0.0024839139077812433,\n",
       "  -0.011259078048169613,\n",
       "  -0.0038046855479478836,\n",
       "  -0.007060285657644272,\n",
       "  0.004789554979652166,\n",
       "  -0.004725842736661434,\n",
       "  -0.012569301761686802,\n",
       "  -0.007800407242029905,\n",
       "  -0.0032905719708651304,\n",
       "  0.016604280099272728,\n",
       "  -0.011387604288756847,\n",
       "  0.022517994046211243,\n",
       "  0.012981968931853771,\n",
       "  -0.01780730113387108,\n",
       "  0.015308150090277195,\n",
       "  -0.017915965989232063,\n",
       "  0.0142998481169343,\n",
       "  0.011584291234612465,\n",
       "  0.006632707081735134,\n",
       "  -0.020276691764593124,\n",
       "  -0.007267600856721401,\n",
       "  -0.005153418984264135,\n",
       "  0.003051154315471649,\n",
       "  0.00713151041418314,\n",
       "  0.018157076090574265,\n",
       "  0.01295411866158247,\n",
       "  0.021360941231250763,\n",
       "  -0.015015610493719578,\n",
       "  0.011407677084207535,\n",
       "  -0.006422378588467836,\n",
       "  0.019603371620178223,\n",
       "  0.006605964619666338,\n",
       "  -0.010699278675019741,\n",
       "  -0.0009044273174367845,\n",
       "  -0.00887055043131113,\n",
       "  -0.016122756525874138,\n",
       "  0.005275210831314325,\n",
       "  -0.005485109984874725,\n",
       "  -0.004862628411501646,\n",
       "  0.01051118690520525,\n",
       "  0.007814042270183563,\n",
       "  0.013518661260604858,\n",
       "  -0.004988037049770355,\n",
       "  -0.0033954388927668333,\n",
       "  0.00011239108425797895,\n",
       "  -0.0071461922489106655,\n",
       "  0.011686165817081928,\n",
       "  0.025156717747449875,\n",
       "  0.010939554311335087,\n",
       "  0.016698213294148445,\n",
       "  0.019195271655917168,\n",
       "  0.015220305882394314,\n",
       "  -0.005012369714677334,\n",
       "  0.01521917711943388,\n",
       "  -0.007871324196457863,\n",
       "  0.01566121354699135,\n",
       "  -0.0032366046216338873,\n",
       "  -0.003275187686085701,\n",
       "  0.014013881795108318,\n",
       "  0.012129792012274265,\n",
       "  0.009529965929687023,\n",
       "  0.004045231267809868,\n",
       "  0.019841907545924187,\n",
       "  0.013503027148544788,\n",
       "  0.020766589790582657,\n",
       "  0.018914630636572838,\n",
       "  0.021861881017684937,\n",
       "  -0.003868341911584139,\n",
       "  0.029026873409748077,\n",
       "  0.025561440736055374,\n",
       "  0.0007173501653596759,\n",
       "  0.0010887269163504243,\n",
       "  0.014041407033801079,\n",
       "  -0.025294719263911247]]"
      ]
     },
     "execution_count": 73,
     "metadata": {},
     "output_type": "execute_result"
    }
   ],
   "source": [
    "input_vectors_listed[:1]"
   ]
  },
  {
   "cell_type": "code",
   "execution_count": null,
   "id": "b68dc098",
   "metadata": {
    "hidden": true
   },
   "outputs": [],
   "source": [
    "X = \n",
    "NUM_CLUSTERS=3\n",
    "kclusterer = KMeansClusterer(NUM_CLUSTERS, distance=nltk.cluster.util.cosine_distance, repeats=25)\n",
    "assigned_clusters = kclusterer.cluster(X, assign_clusters=True)\n",
    "print (assigned_clusters)\n",
    "# output: [0, 2, 1, 2, 2, 1, 2, 2, 0, 1, 0, 1, 2, 1, 2]"
   ]
  }
 ],
 "metadata": {
  "kernelspec": {
   "display_name": "Python 3 (ipykernel)",
   "language": "python",
   "name": "python3"
  },
  "language_info": {
   "codemirror_mode": {
    "name": "ipython",
    "version": 3
   },
   "file_extension": ".py",
   "mimetype": "text/x-python",
   "name": "python",
   "nbconvert_exporter": "python",
   "pygments_lexer": "ipython3",
   "version": "3.8.12"
  },
  "toc": {
   "base_numbering": 1,
   "nav_menu": {},
   "number_sections": true,
   "sideBar": true,
   "skip_h1_title": false,
   "title_cell": "Table of Contents",
   "title_sidebar": "Contents",
   "toc_cell": false,
   "toc_position": {},
   "toc_section_display": true,
   "toc_window_display": false
  }
 },
 "nbformat": 4,
 "nbformat_minor": 5
}
