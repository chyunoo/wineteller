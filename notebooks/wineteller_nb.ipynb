{
 "cells": [
  {
   "cell_type": "markdown",
   "id": "27b7b7c3",
   "metadata": {},
   "source": [
    "# Wineteller : Reminder\n",
    "\n",
    "- Build a wine recommender based on occasion rather than intrinsic wine characteristics \n",
    "\n",
    "- Deduce occasion from wine descriptors that can fit an atmosphere -> Body, Complexity, Finish \n",
    "\n",
    "- Use Computational Wine Wheel (mappings) to extract only words that are specific to Body, Complexity and Finish\n",
    "\n",
    "- Train a Word2Vec model -> clusterize with K-means"
   ]
  },
  {
   "cell_type": "markdown",
   "id": "b29e7258",
   "metadata": {},
   "source": [
    "# Data Exploration"
   ]
  },
  {
   "cell_type": "code",
   "execution_count": 59,
   "id": "9f3b4032",
   "metadata": {},
   "outputs": [],
   "source": [
    "#python\n",
    "import pandas as pd\n",
    "import string\n",
    "\n",
    "#compute cell-executing time\n",
    "from tqdm.notebook import trange, tqdm\n",
    "\n",
    "#text preprocessing\n",
    "from operator import itemgetter\n",
    "from nltk.tokenize import word_tokenize, sent_tokenize\n",
    "from nltk.stem import SnowballStemmer\n",
    "from nltk.corpus import stopwords\n",
    "from collections import Counter, OrderedDict\n",
    "\n",
    "#nlp modeling\n",
    "from gensim.models.phrases import Phrases, Phraser\n",
    "from gensim.models import Word2Vec\n",
    "from sklearn.feature_extraction.text import TfidfVectorizer\n",
    "\n",
    "#clusterization \n",
    "from sklearn.metrics.pairwise import cosine_similarity\n",
    "from sklearn.neighbors import NearestNeighbors\n",
    "from sklearn.decomposition import PCA\n",
    "from matplotlib import pyplot as plt"
   ]
  },
  {
   "cell_type": "markdown",
   "id": "b733c91b",
   "metadata": {},
   "source": [
    "## Load Data"
   ]
  },
  {
   "cell_type": "code",
   "execution_count": 60,
   "id": "476394fc",
   "metadata": {},
   "outputs": [
    {
     "name": "stdout",
     "output_type": "stream",
     "text": [
      "(150930, 10)\n"
     ]
    }
   ],
   "source": [
    "file_location = '/Users/hyunoochang/code/chyunoo/wineteller/raw_data/winemag-data_first150k.csv'\n",
    "\n",
    "data = pd.read_csv(file_location, index_col='Unnamed: 0')\n",
    "print(data.shape)"
   ]
  },
  {
   "cell_type": "code",
   "execution_count": 61,
   "id": "b7ecc97d",
   "metadata": {},
   "outputs": [
    {
     "data": {
      "text/html": [
       "<div>\n",
       "<style scoped>\n",
       "    .dataframe tbody tr th:only-of-type {\n",
       "        vertical-align: middle;\n",
       "    }\n",
       "\n",
       "    .dataframe tbody tr th {\n",
       "        vertical-align: top;\n",
       "    }\n",
       "\n",
       "    .dataframe thead th {\n",
       "        text-align: right;\n",
       "    }\n",
       "</style>\n",
       "<table border=\"1\" class=\"dataframe\">\n",
       "  <thead>\n",
       "    <tr style=\"text-align: right;\">\n",
       "      <th></th>\n",
       "      <th>country</th>\n",
       "      <th>description</th>\n",
       "      <th>designation</th>\n",
       "      <th>points</th>\n",
       "      <th>price</th>\n",
       "      <th>province</th>\n",
       "      <th>region_1</th>\n",
       "      <th>region_2</th>\n",
       "      <th>variety</th>\n",
       "      <th>winery</th>\n",
       "    </tr>\n",
       "  </thead>\n",
       "  <tbody>\n",
       "    <tr>\n",
       "      <th>0</th>\n",
       "      <td>US</td>\n",
       "      <td>This tremendous 100% varietal wine hails from ...</td>\n",
       "      <td>Martha's Vineyard</td>\n",
       "      <td>96</td>\n",
       "      <td>235.0</td>\n",
       "      <td>California</td>\n",
       "      <td>Napa Valley</td>\n",
       "      <td>Napa</td>\n",
       "      <td>Cabernet Sauvignon</td>\n",
       "      <td>Heitz</td>\n",
       "    </tr>\n",
       "    <tr>\n",
       "      <th>1</th>\n",
       "      <td>Spain</td>\n",
       "      <td>Ripe aromas of fig, blackberry and cassis are ...</td>\n",
       "      <td>Carodorum Selección Especial Reserva</td>\n",
       "      <td>96</td>\n",
       "      <td>110.0</td>\n",
       "      <td>Northern Spain</td>\n",
       "      <td>Toro</td>\n",
       "      <td>NaN</td>\n",
       "      <td>Tinta de Toro</td>\n",
       "      <td>Bodega Carmen Rodríguez</td>\n",
       "    </tr>\n",
       "    <tr>\n",
       "      <th>2</th>\n",
       "      <td>US</td>\n",
       "      <td>Mac Watson honors the memory of a wine once ma...</td>\n",
       "      <td>Special Selected Late Harvest</td>\n",
       "      <td>96</td>\n",
       "      <td>90.0</td>\n",
       "      <td>California</td>\n",
       "      <td>Knights Valley</td>\n",
       "      <td>Sonoma</td>\n",
       "      <td>Sauvignon Blanc</td>\n",
       "      <td>Macauley</td>\n",
       "    </tr>\n",
       "    <tr>\n",
       "      <th>3</th>\n",
       "      <td>US</td>\n",
       "      <td>This spent 20 months in 30% new French oak, an...</td>\n",
       "      <td>Reserve</td>\n",
       "      <td>96</td>\n",
       "      <td>65.0</td>\n",
       "      <td>Oregon</td>\n",
       "      <td>Willamette Valley</td>\n",
       "      <td>Willamette Valley</td>\n",
       "      <td>Pinot Noir</td>\n",
       "      <td>Ponzi</td>\n",
       "    </tr>\n",
       "    <tr>\n",
       "      <th>4</th>\n",
       "      <td>France</td>\n",
       "      <td>This is the top wine from La Bégude, named aft...</td>\n",
       "      <td>La Brûlade</td>\n",
       "      <td>95</td>\n",
       "      <td>66.0</td>\n",
       "      <td>Provence</td>\n",
       "      <td>Bandol</td>\n",
       "      <td>NaN</td>\n",
       "      <td>Provence red blend</td>\n",
       "      <td>Domaine de la Bégude</td>\n",
       "    </tr>\n",
       "  </tbody>\n",
       "</table>\n",
       "</div>"
      ],
      "text/plain": [
       "  country                                        description  \\\n",
       "0      US  This tremendous 100% varietal wine hails from ...   \n",
       "1   Spain  Ripe aromas of fig, blackberry and cassis are ...   \n",
       "2      US  Mac Watson honors the memory of a wine once ma...   \n",
       "3      US  This spent 20 months in 30% new French oak, an...   \n",
       "4  France  This is the top wine from La Bégude, named aft...   \n",
       "\n",
       "                            designation  points  price        province  \\\n",
       "0                     Martha's Vineyard      96  235.0      California   \n",
       "1  Carodorum Selección Especial Reserva      96  110.0  Northern Spain   \n",
       "2         Special Selected Late Harvest      96   90.0      California   \n",
       "3                               Reserve      96   65.0          Oregon   \n",
       "4                            La Brûlade      95   66.0        Provence   \n",
       "\n",
       "            region_1           region_2             variety  \\\n",
       "0        Napa Valley               Napa  Cabernet Sauvignon   \n",
       "1               Toro                NaN       Tinta de Toro   \n",
       "2     Knights Valley             Sonoma     Sauvignon Blanc   \n",
       "3  Willamette Valley  Willamette Valley          Pinot Noir   \n",
       "4             Bandol                NaN  Provence red blend   \n",
       "\n",
       "                    winery  \n",
       "0                    Heitz  \n",
       "1  Bodega Carmen Rodríguez  \n",
       "2                 Macauley  \n",
       "3                    Ponzi  \n",
       "4     Domaine de la Bégude  "
      ]
     },
     "execution_count": 61,
     "metadata": {},
     "output_type": "execute_result"
    }
   ],
   "source": [
    "data.head(5)"
   ]
  },
  {
   "cell_type": "markdown",
   "id": "831c3fdd",
   "metadata": {},
   "source": [
    "## Clean Data"
   ]
  },
  {
   "cell_type": "code",
   "execution_count": 62,
   "id": "b236c1f7",
   "metadata": {},
   "outputs": [
    {
     "data": {
      "text/plain": [
       "country            5\n",
       "description        0\n",
       "designation    45735\n",
       "points             0\n",
       "price          13695\n",
       "province           5\n",
       "region_1       25060\n",
       "region_2       89977\n",
       "variety            0\n",
       "winery             0\n",
       "dtype: int64"
      ]
     },
     "execution_count": 62,
     "metadata": {},
     "output_type": "execute_result"
    }
   ],
   "source": [
    "data.isna().sum()"
   ]
  },
  {
   "cell_type": "code",
   "execution_count": 63,
   "id": "e2cc5f50",
   "metadata": {},
   "outputs": [
    {
     "data": {
      "text/plain": [
       "(97851, 10)"
      ]
     },
     "execution_count": 63,
     "metadata": {},
     "output_type": "execute_result"
    }
   ],
   "source": [
    "data = data.drop_duplicates()\n",
    "data.shape"
   ]
  },
  {
   "cell_type": "markdown",
   "id": "a883a02e",
   "metadata": {},
   "source": [
    "# Data Preprocessing"
   ]
  },
  {
   "cell_type": "code",
   "execution_count": 64,
   "id": "bed174d3",
   "metadata": {},
   "outputs": [
    {
     "data": {
      "application/vnd.jupyter.widget-view+json": {
       "model_id": "a8f78169d1a541acaf01e99085038748",
       "version_major": 2,
       "version_minor": 0
      },
      "text/plain": [
       "  0%|          | 0/97851 [00:00<?, ?it/s]"
      ]
     },
     "metadata": {},
     "output_type": "display_data"
    },
    {
     "name": "stdout",
     "output_type": "stream",
     "text": [
      "CPU times: user 17 s, sys: 723 ms, total: 17.8 s\n",
      "Wall time: 24.8 s\n"
     ]
    }
   ],
   "source": [
    "%%time\n",
    "#tokenization : reviews -> sentences\n",
    "\n",
    "reviews_list = list(data['description'])\n",
    "reviews_list = [str(r) for r in reviews_list]\n",
    "\n",
    "sentences_tokenized=[]\n",
    "for review in tqdm(reviews_list) :\n",
    "    sentences_tokenized.append(sent_tokenize(review))\n",
    "sentences_tokenized = [item for sublist in sentences_tokenized for item in sublist]"
   ]
  },
  {
   "cell_type": "code",
   "execution_count": 65,
   "id": "f8051fb2",
   "metadata": {},
   "outputs": [
    {
     "data": {
      "text/plain": [
       "270505"
      ]
     },
     "execution_count": 65,
     "metadata": {},
     "output_type": "execute_result"
    }
   ],
   "source": [
    "len(sentences_tokenized)"
   ]
  },
  {
   "cell_type": "code",
   "execution_count": 66,
   "id": "4c493e58",
   "metadata": {},
   "outputs": [
    {
     "data": {
      "text/plain": [
       "['This tremendous 100% varietal wine hails from Oakville and was aged over three years in oak.']"
      ]
     },
     "execution_count": 66,
     "metadata": {},
     "output_type": "execute_result"
    }
   ],
   "source": [
    "sentences_tokenized[:1]"
   ]
  },
  {
   "cell_type": "code",
   "execution_count": 67,
   "id": "53e7fd87",
   "metadata": {},
   "outputs": [
    {
     "data": {
      "application/vnd.jupyter.widget-view+json": {
       "model_id": "9126419fe9f34392a172f5da0a772a9c",
       "version_major": 2,
       "version_minor": 0
      },
      "text/plain": [
       "  0%|          | 0/270505 [00:00<?, ?it/s]"
      ]
     },
     "metadata": {},
     "output_type": "display_data"
    },
    {
     "name": "stdout",
     "output_type": "stream",
     "text": [
      "CPU times: user 3min 48s, sys: 8.82 s, total: 3min 57s\n",
      "Wall time: 5min 34s\n"
     ]
    }
   ],
   "source": [
    "%%time\n",
    "#normalization : remove stopwords and punctuation + tokenize sentences into words\n",
    "\n",
    "stop_words = set(stopwords.words('english')) \n",
    "\n",
    "punctuation_table = str.maketrans({key: None for key in string.punctuation})\n",
    "sno = SnowballStemmer('english')\n",
    "\n",
    "def normalize_text(raw_text):\n",
    "    try:\n",
    "        word_list = word_tokenize(raw_text)\n",
    "        normalized_sentence = []\n",
    "        for w in word_list:\n",
    "            try:\n",
    "                w = str(w)\n",
    "                lower_case_word = str.lower(w)\n",
    "                stemmed_word = sno.stem(lower_case_word)\n",
    "                no_punctuation = stemmed_word.translate(punctuation_table)\n",
    "                if len(no_punctuation) > 1 and no_punctuation not in stop_words:\n",
    "                    normalized_sentence.append(no_punctuation)\n",
    "            except:\n",
    "                continue\n",
    "        return normalized_sentence\n",
    "    except:\n",
    "        return ''\n",
    "\n",
    "sentence_sample = sentences_tokenized[:10]\n",
    "normalized_sentences = []\n",
    "for s in tqdm(sentences_tokenized) :\n",
    "    normalized_text = normalize_text(s)\n",
    "    normalized_sentences.append(normalized_text)"
   ]
  },
  {
   "cell_type": "code",
   "execution_count": 68,
   "id": "f3531a48",
   "metadata": {},
   "outputs": [
    {
     "data": {
      "text/plain": [
       "[['tremend',\n",
       "  '100',\n",
       "  'variet',\n",
       "  'wine',\n",
       "  'hail',\n",
       "  'oakvill',\n",
       "  'age',\n",
       "  'three',\n",
       "  'year',\n",
       "  'oak']]"
      ]
     },
     "execution_count": 68,
     "metadata": {},
     "output_type": "execute_result"
    }
   ],
   "source": [
    "normalized_sentences[:1]"
   ]
  },
  {
   "cell_type": "code",
   "execution_count": 69,
   "id": "864f9044",
   "metadata": {},
   "outputs": [
    {
     "data": {
      "application/vnd.jupyter.widget-view+json": {
       "model_id": "8cec7ba2b44443e88a66d9b0983e7d51",
       "version_major": 2,
       "version_minor": 0
      },
      "text/plain": [
       "  0%|          | 0/270505 [00:00<?, ?it/s]"
      ]
     },
     "metadata": {},
     "output_type": "display_data"
    },
    {
     "name": "stdout",
     "output_type": "stream",
     "text": [
      "CPU times: user 32.2 s, sys: 1.14 s, total: 33.3 s\n",
      "Wall time: 39.9 s\n"
     ]
    }
   ],
   "source": [
    "%%time \n",
    "#retrieve bi-grams and tri-grams from normalized sentences\n",
    "\n",
    "phrases = Phrases(normalized_sentences)\n",
    "phrases = Phrases(phrases[normalized_sentences])\n",
    "\n",
    "ngrams = Phraser(phrases)\n",
    "\n",
    "phrased_sentences = []\n",
    "for sent in tqdm(normalized_sentences):\n",
    "    phrased_sentence = ngrams[sent]\n",
    "    phrased_sentences.append(phrased_sentence)\n",
    "\n",
    "full_list_words = [item for sublist in phrased_sentences for item in sublist]"
   ]
  },
  {
   "cell_type": "code",
   "execution_count": 70,
   "id": "1b98c122",
   "metadata": {},
   "outputs": [
    {
     "data": {
      "text/plain": [
       "[['tremend',\n",
       "  '100_variet',\n",
       "  'wine',\n",
       "  'hail',\n",
       "  'oakvill',\n",
       "  'age',\n",
       "  'three_year',\n",
       "  'oak']]"
      ]
     },
     "execution_count": 70,
     "metadata": {},
     "output_type": "execute_result"
    }
   ],
   "source": [
    "phrased_sentences[:1]"
   ]
  },
  {
   "cell_type": "code",
   "execution_count": 71,
   "id": "d7590b3e",
   "metadata": {},
   "outputs": [
    {
     "data": {
      "text/plain": [
       "['tremend', '100_variet', 'wine', 'hail', 'oakvill']"
      ]
     },
     "execution_count": 71,
     "metadata": {},
     "output_type": "execute_result"
    }
   ],
   "source": [
    "full_list_words[:5]"
   ]
  },
  {
   "cell_type": "code",
   "execution_count": 72,
   "id": "ce67a6d6",
   "metadata": {},
   "outputs": [],
   "source": [
    "#most common 5000 words in corpus\n",
    "\n",
    "word_counts = Counter(full_list_words)\n",
    "sorted_counts = OrderedDict(word_counts.most_common(5000))\n",
    "counter_df = pd.DataFrame.from_dict(sorted_counts, orient='index')\n",
    "top_5000_words = counter_df.head(5000)\n",
    "counter_df.to_csv('top_5000_descriptors.csv')"
   ]
  },
  {
   "cell_type": "code",
   "execution_count": 73,
   "id": "74af5e27",
   "metadata": {},
   "outputs": [
    {
     "data": {
      "text/html": [
       "<div>\n",
       "<style scoped>\n",
       "    .dataframe tbody tr th:only-of-type {\n",
       "        vertical-align: middle;\n",
       "    }\n",
       "\n",
       "    .dataframe tbody tr th {\n",
       "        vertical-align: top;\n",
       "    }\n",
       "\n",
       "    .dataframe thead th {\n",
       "        text-align: right;\n",
       "    }\n",
       "</style>\n",
       "<table border=\"1\" class=\"dataframe\">\n",
       "  <thead>\n",
       "    <tr style=\"text-align: right;\">\n",
       "      <th></th>\n",
       "      <th>0</th>\n",
       "    </tr>\n",
       "  </thead>\n",
       "  <tbody>\n",
       "    <tr>\n",
       "      <th>wine</th>\n",
       "      <td>60966</td>\n",
       "    </tr>\n",
       "    <tr>\n",
       "      <th>flavor</th>\n",
       "      <td>55905</td>\n",
       "    </tr>\n",
       "    <tr>\n",
       "      <th>fruit</th>\n",
       "      <td>40097</td>\n",
       "    </tr>\n",
       "    <tr>\n",
       "      <th>finish</th>\n",
       "      <td>29737</td>\n",
       "    </tr>\n",
       "    <tr>\n",
       "      <th>acid</th>\n",
       "      <td>25920</td>\n",
       "    </tr>\n",
       "  </tbody>\n",
       "</table>\n",
       "</div>"
      ],
      "text/plain": [
       "            0\n",
       "wine    60966\n",
       "flavor  55905\n",
       "fruit   40097\n",
       "finish  29737\n",
       "acid    25920"
      ]
     },
     "execution_count": 73,
     "metadata": {},
     "output_type": "execute_result"
    }
   ],
   "source": [
    "top_5000_words.head()"
   ]
  },
  {
   "cell_type": "code",
   "execution_count": 74,
   "id": "46fb1c23",
   "metadata": {},
   "outputs": [
    {
     "data": {
      "text/html": [
       "<div>\n",
       "<style scoped>\n",
       "    .dataframe tbody tr th:only-of-type {\n",
       "        vertical-align: middle;\n",
       "    }\n",
       "\n",
       "    .dataframe tbody tr th {\n",
       "        vertical-align: top;\n",
       "    }\n",
       "\n",
       "    .dataframe thead th {\n",
       "        text-align: right;\n",
       "    }\n",
       "</style>\n",
       "<table border=\"1\" class=\"dataframe\">\n",
       "  <thead>\n",
       "    <tr style=\"text-align: right;\">\n",
       "      <th></th>\n",
       "      <th>level_3</th>\n",
       "      <th>level_2</th>\n",
       "      <th>level_1</th>\n",
       "    </tr>\n",
       "    <tr>\n",
       "      <th>raw descriptor</th>\n",
       "      <th></th>\n",
       "      <th></th>\n",
       "      <th></th>\n",
       "    </tr>\n",
       "  </thead>\n",
       "  <tbody>\n",
       "    <tr>\n",
       "      <th>abras</th>\n",
       "      <td>abrasive</td>\n",
       "      <td>high_tannin</td>\n",
       "      <td>tannin</td>\n",
       "    </tr>\n",
       "    <tr>\n",
       "      <th>acacia</th>\n",
       "      <td>acacia</td>\n",
       "      <td>flowery</td>\n",
       "      <td>flower</td>\n",
       "    </tr>\n",
       "    <tr>\n",
       "      <th>acacia_flower</th>\n",
       "      <td>acacia</td>\n",
       "      <td>flowery</td>\n",
       "      <td>flower</td>\n",
       "    </tr>\n",
       "    <tr>\n",
       "      <th>aciddriven</th>\n",
       "      <td>acid_driven</td>\n",
       "      <td>high_acid</td>\n",
       "      <td>acid</td>\n",
       "    </tr>\n",
       "    <tr>\n",
       "      <th>aggress</th>\n",
       "      <td>aggressive</td>\n",
       "      <td>high_acid</td>\n",
       "      <td>acid</td>\n",
       "    </tr>\n",
       "  </tbody>\n",
       "</table>\n",
       "</div>"
      ],
      "text/plain": [
       "                    level_3      level_2 level_1\n",
       "raw descriptor                                  \n",
       "abras              abrasive  high_tannin  tannin\n",
       "acacia               acacia      flowery  flower\n",
       "acacia_flower        acacia      flowery  flower\n",
       "aciddriven      acid_driven    high_acid    acid\n",
       "aggress          aggressive    high_acid    acid"
      ]
     },
     "execution_count": 74,
     "metadata": {},
     "output_type": "execute_result"
    }
   ],
   "source": [
    "#load wine descriptor_mapping\n",
    "map_location = '/Users/hyunoochang/code/chyunoo/wineteller/raw_data/descriptor_mapping.csv'\n",
    "\n",
    "descriptor_mapping = pd.read_csv(map_location).set_index('raw descriptor')\n",
    "descriptor_mapping.head()"
   ]
  },
  {
   "cell_type": "code",
   "execution_count": 75,
   "id": "67dd4dd8",
   "metadata": {},
   "outputs": [],
   "source": [
    "#occasion 'related' features : body, complexity, finish(B.C.F) -> more body = more intimacy, less body = more energy etc\n",
    "\n",
    "descriptor_list = ['body', 'complexity', 'finish']\n",
    "filtered_descriptor_mapping = descriptor_mapping[descriptor_mapping['level_1'].isin(descriptor_list)]"
   ]
  },
  {
   "cell_type": "code",
   "execution_count": 76,
   "id": "ff73fda9",
   "metadata": {},
   "outputs": [
    {
     "data": {
      "text/html": [
       "<div>\n",
       "<style scoped>\n",
       "    .dataframe tbody tr th:only-of-type {\n",
       "        vertical-align: middle;\n",
       "    }\n",
       "\n",
       "    .dataframe tbody tr th {\n",
       "        vertical-align: top;\n",
       "    }\n",
       "\n",
       "    .dataframe thead th {\n",
       "        text-align: right;\n",
       "    }\n",
       "</style>\n",
       "<table border=\"1\" class=\"dataframe\">\n",
       "  <thead>\n",
       "    <tr style=\"text-align: right;\">\n",
       "      <th></th>\n",
       "      <th>level_3</th>\n",
       "      <th>level_2</th>\n",
       "      <th>level_1</th>\n",
       "    </tr>\n",
       "    <tr>\n",
       "      <th>raw descriptor</th>\n",
       "      <th></th>\n",
       "      <th></th>\n",
       "      <th></th>\n",
       "    </tr>\n",
       "  </thead>\n",
       "  <tbody>\n",
       "    <tr>\n",
       "      <th>airi</th>\n",
       "      <td>airy</td>\n",
       "      <td>light_bodied</td>\n",
       "      <td>body</td>\n",
       "    </tr>\n",
       "    <tr>\n",
       "      <th>big_bold</th>\n",
       "      <td>bold</td>\n",
       "      <td>full_bodied</td>\n",
       "      <td>body</td>\n",
       "    </tr>\n",
       "    <tr>\n",
       "      <th>bullish</th>\n",
       "      <td>bullish</td>\n",
       "      <td>full_bodied</td>\n",
       "      <td>body</td>\n",
       "    </tr>\n",
       "    <tr>\n",
       "      <th>blocki</th>\n",
       "      <td>chunky</td>\n",
       "      <td>full_bodied</td>\n",
       "      <td>body</td>\n",
       "    </tr>\n",
       "    <tr>\n",
       "      <th>chunki</th>\n",
       "      <td>chunky</td>\n",
       "      <td>full_bodied</td>\n",
       "      <td>body</td>\n",
       "    </tr>\n",
       "  </tbody>\n",
       "</table>\n",
       "</div>"
      ],
      "text/plain": [
       "                level_3       level_2 level_1\n",
       "raw descriptor                               \n",
       "airi               airy  light_bodied    body\n",
       "big_bold           bold   full_bodied    body\n",
       "bullish         bullish   full_bodied    body\n",
       "blocki           chunky   full_bodied    body\n",
       "chunki           chunky   full_bodied    body"
      ]
     },
     "execution_count": 76,
     "metadata": {},
     "output_type": "execute_result"
    }
   ],
   "source": [
    "filtered_descriptor_mapping.head()"
   ]
  },
  {
   "cell_type": "code",
   "execution_count": 77,
   "id": "891dbcc7",
   "metadata": {},
   "outputs": [
    {
     "data": {
      "text/plain": [
       "body          57\n",
       "complexity    16\n",
       "finish         6\n",
       "Name: level_1, dtype: int64"
      ]
     },
     "execution_count": 77,
     "metadata": {},
     "output_type": "execute_result"
    }
   ],
   "source": [
    "#number of raw descriptors per features \n",
    "filtered_descriptor_mapping[\"level_1\"].value_counts()"
   ]
  },
  {
   "cell_type": "code",
   "execution_count": 78,
   "id": "8f4e5b18",
   "metadata": {},
   "outputs": [
    {
     "data": {
      "text/plain": [
       "['airi',\n",
       " 'big_bold',\n",
       " 'bullish',\n",
       " 'blocki',\n",
       " 'chunki',\n",
       " 'solid_chunki',\n",
       " 'clampi',\n",
       " 'close',\n",
       " 'complex',\n",
       " 'complic',\n",
       " 'dainti',\n",
       " 'deep',\n",
       " 'depth',\n",
       " 'eas',\n",
       " 'easi_sip',\n",
       " 'eleg',\n",
       " 'expans',\n",
       " 'extract',\n",
       " 'feminin',\n",
       " 'finess',\n",
       " 'ampl_weight',\n",
       " 'bold',\n",
       " 'full_bodi',\n",
       " 'fullbodi',\n",
       " 'soupi',\n",
       " 'weighti',\n",
       " 'hearti',\n",
       " 'heavi',\n",
       " 'heavier',\n",
       " 'heavyweight',\n",
       " 'lavish',\n",
       " 'rather_lean',\n",
       " 'length',\n",
       " 'lengthi',\n",
       " 'long_mouthwat',\n",
       " 'longlast',\n",
       " 'lightest',\n",
       " 'light',\n",
       " 'light_bodi',\n",
       " 'lightbodi',\n",
       " 'lighter',\n",
       " 'lighter_style',\n",
       " 'lightfoot',\n",
       " 'lightweight',\n",
       " 'thin',\n",
       " 'linear',\n",
       " 'straightforward',\n",
       " 'lush',\n",
       " 'luxuri',\n",
       " 'mass',\n",
       " 'medium_bodi',\n",
       " 'medium_fullbodi',\n",
       " 'medium_weight',\n",
       " 'mediumbodi',\n",
       " 'mediumweight',\n",
       " 'medium_length',\n",
       " 'mediumlength_finish',\n",
       " 'modest',\n",
       " 'onedimension',\n",
       " 'opul',\n",
       " 'plump',\n",
       " 'quaffer',\n",
       " 'refin',\n",
       " 'rich',\n",
       " 'richer',\n",
       " 'robust',\n",
       " 'uncompl',\n",
       " 'stout',\n",
       " 'sturdi',\n",
       " 'succul',\n",
       " 'superrich',\n",
       " 'syrup',\n",
       " 'syrupi',\n",
       " 'thick',\n",
       " 'unoak',\n",
       " 'viscos',\n",
       " 'viscous',\n",
       " 'voluptu',\n",
       " 'weight']"
      ]
     },
     "execution_count": 78,
     "metadata": {},
     "output_type": "execute_result"
    }
   ],
   "source": [
    "#list of all raw descriptors (body, finish, complexity)\n",
    "list(filtered_descriptor_mapping.index)"
   ]
  },
  {
   "cell_type": "code",
   "execution_count": 79,
   "id": "9e2d5aa2",
   "metadata": {},
   "outputs": [
    {
     "data": {
      "application/vnd.jupyter.widget-view+json": {
       "model_id": "13243385786545d3acbd6c3785424d5d",
       "version_major": 2,
       "version_minor": 0
      },
      "text/plain": [
       "  0%|          | 0/270505 [00:00<?, ?it/s]"
      ]
     },
     "metadata": {},
     "output_type": "display_data"
    },
    {
     "name": "stdout",
     "output_type": "stream",
     "text": [
      "CPU times: user 50.3 s, sys: 1.95 s, total: 52.3 s\n",
      "Wall time: 1min 6s\n"
     ]
    }
   ],
   "source": [
    "%%time\n",
    "#apply mapping on each word of each sentence\n",
    "\n",
    "def return_mapped_descriptor(word):\n",
    "    if word in list(filtered_descriptor_mapping.index):\n",
    "        normalized_word = filtered_descriptor_mapping['level_3'][word]\n",
    "        return normalized_word\n",
    "    else:\n",
    "        return \"\"\n",
    "\n",
    "normalized_sentences = []\n",
    "for sent in tqdm(phrased_sentences):\n",
    "    normalized_sentence = []\n",
    "    for word in sent:\n",
    "        normalized_word = return_mapped_descriptor(word)\n",
    "        if normalized_word != \"\" :\n",
    "            normalized_sentence.append(str(normalized_word))\n",
    "        else :\n",
    "            pass\n",
    "    normalized_sentences.append(normalized_sentence)"
   ]
  },
  {
   "cell_type": "code",
   "execution_count": 80,
   "id": "94cfe7b1",
   "metadata": {},
   "outputs": [
    {
     "data": {
      "text/plain": [
       "[[], ['elegant'], [], [], [], ['rich'], [], [], ['complex'], ['succulent']]"
      ]
     },
     "execution_count": 80,
     "metadata": {},
     "output_type": "execute_result"
    }
   ],
   "source": [
    "normalized_sentences[:10]"
   ]
  },
  {
   "cell_type": "markdown",
   "id": "0272fdb7",
   "metadata": {},
   "source": [
    "# Model"
   ]
  },
  {
   "cell_type": "markdown",
   "id": "e39e28a0",
   "metadata": {},
   "source": [
    "## Word embeddings with Word2Vec"
   ]
  },
  {
   "cell_type": "code",
   "execution_count": 81,
   "id": "59eef180",
   "metadata": {},
   "outputs": [
    {
     "name": "stdout",
     "output_type": "stream",
     "text": [
      "Word2Vec<vocab=50, vector_size=300, alpha=0.025>\n",
      "CPU times: user 8.68 s, sys: 232 ms, total: 8.91 s\n",
      "Wall time: 10.7 s\n"
     ]
    }
   ],
   "source": [
    "%%time\n",
    "#fit Word2Vec model into corpus \n",
    "model = Word2Vec(normalized_sentences, vector_size=300, min_count=1, epochs=15)\n",
    "print(model)\n",
    "\n",
    "model.save('model.bin')"
   ]
  },
  {
   "cell_type": "code",
   "execution_count": 82,
   "id": "e1bdb9b8",
   "metadata": {},
   "outputs": [
    {
     "data": {
      "text/plain": [
       "['rich',\n",
       " 'light_bodied',\n",
       " 'complex',\n",
       " 'elegant',\n",
       " 'full_bodied',\n",
       " 'depth',\n",
       " 'medium_bodied',\n",
       " 'lush',\n",
       " 'closed',\n",
       " 'heavy',\n",
       " 'weight',\n",
       " 'thick',\n",
       " 'opulent',\n",
       " 'extracted',\n",
       " 'chunky',\n",
       " 'plump',\n",
       " 'modest',\n",
       " 'refined',\n",
       " 'syrupy',\n",
       " 'length',\n",
       " 'low_complexity',\n",
       " 'succulent',\n",
       " 'robust',\n",
       " 'linear',\n",
       " 'finessed',\n",
       " 'hearty',\n",
       " 'lengthy',\n",
       " 'sturdy',\n",
       " 'one_dimensional',\n",
       " 'voluptuous',\n",
       " 'bold',\n",
       " 'feminine',\n",
       " 'luxurious',\n",
       " 'viscous',\n",
       " 'complicated',\n",
       " 'lavish',\n",
       " 'medium_length_finish',\n",
       " 'unoaked',\n",
       " 'mass',\n",
       " 'simple',\n",
       " 'expansive',\n",
       " 'quaffer',\n",
       " 'super_rich',\n",
       " 'easy',\n",
       " 'stout',\n",
       " 'dainty',\n",
       " 'light',\n",
       " 'clampy',\n",
       " 'airy',\n",
       " 'bullish']"
      ]
     },
     "execution_count": 82,
     "metadata": {},
     "output_type": "execute_result"
    }
   ],
   "source": [
    "#list of vocab learned by model\n",
    "model.wv.index_to_key"
   ]
  },
  {
   "cell_type": "code",
   "execution_count": 83,
   "id": "8ca9cbd3",
   "metadata": {},
   "outputs": [
    {
     "data": {
      "text/plain": [
       "[('feminine', 0.9984492063522339),\n",
       " ('linear', 0.9981278777122498),\n",
       " ('finessed', 0.9979815483093262),\n",
       " ('refined', 0.9979263544082642),\n",
       " ('modest', 0.9977827668190002),\n",
       " ('low_complexity', 0.9976708292961121),\n",
       " ('length', 0.9975299835205078),\n",
       " ('quaffer', 0.9973291158676147),\n",
       " ('medium_bodied', 0.997273325920105),\n",
       " ('airy', 0.9972459673881531)]"
      ]
     },
     "execution_count": 83,
     "metadata": {},
     "output_type": "execute_result"
    }
   ],
   "source": [
    "#example \n",
    "model.wv.most_similar(positive='light_bodied', topn=10)"
   ]
  },
  {
   "cell_type": "markdown",
   "id": "6cec89fe",
   "metadata": {},
   "source": [
    "## Merge with dataset"
   ]
  },
  {
   "cell_type": "code",
   "execution_count": 84,
   "id": "0eb67dab",
   "metadata": {},
   "outputs": [
    {
     "data": {
      "application/vnd.jupyter.widget-view+json": {
       "model_id": "1872998fbe954ddf977230d897bdf3b5",
       "version_major": 2,
       "version_minor": 0
      },
      "text/plain": [
       "  0%|          | 0/97851 [00:00<?, ?it/s]"
      ]
     },
     "metadata": {},
     "output_type": "display_data"
    },
    {
     "name": "stdout",
     "output_type": "stream",
     "text": [
      "CPU times: user 4min 38s, sys: 11.3 s, total: 4min 50s\n",
      "Wall time: 6min 43s\n"
     ]
    }
   ],
   "source": [
    "%%time\n",
    "wine_reviews = list(data['description'])\n",
    "\n",
    "def return_descriptor_from_mapping(word):\n",
    "    if word in list(filtered_descriptor_mapping.index):\n",
    "        descriptor_to_return = filtered_descriptor_mapping['level_3'][word]\n",
    "        return descriptor_to_return\n",
    "\n",
    "descriptorized_reviews = []\n",
    "for review in tqdm(wine_reviews):\n",
    "    normalized_review = normalize_text(review)\n",
    "    phrased_review = ngrams[normalized_review]\n",
    "    descriptors_only = [return_descriptor_from_mapping(word) for word in phrased_review]\n",
    "    no_nones = [str(d) for d in descriptors_only if d is not None]\n",
    "    descriptorized_review = ' '.join(no_nones)\n",
    "    descriptorized_reviews.append(descriptorized_review)"
   ]
  },
  {
   "cell_type": "code",
   "execution_count": 85,
   "id": "3a053803",
   "metadata": {},
   "outputs": [
    {
     "data": {
      "text/plain": [
       "['elegant', 'rich', 'complex succulent', '', 'rich']"
      ]
     },
     "execution_count": 85,
     "metadata": {},
     "output_type": "execute_result"
    }
   ],
   "source": [
    "descriptorized_reviews[:5]"
   ]
  },
  {
   "cell_type": "code",
   "execution_count": 86,
   "id": "d82ce390",
   "metadata": {},
   "outputs": [
    {
     "name": "stdout",
     "output_type": "stream",
     "text": [
      "CPU times: user 596 ms, sys: 45.3 ms, total: 642 ms\n",
      "Wall time: 731 ms\n"
     ]
    },
    {
     "name": "stderr",
     "output_type": "stream",
     "text": [
      "/Users/hyunoochang/.pyenv/versions/3.8.12/envs/wineteller/lib/python3.8/site-packages/sklearn/utils/deprecation.py:87: FutureWarning: Function get_feature_names is deprecated; get_feature_names is deprecated in 1.0 and will be removed in 1.2. Please use get_feature_names_out instead.\n",
      "  warnings.warn(msg, category=FutureWarning)\n"
     ]
    }
   ],
   "source": [
    "%%time\n",
    "\n",
    "#apply Tfidf weights and compute wine review vectors from word vectors\n",
    "\n",
    "vectorizer = TfidfVectorizer()\n",
    "X = vectorizer.fit(descriptorized_reviews)\n",
    "\n",
    "dict_of_tfidf_weightings = dict(zip(X.get_feature_names(), X.idf_))"
   ]
  },
  {
   "cell_type": "code",
   "execution_count": 87,
   "id": "61d28453",
   "metadata": {},
   "outputs": [
    {
     "data": {
      "application/vnd.jupyter.widget-view+json": {
       "model_id": "daa95f594e434749b93e93b72cdeedcd",
       "version_major": 2,
       "version_minor": 0
      },
      "text/plain": [
       "  0%|          | 0/97851 [00:00<?, ?it/s]"
      ]
     },
     "metadata": {},
     "output_type": "display_data"
    },
    {
     "name": "stdout",
     "output_type": "stream",
     "text": [
      "CPU times: user 2.94 s, sys: 1.38 s, total: 4.32 s\n",
      "Wall time: 5.52 s\n"
     ]
    }
   ],
   "source": [
    "%%time\n",
    "wine_review_vectors = []\n",
    "for d in tqdm(descriptorized_reviews):\n",
    "    descriptor_count = 0\n",
    "    weighted_review_terms = []\n",
    "    terms = d.split(' ')\n",
    "    for term in terms:\n",
    "        if term in dict_of_tfidf_weightings.keys():\n",
    "            tfidf_weighting = dict_of_tfidf_weightings[term]\n",
    "            word_vector = model.wv.get_vector(term).reshape(1, 300)\n",
    "            weighted_word_vector = tfidf_weighting * word_vector\n",
    "            weighted_review_terms.append(weighted_word_vector)\n",
    "            descriptor_count += 1\n",
    "        else:\n",
    "            continue\n",
    "    try:\n",
    "        review_vector = sum(weighted_review_terms)/len(weighted_review_terms)\n",
    "    except:\n",
    "        review_vector = []\n",
    "    vector_and_count = [terms, review_vector, descriptor_count]\n",
    "    wine_review_vectors.append(vector_and_count)"
   ]
  },
  {
   "cell_type": "code",
   "execution_count": 88,
   "id": "02b5181d",
   "metadata": {},
   "outputs": [],
   "source": [
    "#concatenante in new dataset\n",
    "data['normalized_descriptors'] = list(map(itemgetter(0), wine_review_vectors))\n",
    "data['review_vector'] = list(map(itemgetter(1), wine_review_vectors))\n",
    "data['descriptor_count'] = list(map(itemgetter(2), wine_review_vectors))\n",
    "\n",
    "data.reset_index(inplace=True)"
   ]
  },
  {
   "cell_type": "code",
   "execution_count": 89,
   "id": "e5f82409",
   "metadata": {},
   "outputs": [
    {
     "data": {
      "text/html": [
       "<div>\n",
       "<style scoped>\n",
       "    .dataframe tbody tr th:only-of-type {\n",
       "        vertical-align: middle;\n",
       "    }\n",
       "\n",
       "    .dataframe tbody tr th {\n",
       "        vertical-align: top;\n",
       "    }\n",
       "\n",
       "    .dataframe thead th {\n",
       "        text-align: right;\n",
       "    }\n",
       "</style>\n",
       "<table border=\"1\" class=\"dataframe\">\n",
       "  <thead>\n",
       "    <tr style=\"text-align: right;\">\n",
       "      <th></th>\n",
       "      <th>index</th>\n",
       "      <th>country</th>\n",
       "      <th>description</th>\n",
       "      <th>designation</th>\n",
       "      <th>points</th>\n",
       "      <th>price</th>\n",
       "      <th>province</th>\n",
       "      <th>region_1</th>\n",
       "      <th>region_2</th>\n",
       "      <th>variety</th>\n",
       "      <th>winery</th>\n",
       "      <th>normalized_descriptors</th>\n",
       "      <th>review_vector</th>\n",
       "      <th>descriptor_count</th>\n",
       "    </tr>\n",
       "  </thead>\n",
       "  <tbody>\n",
       "    <tr>\n",
       "      <th>0</th>\n",
       "      <td>0</td>\n",
       "      <td>US</td>\n",
       "      <td>This tremendous 100% varietal wine hails from ...</td>\n",
       "      <td>Martha's Vineyard</td>\n",
       "      <td>96</td>\n",
       "      <td>235.0</td>\n",
       "      <td>California</td>\n",
       "      <td>Napa Valley</td>\n",
       "      <td>Napa</td>\n",
       "      <td>Cabernet Sauvignon</td>\n",
       "      <td>Heitz</td>\n",
       "      <td>[elegant]</td>\n",
       "      <td>[[0.00021687507, 0.14922334, -0.040845368, 0.0...</td>\n",
       "      <td>1</td>\n",
       "    </tr>\n",
       "    <tr>\n",
       "      <th>1</th>\n",
       "      <td>1</td>\n",
       "      <td>Spain</td>\n",
       "      <td>Ripe aromas of fig, blackberry and cassis are ...</td>\n",
       "      <td>Carodorum Selección Especial Reserva</td>\n",
       "      <td>96</td>\n",
       "      <td>110.0</td>\n",
       "      <td>Northern Spain</td>\n",
       "      <td>Toro</td>\n",
       "      <td>NaN</td>\n",
       "      <td>Tinta de Toro</td>\n",
       "      <td>Bodega Carmen Rodríguez</td>\n",
       "      <td>[rich]</td>\n",
       "      <td>[[0.015195419, 0.12782869, -0.004479676, 0.037...</td>\n",
       "      <td>1</td>\n",
       "    </tr>\n",
       "    <tr>\n",
       "      <th>2</th>\n",
       "      <td>2</td>\n",
       "      <td>US</td>\n",
       "      <td>Mac Watson honors the memory of a wine once ma...</td>\n",
       "      <td>Special Selected Late Harvest</td>\n",
       "      <td>96</td>\n",
       "      <td>90.0</td>\n",
       "      <td>California</td>\n",
       "      <td>Knights Valley</td>\n",
       "      <td>Sonoma</td>\n",
       "      <td>Sauvignon Blanc</td>\n",
       "      <td>Macauley</td>\n",
       "      <td>[complex, succulent]</td>\n",
       "      <td>[[0.047932237, 0.21209106, -0.05247305, -0.010...</td>\n",
       "      <td>2</td>\n",
       "    </tr>\n",
       "    <tr>\n",
       "      <th>3</th>\n",
       "      <td>3</td>\n",
       "      <td>US</td>\n",
       "      <td>This spent 20 months in 30% new French oak, an...</td>\n",
       "      <td>Reserve</td>\n",
       "      <td>96</td>\n",
       "      <td>65.0</td>\n",
       "      <td>Oregon</td>\n",
       "      <td>Willamette Valley</td>\n",
       "      <td>Willamette Valley</td>\n",
       "      <td>Pinot Noir</td>\n",
       "      <td>Ponzi</td>\n",
       "      <td>[]</td>\n",
       "      <td>[]</td>\n",
       "      <td>0</td>\n",
       "    </tr>\n",
       "    <tr>\n",
       "      <th>4</th>\n",
       "      <td>4</td>\n",
       "      <td>France</td>\n",
       "      <td>This is the top wine from La Bégude, named aft...</td>\n",
       "      <td>La Brûlade</td>\n",
       "      <td>95</td>\n",
       "      <td>66.0</td>\n",
       "      <td>Provence</td>\n",
       "      <td>Bandol</td>\n",
       "      <td>NaN</td>\n",
       "      <td>Provence red blend</td>\n",
       "      <td>Domaine de la Bégude</td>\n",
       "      <td>[rich]</td>\n",
       "      <td>[[0.015195419, 0.12782869, -0.004479676, 0.037...</td>\n",
       "      <td>1</td>\n",
       "    </tr>\n",
       "  </tbody>\n",
       "</table>\n",
       "</div>"
      ],
      "text/plain": [
       "   index country                                        description  \\\n",
       "0      0      US  This tremendous 100% varietal wine hails from ...   \n",
       "1      1   Spain  Ripe aromas of fig, blackberry and cassis are ...   \n",
       "2      2      US  Mac Watson honors the memory of a wine once ma...   \n",
       "3      3      US  This spent 20 months in 30% new French oak, an...   \n",
       "4      4  France  This is the top wine from La Bégude, named aft...   \n",
       "\n",
       "                            designation  points  price        province  \\\n",
       "0                     Martha's Vineyard      96  235.0      California   \n",
       "1  Carodorum Selección Especial Reserva      96  110.0  Northern Spain   \n",
       "2         Special Selected Late Harvest      96   90.0      California   \n",
       "3                               Reserve      96   65.0          Oregon   \n",
       "4                            La Brûlade      95   66.0        Provence   \n",
       "\n",
       "            region_1           region_2             variety  \\\n",
       "0        Napa Valley               Napa  Cabernet Sauvignon   \n",
       "1               Toro                NaN       Tinta de Toro   \n",
       "2     Knights Valley             Sonoma     Sauvignon Blanc   \n",
       "3  Willamette Valley  Willamette Valley          Pinot Noir   \n",
       "4             Bandol                NaN  Provence red blend   \n",
       "\n",
       "                    winery normalized_descriptors  \\\n",
       "0                    Heitz              [elegant]   \n",
       "1  Bodega Carmen Rodríguez                 [rich]   \n",
       "2                 Macauley   [complex, succulent]   \n",
       "3                    Ponzi                     []   \n",
       "4     Domaine de la Bégude                 [rich]   \n",
       "\n",
       "                                       review_vector  descriptor_count  \n",
       "0  [[0.00021687507, 0.14922334, -0.040845368, 0.0...                 1  \n",
       "1  [[0.015195419, 0.12782869, -0.004479676, 0.037...                 1  \n",
       "2  [[0.047932237, 0.21209106, -0.05247305, -0.010...                 2  \n",
       "3                                                 []                 0  \n",
       "4  [[0.015195419, 0.12782869, -0.004479676, 0.037...                 1  "
      ]
     },
     "execution_count": 89,
     "metadata": {},
     "output_type": "execute_result"
    }
   ],
   "source": [
    "data.head()"
   ]
  },
  {
   "cell_type": "code",
   "execution_count": 90,
   "id": "fa431d33",
   "metadata": {},
   "outputs": [
    {
     "data": {
      "text/plain": [
       "'Ripe aromas of fig, blackberry and cassis are softened and sweetened by a slathering of oaky chocolate and vanilla. This is full, layered, intense and cushioned on the palate, with rich flavors of chocolaty black fruits and baking spices. A toasty, everlasting finish is heady but ideally balanced. Drink through 2023.'"
      ]
     },
     "execution_count": 90,
     "metadata": {},
     "output_type": "execute_result"
    }
   ],
   "source": [
    "data.loc[1,\"description\"]"
   ]
  },
  {
   "cell_type": "code",
   "execution_count": 91,
   "id": "ed2f0486",
   "metadata": {},
   "outputs": [
    {
     "data": {
      "text/plain": [
       "(55199, 14)"
      ]
     },
     "execution_count": 91,
     "metadata": {},
     "output_type": "execute_result"
    }
   ],
   "source": [
    "#rows with no BCF descriptor \n",
    "data[data[\"descriptor_count\"]>0].shape"
   ]
  },
  {
   "cell_type": "code",
   "execution_count": 92,
   "id": "d050d61a",
   "metadata": {},
   "outputs": [],
   "source": [
    "#save in csv"
   ]
  },
  {
   "cell_type": "markdown",
   "id": "40c1d845",
   "metadata": {},
   "source": [
    "# Clusterization "
   ]
  },
  {
   "cell_type": "code",
   "execution_count": 93,
   "id": "c0053533",
   "metadata": {},
   "outputs": [],
   "source": [
    "input_vectors = list(data['review_vector'])"
   ]
  },
  {
   "cell_type": "code",
   "execution_count": 94,
   "id": "bc7a36e8",
   "metadata": {},
   "outputs": [],
   "source": [
    "input_vectors_listed = [type(a) for a in input_vectors]"
   ]
  },
  {
   "cell_type": "code",
   "execution_count": 95,
   "id": "ceddd99a",
   "metadata": {},
   "outputs": [
    {
     "data": {
      "text/plain": [
       "[numpy.ndarray,\n",
       " numpy.ndarray,\n",
       " numpy.ndarray,\n",
       " list,\n",
       " numpy.ndarray,\n",
       " numpy.ndarray,\n",
       " list,\n",
       " numpy.ndarray,\n",
       " numpy.ndarray,\n",
       " numpy.ndarray]"
      ]
     },
     "execution_count": 95,
     "metadata": {},
     "output_type": "execute_result"
    }
   ],
   "source": [
    "input_vectors_listed[:10]"
   ]
  },
  {
   "cell_type": "code",
   "execution_count": 96,
   "id": "790af290",
   "metadata": {},
   "outputs": [
    {
     "data": {
      "text/plain": [
       "(55199, 14)"
      ]
     },
     "execution_count": 96,
     "metadata": {},
     "output_type": "execute_result"
    }
   ],
   "source": [
    "bcf_data = data.loc[data[\"descriptor_count\"]>0]\n",
    "bcf_data.shape"
   ]
  },
  {
   "cell_type": "code",
   "execution_count": 97,
   "id": "469303c5",
   "metadata": {},
   "outputs": [],
   "source": [
    "input_vectors = list(bcf_data[\"review_vector\"])\n",
    "input_vectors_listed = [a.tolist() for a in input_vectors]\n",
    "input_vectors_listed = [a[0] for a in input_vectors_listed]\n"
   ]
  }
 ],
 "metadata": {
  "kernelspec": {
   "display_name": "Python 3 (ipykernel)",
   "language": "python",
   "name": "python3"
  },
  "language_info": {
   "codemirror_mode": {
    "name": "ipython",
    "version": 3
   },
   "file_extension": ".py",
   "mimetype": "text/x-python",
   "name": "python",
   "nbconvert_exporter": "python",
   "pygments_lexer": "ipython3",
   "version": "3.8.12"
  },
  "toc": {
   "base_numbering": 1,
   "nav_menu": {},
   "number_sections": true,
   "sideBar": true,
   "skip_h1_title": false,
   "title_cell": "Table of Contents",
   "title_sidebar": "Contents",
   "toc_cell": false,
   "toc_position": {},
   "toc_section_display": true,
   "toc_window_display": false
  }
 },
 "nbformat": 4,
 "nbformat_minor": 5
}
