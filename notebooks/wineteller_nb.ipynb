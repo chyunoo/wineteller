{
 "cells": [
  {
   "cell_type": "markdown",
   "id": "3bd19110",
   "metadata": {},
   "source": [
    "# Wineteller : Reminder\n",
    "\n",
    "- Build a wine recommender based on occasion rather than intrinsic wine characteristics \n",
    "\n",
    "- Deduce occasion from wine descriptors that can fit an atmosphere -> Body, Complexity, Finish \n",
    "\n",
    "- Use Computational Wine Wheel (mappings) to extract only words that are specific to Body, Complexity and Finish\n",
    "\n",
    "- Train a Word2Vec model -> clusterize with K-means"
   ]
  },
  {
   "cell_type": "markdown",
   "id": "ea10f005",
   "metadata": {
    "heading_collapsed": true
   },
   "source": [
    "# Data Exploration"
   ]
  },
  {
   "cell_type": "code",
   "execution_count": 59,
   "id": "9f3b4032",
   "metadata": {
    "hidden": true
   },
   "outputs": [],
   "source": [
    "#python\n",
    "import pandas as pd\n",
    "import string\n",
    "\n",
    "#compute cell-executing time\n",
    "from tqdm.notebook import trange, tqdm\n",
    "\n",
    "#text preprocessing\n",
    "from operator import itemgetter\n",
    "from nltk.tokenize import word_tokenize, sent_tokenize\n",
    "from nltk.stem import SnowballStemmer\n",
    "from nltk.corpus import stopwords\n",
    "from collections import Counter, OrderedDict\n",
    "\n",
    "#nlp modeling\n",
    "from gensim.models.phrases import Phrases, Phraser\n",
    "from gensim.models import Word2Vec\n",
    "from sklearn.feature_extraction.text import TfidfVectorizer\n",
    "\n",
    "#clusterization \n",
    "from sklearn.metrics.pairwise import cosine_similarity\n",
    "from sklearn.neighbors import NearestNeighbors\n",
    "from sklearn.decomposition import PCA\n",
    "from matplotlib import pyplot as plt"
   ]
  },
  {
   "cell_type": "markdown",
   "id": "917e1d93",
   "metadata": {
    "hidden": true
   },
   "source": [
    "## Load Data"
   ]
  },
  {
   "cell_type": "code",
   "execution_count": 60,
   "id": "476394fc",
   "metadata": {
    "hidden": true
   },
   "outputs": [
    {
     "name": "stdout",
     "output_type": "stream",
     "text": [
      "(150930, 10)\n"
     ]
    }
   ],
   "source": [
    "file_location = '/Users/hyunoochang/code/chyunoo/wineteller/raw_data/winemag-data_first150k.csv'\n",
    "\n",
    "data = pd.read_csv(file_location, index_col='Unnamed: 0')\n",
    "print(data.shape)"
   ]
  },
  {
   "cell_type": "code",
   "execution_count": 61,
   "id": "21700eb0",
   "metadata": {
    "hidden": true
   },
   "outputs": [
    {
     "data": {
      "text/html": [
       "<div>\n",
       "<style scoped>\n",
       "    .dataframe tbody tr th:only-of-type {\n",
       "        vertical-align: middle;\n",
       "    }\n",
       "\n",
       "    .dataframe tbody tr th {\n",
       "        vertical-align: top;\n",
       "    }\n",
       "\n",
       "    .dataframe thead th {\n",
       "        text-align: right;\n",
       "    }\n",
       "</style>\n",
       "<table border=\"1\" class=\"dataframe\">\n",
       "  <thead>\n",
       "    <tr style=\"text-align: right;\">\n",
       "      <th></th>\n",
       "      <th>country</th>\n",
       "      <th>description</th>\n",
       "      <th>designation</th>\n",
       "      <th>points</th>\n",
       "      <th>price</th>\n",
       "      <th>province</th>\n",
       "      <th>region_1</th>\n",
       "      <th>region_2</th>\n",
       "      <th>variety</th>\n",
       "      <th>winery</th>\n",
       "    </tr>\n",
       "  </thead>\n",
       "  <tbody>\n",
       "    <tr>\n",
       "      <th>0</th>\n",
       "      <td>US</td>\n",
       "      <td>This tremendous 100% varietal wine hails from ...</td>\n",
       "      <td>Martha's Vineyard</td>\n",
       "      <td>96</td>\n",
       "      <td>235.0</td>\n",
       "      <td>California</td>\n",
       "      <td>Napa Valley</td>\n",
       "      <td>Napa</td>\n",
       "      <td>Cabernet Sauvignon</td>\n",
       "      <td>Heitz</td>\n",
       "    </tr>\n",
       "    <tr>\n",
       "      <th>1</th>\n",
       "      <td>Spain</td>\n",
       "      <td>Ripe aromas of fig, blackberry and cassis are ...</td>\n",
       "      <td>Carodorum Selección Especial Reserva</td>\n",
       "      <td>96</td>\n",
       "      <td>110.0</td>\n",
       "      <td>Northern Spain</td>\n",
       "      <td>Toro</td>\n",
       "      <td>NaN</td>\n",
       "      <td>Tinta de Toro</td>\n",
       "      <td>Bodega Carmen Rodríguez</td>\n",
       "    </tr>\n",
       "    <tr>\n",
       "      <th>2</th>\n",
       "      <td>US</td>\n",
       "      <td>Mac Watson honors the memory of a wine once ma...</td>\n",
       "      <td>Special Selected Late Harvest</td>\n",
       "      <td>96</td>\n",
       "      <td>90.0</td>\n",
       "      <td>California</td>\n",
       "      <td>Knights Valley</td>\n",
       "      <td>Sonoma</td>\n",
       "      <td>Sauvignon Blanc</td>\n",
       "      <td>Macauley</td>\n",
       "    </tr>\n",
       "    <tr>\n",
       "      <th>3</th>\n",
       "      <td>US</td>\n",
       "      <td>This spent 20 months in 30% new French oak, an...</td>\n",
       "      <td>Reserve</td>\n",
       "      <td>96</td>\n",
       "      <td>65.0</td>\n",
       "      <td>Oregon</td>\n",
       "      <td>Willamette Valley</td>\n",
       "      <td>Willamette Valley</td>\n",
       "      <td>Pinot Noir</td>\n",
       "      <td>Ponzi</td>\n",
       "    </tr>\n",
       "    <tr>\n",
       "      <th>4</th>\n",
       "      <td>France</td>\n",
       "      <td>This is the top wine from La Bégude, named aft...</td>\n",
       "      <td>La Brûlade</td>\n",
       "      <td>95</td>\n",
       "      <td>66.0</td>\n",
       "      <td>Provence</td>\n",
       "      <td>Bandol</td>\n",
       "      <td>NaN</td>\n",
       "      <td>Provence red blend</td>\n",
       "      <td>Domaine de la Bégude</td>\n",
       "    </tr>\n",
       "  </tbody>\n",
       "</table>\n",
       "</div>"
      ],
      "text/plain": [
       "  country                                        description  \\\n",
       "0      US  This tremendous 100% varietal wine hails from ...   \n",
       "1   Spain  Ripe aromas of fig, blackberry and cassis are ...   \n",
       "2      US  Mac Watson honors the memory of a wine once ma...   \n",
       "3      US  This spent 20 months in 30% new French oak, an...   \n",
       "4  France  This is the top wine from La Bégude, named aft...   \n",
       "\n",
       "                            designation  points  price        province  \\\n",
       "0                     Martha's Vineyard      96  235.0      California   \n",
       "1  Carodorum Selección Especial Reserva      96  110.0  Northern Spain   \n",
       "2         Special Selected Late Harvest      96   90.0      California   \n",
       "3                               Reserve      96   65.0          Oregon   \n",
       "4                            La Brûlade      95   66.0        Provence   \n",
       "\n",
       "            region_1           region_2             variety  \\\n",
       "0        Napa Valley               Napa  Cabernet Sauvignon   \n",
       "1               Toro                NaN       Tinta de Toro   \n",
       "2     Knights Valley             Sonoma     Sauvignon Blanc   \n",
       "3  Willamette Valley  Willamette Valley          Pinot Noir   \n",
       "4             Bandol                NaN  Provence red blend   \n",
       "\n",
       "                    winery  \n",
       "0                    Heitz  \n",
       "1  Bodega Carmen Rodríguez  \n",
       "2                 Macauley  \n",
       "3                    Ponzi  \n",
       "4     Domaine de la Bégude  "
      ]
     },
     "execution_count": 61,
     "metadata": {},
     "output_type": "execute_result"
    }
   ],
   "source": [
    "data.head(5)"
   ]
  },
  {
   "cell_type": "markdown",
   "id": "831c3fdd",
   "metadata": {
    "hidden": true
   },
   "source": [
    "## Clean Data"
   ]
  },
  {
   "cell_type": "code",
   "execution_count": 62,
   "id": "83456e17",
   "metadata": {
    "hidden": true
   },
   "outputs": [
    {
     "data": {
      "text/plain": [
       "country            5\n",
       "description        0\n",
       "designation    45735\n",
       "points             0\n",
       "price          13695\n",
       "province           5\n",
       "region_1       25060\n",
       "region_2       89977\n",
       "variety            0\n",
       "winery             0\n",
       "dtype: int64"
      ]
     },
     "execution_count": 62,
     "metadata": {},
     "output_type": "execute_result"
    }
   ],
   "source": [
    "data.isna().sum()"
   ]
  },
  {
   "cell_type": "code",
   "execution_count": 63,
   "id": "7373ef56",
   "metadata": {
    "hidden": true
   },
   "outputs": [
    {
     "data": {
      "text/plain": [
       "(97851, 10)"
      ]
     },
     "execution_count": 63,
     "metadata": {},
     "output_type": "execute_result"
    }
   ],
   "source": [
    "data = data.drop_duplicates()\n",
    "data.shape"
   ]
  },
  {
   "cell_type": "markdown",
   "id": "a883a02e",
   "metadata": {
    "heading_collapsed": true
   },
   "source": [
    "# Data Preprocessing"
   ]
  },
  {
   "cell_type": "code",
   "execution_count": 64,
   "id": "bed174d3",
   "metadata": {
    "hidden": true
   },
   "outputs": [
    {
     "data": {
      "application/vnd.jupyter.widget-view+json": {
       "model_id": "a8f78169d1a541acaf01e99085038748",
       "version_major": 2,
       "version_minor": 0
      },
      "text/plain": [
       "  0%|          | 0/97851 [00:00<?, ?it/s]"
      ]
     },
     "metadata": {},
     "output_type": "display_data"
    },
    {
     "name": "stdout",
     "output_type": "stream",
     "text": [
      "CPU times: user 17 s, sys: 723 ms, total: 17.8 s\n",
      "Wall time: 24.8 s\n"
     ]
    }
   ],
   "source": [
    "%%time\n",
    "#tokenization : reviews -> sentences\n",
    "\n",
    "reviews_list = list(data['description'])\n",
    "reviews_list = [str(r) for r in reviews_list]\n",
    "\n",
    "sentences_tokenized=[]\n",
    "for review in tqdm(reviews_list) :\n",
    "    sentences_tokenized.append(sent_tokenize(review))\n",
    "sentences_tokenized = [item for sublist in sentences_tokenized for item in sublist]"
   ]
  },
  {
   "cell_type": "code",
   "execution_count": 65,
   "id": "f8051fb2",
   "metadata": {
    "hidden": true
   },
   "outputs": [
    {
     "data": {
      "text/plain": [
       "270505"
      ]
     },
     "execution_count": 65,
     "metadata": {},
     "output_type": "execute_result"
    }
   ],
   "source": [
    "len(sentences_tokenized)"
   ]
  },
  {
   "cell_type": "code",
   "execution_count": 66,
   "id": "4c493e58",
   "metadata": {
    "hidden": true
   },
   "outputs": [
    {
     "data": {
      "text/plain": [
       "['This tremendous 100% varietal wine hails from Oakville and was aged over three years in oak.']"
      ]
     },
     "execution_count": 66,
     "metadata": {},
     "output_type": "execute_result"
    }
   ],
   "source": [
    "sentences_tokenized[:1]"
   ]
  },
  {
   "cell_type": "code",
   "execution_count": 67,
   "id": "53e7fd87",
   "metadata": {
    "hidden": true
   },
   "outputs": [
    {
     "data": {
      "application/vnd.jupyter.widget-view+json": {
       "model_id": "9126419fe9f34392a172f5da0a772a9c",
       "version_major": 2,
       "version_minor": 0
      },
      "text/plain": [
       "  0%|          | 0/270505 [00:00<?, ?it/s]"
      ]
     },
     "metadata": {},
     "output_type": "display_data"
    },
    {
     "name": "stdout",
     "output_type": "stream",
     "text": [
      "CPU times: user 3min 48s, sys: 8.82 s, total: 3min 57s\n",
      "Wall time: 5min 34s\n"
     ]
    }
   ],
   "source": [
    "%%time\n",
    "#normalization : remove stopwords and punctuation + tokenize sentences into words\n",
    "\n",
    "stop_words = set(stopwords.words('english')) \n",
    "\n",
    "punctuation_table = str.maketrans({key: None for key in string.punctuation})\n",
    "sno = SnowballStemmer('english')\n",
    "\n",
    "def normalize_text(raw_text):\n",
    "    try:\n",
    "        word_list = word_tokenize(raw_text)\n",
    "        normalized_sentence = []\n",
    "        for w in word_list:\n",
    "            try:\n",
    "                w = str(w)\n",
    "                lower_case_word = str.lower(w)\n",
    "                stemmed_word = sno.stem(lower_case_word)\n",
    "                no_punctuation = stemmed_word.translate(punctuation_table)\n",
    "                if len(no_punctuation) > 1 and no_punctuation not in stop_words:\n",
    "                    normalized_sentence.append(no_punctuation)\n",
    "            except:\n",
    "                continue\n",
    "        return normalized_sentence\n",
    "    except:\n",
    "        return ''\n",
    "\n",
    "sentence_sample = sentences_tokenized[:10]\n",
    "normalized_sentences = []\n",
    "for s in tqdm(sentences_tokenized) :\n",
    "    normalized_text = normalize_text(s)\n",
    "    normalized_sentences.append(normalized_text)"
   ]
  },
  {
   "cell_type": "code",
   "execution_count": 68,
   "id": "f3531a48",
   "metadata": {
    "hidden": true
   },
   "outputs": [
    {
     "data": {
      "text/plain": [
       "[['tremend',\n",
       "  '100',\n",
       "  'variet',\n",
       "  'wine',\n",
       "  'hail',\n",
       "  'oakvill',\n",
       "  'age',\n",
       "  'three',\n",
       "  'year',\n",
       "  'oak']]"
      ]
     },
     "execution_count": 68,
     "metadata": {},
     "output_type": "execute_result"
    }
   ],
   "source": [
    "normalized_sentences[:1]"
   ]
  },
  {
   "cell_type": "code",
   "execution_count": 69,
   "id": "864f9044",
   "metadata": {
    "hidden": true
   },
   "outputs": [
    {
     "data": {
      "application/vnd.jupyter.widget-view+json": {
       "model_id": "8cec7ba2b44443e88a66d9b0983e7d51",
       "version_major": 2,
       "version_minor": 0
      },
      "text/plain": [
       "  0%|          | 0/270505 [00:00<?, ?it/s]"
      ]
     },
     "metadata": {},
     "output_type": "display_data"
    },
    {
     "name": "stdout",
     "output_type": "stream",
     "text": [
      "CPU times: user 32.2 s, sys: 1.14 s, total: 33.3 s\n",
      "Wall time: 39.9 s\n"
     ]
    }
   ],
   "source": [
    "%%time \n",
    "#retrieve bi-grams and tri-grams from normalized sentences\n",
    "\n",
    "phrases = Phrases(normalized_sentences)\n",
    "phrases = Phrases(phrases[normalized_sentences])\n",
    "\n",
    "ngrams = Phraser(phrases)\n",
    "\n",
    "phrased_sentences = []\n",
    "for sent in tqdm(normalized_sentences):\n",
    "    phrased_sentence = ngrams[sent]\n",
    "    phrased_sentences.append(phrased_sentence)\n",
    "\n",
    "full_list_words = [item for sublist in phrased_sentences for item in sublist]"
   ]
  },
  {
   "cell_type": "code",
   "execution_count": 70,
   "id": "1b98c122",
   "metadata": {
    "hidden": true
   },
   "outputs": [
    {
     "data": {
      "text/plain": [
       "[['tremend',\n",
       "  '100_variet',\n",
       "  'wine',\n",
       "  'hail',\n",
       "  'oakvill',\n",
       "  'age',\n",
       "  'three_year',\n",
       "  'oak']]"
      ]
     },
     "execution_count": 70,
     "metadata": {},
     "output_type": "execute_result"
    }
   ],
   "source": [
    "phrased_sentences[:1]"
   ]
  },
  {
   "cell_type": "code",
   "execution_count": 71,
   "id": "d7590b3e",
   "metadata": {
    "hidden": true
   },
   "outputs": [
    {
     "data": {
      "text/plain": [
       "['tremend', '100_variet', 'wine', 'hail', 'oakvill']"
      ]
     },
     "execution_count": 71,
     "metadata": {},
     "output_type": "execute_result"
    }
   ],
   "source": [
    "full_list_words[:5]"
   ]
  },
  {
   "cell_type": "code",
   "execution_count": 72,
   "id": "ce67a6d6",
   "metadata": {
    "hidden": true
   },
   "outputs": [],
   "source": [
    "#most common 5000 words in corpus\n",
    "\n",
    "word_counts = Counter(full_list_words)\n",
    "sorted_counts = OrderedDict(word_counts.most_common(5000))\n",
    "counter_df = pd.DataFrame.from_dict(sorted_counts, orient='index')\n",
    "top_5000_words = counter_df.head(5000)\n",
    "counter_df.to_csv('top_5000_descriptors.csv')"
   ]
  },
  {
   "cell_type": "code",
   "execution_count": 73,
   "id": "74af5e27",
   "metadata": {
    "hidden": true
   },
   "outputs": [
    {
     "data": {
      "text/html": [
       "<div>\n",
       "<style scoped>\n",
       "    .dataframe tbody tr th:only-of-type {\n",
       "        vertical-align: middle;\n",
       "    }\n",
       "\n",
       "    .dataframe tbody tr th {\n",
       "        vertical-align: top;\n",
       "    }\n",
       "\n",
       "    .dataframe thead th {\n",
       "        text-align: right;\n",
       "    }\n",
       "</style>\n",
       "<table border=\"1\" class=\"dataframe\">\n",
       "  <thead>\n",
       "    <tr style=\"text-align: right;\">\n",
       "      <th></th>\n",
       "      <th>0</th>\n",
       "    </tr>\n",
       "  </thead>\n",
       "  <tbody>\n",
       "    <tr>\n",
       "      <th>wine</th>\n",
       "      <td>60966</td>\n",
       "    </tr>\n",
       "    <tr>\n",
       "      <th>flavor</th>\n",
       "      <td>55905</td>\n",
       "    </tr>\n",
       "    <tr>\n",
       "      <th>fruit</th>\n",
       "      <td>40097</td>\n",
       "    </tr>\n",
       "    <tr>\n",
       "      <th>finish</th>\n",
       "      <td>29737</td>\n",
       "    </tr>\n",
       "    <tr>\n",
       "      <th>acid</th>\n",
       "      <td>25920</td>\n",
       "    </tr>\n",
       "  </tbody>\n",
       "</table>\n",
       "</div>"
      ],
      "text/plain": [
       "            0\n",
       "wine    60966\n",
       "flavor  55905\n",
       "fruit   40097\n",
       "finish  29737\n",
       "acid    25920"
      ]
     },
     "execution_count": 73,
     "metadata": {},
     "output_type": "execute_result"
    }
   ],
   "source": [
    "top_5000_words.head()"
   ]
  },
  {
   "cell_type": "code",
   "execution_count": 74,
   "id": "46fb1c23",
   "metadata": {
    "hidden": true
   },
   "outputs": [
    {
     "data": {
      "text/html": [
       "<div>\n",
       "<style scoped>\n",
       "    .dataframe tbody tr th:only-of-type {\n",
       "        vertical-align: middle;\n",
       "    }\n",
       "\n",
       "    .dataframe tbody tr th {\n",
       "        vertical-align: top;\n",
       "    }\n",
       "\n",
       "    .dataframe thead th {\n",
       "        text-align: right;\n",
       "    }\n",
       "</style>\n",
       "<table border=\"1\" class=\"dataframe\">\n",
       "  <thead>\n",
       "    <tr style=\"text-align: right;\">\n",
       "      <th></th>\n",
       "      <th>level_3</th>\n",
       "      <th>level_2</th>\n",
       "      <th>level_1</th>\n",
       "    </tr>\n",
       "    <tr>\n",
       "      <th>raw descriptor</th>\n",
       "      <th></th>\n",
       "      <th></th>\n",
       "      <th></th>\n",
       "    </tr>\n",
       "  </thead>\n",
       "  <tbody>\n",
       "    <tr>\n",
       "      <th>abras</th>\n",
       "      <td>abrasive</td>\n",
       "      <td>high_tannin</td>\n",
       "      <td>tannin</td>\n",
       "    </tr>\n",
       "    <tr>\n",
       "      <th>acacia</th>\n",
       "      <td>acacia</td>\n",
       "      <td>flowery</td>\n",
       "      <td>flower</td>\n",
       "    </tr>\n",
       "    <tr>\n",
       "      <th>acacia_flower</th>\n",
       "      <td>acacia</td>\n",
       "      <td>flowery</td>\n",
       "      <td>flower</td>\n",
       "    </tr>\n",
       "    <tr>\n",
       "      <th>aciddriven</th>\n",
       "      <td>acid_driven</td>\n",
       "      <td>high_acid</td>\n",
       "      <td>acid</td>\n",
       "    </tr>\n",
       "    <tr>\n",
       "      <th>aggress</th>\n",
       "      <td>aggressive</td>\n",
       "      <td>high_acid</td>\n",
       "      <td>acid</td>\n",
       "    </tr>\n",
       "  </tbody>\n",
       "</table>\n",
       "</div>"
      ],
      "text/plain": [
       "                    level_3      level_2 level_1\n",
       "raw descriptor                                  \n",
       "abras              abrasive  high_tannin  tannin\n",
       "acacia               acacia      flowery  flower\n",
       "acacia_flower        acacia      flowery  flower\n",
       "aciddriven      acid_driven    high_acid    acid\n",
       "aggress          aggressive    high_acid    acid"
      ]
     },
     "execution_count": 74,
     "metadata": {},
     "output_type": "execute_result"
    }
   ],
   "source": [
    "#load wine descriptor_mapping\n",
    "map_location = '/Users/hyunoochang/code/chyunoo/wineteller/raw_data/descriptor_mapping.csv'\n",
    "\n",
    "descriptor_mapping = pd.read_csv(map_location).set_index('raw descriptor')\n",
    "descriptor_mapping.head()"
   ]
  },
  {
   "cell_type": "code",
   "execution_count": 75,
   "id": "67dd4dd8",
   "metadata": {
    "hidden": true
   },
   "outputs": [],
   "source": [
    "#occasion 'related' features : body, complexity, finish(B.C.F) -> more body = more intimacy, less body = more energy etc\n",
    "\n",
    "descriptor_list = ['body', 'complexity', 'finish']\n",
    "filtered_descriptor_mapping = descriptor_mapping[descriptor_mapping['level_1'].isin(descriptor_list)]"
   ]
  },
  {
   "cell_type": "code",
   "execution_count": 76,
   "id": "ff73fda9",
   "metadata": {
    "hidden": true
   },
   "outputs": [
    {
     "data": {
      "text/html": [
       "<div>\n",
       "<style scoped>\n",
       "    .dataframe tbody tr th:only-of-type {\n",
       "        vertical-align: middle;\n",
       "    }\n",
       "\n",
       "    .dataframe tbody tr th {\n",
       "        vertical-align: top;\n",
       "    }\n",
       "\n",
       "    .dataframe thead th {\n",
       "        text-align: right;\n",
       "    }\n",
       "</style>\n",
       "<table border=\"1\" class=\"dataframe\">\n",
       "  <thead>\n",
       "    <tr style=\"text-align: right;\">\n",
       "      <th></th>\n",
       "      <th>level_3</th>\n",
       "      <th>level_2</th>\n",
       "      <th>level_1</th>\n",
       "    </tr>\n",
       "    <tr>\n",
       "      <th>raw descriptor</th>\n",
       "      <th></th>\n",
       "      <th></th>\n",
       "      <th></th>\n",
       "    </tr>\n",
       "  </thead>\n",
       "  <tbody>\n",
       "    <tr>\n",
       "      <th>airi</th>\n",
       "      <td>airy</td>\n",
       "      <td>light_bodied</td>\n",
       "      <td>body</td>\n",
       "    </tr>\n",
       "    <tr>\n",
       "      <th>big_bold</th>\n",
       "      <td>bold</td>\n",
       "      <td>full_bodied</td>\n",
       "      <td>body</td>\n",
       "    </tr>\n",
       "    <tr>\n",
       "      <th>bullish</th>\n",
       "      <td>bullish</td>\n",
       "      <td>full_bodied</td>\n",
       "      <td>body</td>\n",
       "    </tr>\n",
       "    <tr>\n",
       "      <th>blocki</th>\n",
       "      <td>chunky</td>\n",
       "      <td>full_bodied</td>\n",
       "      <td>body</td>\n",
       "    </tr>\n",
       "    <tr>\n",
       "      <th>chunki</th>\n",
       "      <td>chunky</td>\n",
       "      <td>full_bodied</td>\n",
       "      <td>body</td>\n",
       "    </tr>\n",
       "  </tbody>\n",
       "</table>\n",
       "</div>"
      ],
      "text/plain": [
       "                level_3       level_2 level_1\n",
       "raw descriptor                               \n",
       "airi               airy  light_bodied    body\n",
       "big_bold           bold   full_bodied    body\n",
       "bullish         bullish   full_bodied    body\n",
       "blocki           chunky   full_bodied    body\n",
       "chunki           chunky   full_bodied    body"
      ]
     },
     "execution_count": 76,
     "metadata": {},
     "output_type": "execute_result"
    }
   ],
   "source": [
    "filtered_descriptor_mapping.head()"
   ]
  },
  {
   "cell_type": "code",
   "execution_count": 77,
   "id": "891dbcc7",
   "metadata": {
    "hidden": true
   },
   "outputs": [
    {
     "data": {
      "text/plain": [
       "body          57\n",
       "complexity    16\n",
       "finish         6\n",
       "Name: level_1, dtype: int64"
      ]
     },
     "execution_count": 77,
     "metadata": {},
     "output_type": "execute_result"
    }
   ],
   "source": [
    "#number of raw descriptors per features \n",
    "filtered_descriptor_mapping[\"level_1\"].value_counts()"
   ]
  },
  {
   "cell_type": "code",
   "execution_count": 78,
   "id": "8f4e5b18",
   "metadata": {
    "hidden": true
   },
   "outputs": [
    {
     "data": {
      "text/plain": [
       "['airi',\n",
       " 'big_bold',\n",
       " 'bullish',\n",
       " 'blocki',\n",
       " 'chunki',\n",
       " 'solid_chunki',\n",
       " 'clampi',\n",
       " 'close',\n",
       " 'complex',\n",
       " 'complic',\n",
       " 'dainti',\n",
       " 'deep',\n",
       " 'depth',\n",
       " 'eas',\n",
       " 'easi_sip',\n",
       " 'eleg',\n",
       " 'expans',\n",
       " 'extract',\n",
       " 'feminin',\n",
       " 'finess',\n",
       " 'ampl_weight',\n",
       " 'bold',\n",
       " 'full_bodi',\n",
       " 'fullbodi',\n",
       " 'soupi',\n",
       " 'weighti',\n",
       " 'hearti',\n",
       " 'heavi',\n",
       " 'heavier',\n",
       " 'heavyweight',\n",
       " 'lavish',\n",
       " 'rather_lean',\n",
       " 'length',\n",
       " 'lengthi',\n",
       " 'long_mouthwat',\n",
       " 'longlast',\n",
       " 'lightest',\n",
       " 'light',\n",
       " 'light_bodi',\n",
       " 'lightbodi',\n",
       " 'lighter',\n",
       " 'lighter_style',\n",
       " 'lightfoot',\n",
       " 'lightweight',\n",
       " 'thin',\n",
       " 'linear',\n",
       " 'straightforward',\n",
       " 'lush',\n",
       " 'luxuri',\n",
       " 'mass',\n",
       " 'medium_bodi',\n",
       " 'medium_fullbodi',\n",
       " 'medium_weight',\n",
       " 'mediumbodi',\n",
       " 'mediumweight',\n",
       " 'medium_length',\n",
       " 'mediumlength_finish',\n",
       " 'modest',\n",
       " 'onedimension',\n",
       " 'opul',\n",
       " 'plump',\n",
       " 'quaffer',\n",
       " 'refin',\n",
       " 'rich',\n",
       " 'richer',\n",
       " 'robust',\n",
       " 'uncompl',\n",
       " 'stout',\n",
       " 'sturdi',\n",
       " 'succul',\n",
       " 'superrich',\n",
       " 'syrup',\n",
       " 'syrupi',\n",
       " 'thick',\n",
       " 'unoak',\n",
       " 'viscos',\n",
       " 'viscous',\n",
       " 'voluptu',\n",
       " 'weight']"
      ]
     },
     "execution_count": 78,
     "metadata": {},
     "output_type": "execute_result"
    }
   ],
   "source": [
    "#list of all raw descriptors (body, finish, complexity)\n",
    "list(filtered_descriptor_mapping.index)"
   ]
  },
  {
   "cell_type": "code",
   "execution_count": 79,
   "id": "9e2d5aa2",
   "metadata": {
    "hidden": true
   },
   "outputs": [
    {
     "data": {
      "application/vnd.jupyter.widget-view+json": {
       "model_id": "13243385786545d3acbd6c3785424d5d",
       "version_major": 2,
       "version_minor": 0
      },
      "text/plain": [
       "  0%|          | 0/270505 [00:00<?, ?it/s]"
      ]
     },
     "metadata": {},
     "output_type": "display_data"
    },
    {
     "name": "stdout",
     "output_type": "stream",
     "text": [
      "CPU times: user 50.3 s, sys: 1.95 s, total: 52.3 s\n",
      "Wall time: 1min 6s\n"
     ]
    }
   ],
   "source": [
    "%%time\n",
    "#apply mapping on each word of each sentence\n",
    "\n",
    "def return_mapped_descriptor(word):\n",
    "    if word in list(filtered_descriptor_mapping.index):\n",
    "        normalized_word = filtered_descriptor_mapping['level_3'][word]\n",
    "        return normalized_word\n",
    "    else:\n",
    "        return \"\"\n",
    "\n",
    "normalized_sentences = []\n",
    "for sent in tqdm(phrased_sentences):\n",
    "    normalized_sentence = []\n",
    "    for word in sent:\n",
    "        normalized_word = return_mapped_descriptor(word)\n",
    "        if normalized_word != \"\" :\n",
    "            normalized_sentence.append(str(normalized_word))\n",
    "        else :\n",
    "            pass\n",
    "    normalized_sentences.append(normalized_sentence)"
   ]
  },
  {
   "cell_type": "code",
   "execution_count": 80,
   "id": "94cfe7b1",
   "metadata": {
    "hidden": true
   },
   "outputs": [
    {
     "data": {
      "text/plain": [
       "[[], ['elegant'], [], [], [], ['rich'], [], [], ['complex'], ['succulent']]"
      ]
     },
     "execution_count": 80,
     "metadata": {},
     "output_type": "execute_result"
    }
   ],
   "source": [
    "normalized_sentences[:10]"
   ]
  },
  {
   "cell_type": "markdown",
   "id": "0272fdb7",
   "metadata": {
    "heading_collapsed": true
   },
   "source": [
    "# Model"
   ]
  },
  {
   "cell_type": "markdown",
   "id": "9a77d3c0",
   "metadata": {
    "hidden": true
   },
   "source": [
    "## Word embeddings with Word2Vec"
   ]
  },
  {
   "cell_type": "code",
   "execution_count": 81,
   "id": "59eef180",
   "metadata": {
    "hidden": true
   },
   "outputs": [
    {
     "name": "stdout",
     "output_type": "stream",
     "text": [
      "Word2Vec<vocab=50, vector_size=300, alpha=0.025>\n",
      "CPU times: user 8.68 s, sys: 232 ms, total: 8.91 s\n",
      "Wall time: 10.7 s\n"
     ]
    }
   ],
   "source": [
    "%%time\n",
    "#fit Word2Vec model into corpus \n",
    "model = Word2Vec(normalized_sentences, vector_size=300, min_count=1, epochs=15)\n",
    "print(model)\n",
    "\n",
    "model.save('model.bin')"
   ]
  },
  {
   "cell_type": "code",
   "execution_count": 82,
   "id": "e1bdb9b8",
   "metadata": {
    "hidden": true
   },
   "outputs": [
    {
     "data": {
      "text/plain": [
       "['rich',\n",
       " 'light_bodied',\n",
       " 'complex',\n",
       " 'elegant',\n",
       " 'full_bodied',\n",
       " 'depth',\n",
       " 'medium_bodied',\n",
       " 'lush',\n",
       " 'closed',\n",
       " 'heavy',\n",
       " 'weight',\n",
       " 'thick',\n",
       " 'opulent',\n",
       " 'extracted',\n",
       " 'chunky',\n",
       " 'plump',\n",
       " 'modest',\n",
       " 'refined',\n",
       " 'syrupy',\n",
       " 'length',\n",
       " 'low_complexity',\n",
       " 'succulent',\n",
       " 'robust',\n",
       " 'linear',\n",
       " 'finessed',\n",
       " 'hearty',\n",
       " 'lengthy',\n",
       " 'sturdy',\n",
       " 'one_dimensional',\n",
       " 'voluptuous',\n",
       " 'bold',\n",
       " 'feminine',\n",
       " 'luxurious',\n",
       " 'viscous',\n",
       " 'complicated',\n",
       " 'lavish',\n",
       " 'medium_length_finish',\n",
       " 'unoaked',\n",
       " 'mass',\n",
       " 'simple',\n",
       " 'expansive',\n",
       " 'quaffer',\n",
       " 'super_rich',\n",
       " 'easy',\n",
       " 'stout',\n",
       " 'dainty',\n",
       " 'light',\n",
       " 'clampy',\n",
       " 'airy',\n",
       " 'bullish']"
      ]
     },
     "execution_count": 82,
     "metadata": {},
     "output_type": "execute_result"
    }
   ],
   "source": [
    "#list of vocab learned by model\n",
    "model.wv.index_to_key"
   ]
  },
  {
   "cell_type": "code",
   "execution_count": 120,
   "id": "8ca9cbd3",
   "metadata": {
    "hidden": true
   },
   "outputs": [
    {
     "data": {
      "text/plain": [
       "[('feminine', 0.9984492063522339),\n",
       " ('linear', 0.9981278777122498),\n",
       " ('finessed', 0.9979815483093262),\n",
       " ('refined', 0.9979263544082642),\n",
       " ('modest', 0.9977827668190002),\n",
       " ('low_complexity', 0.9976708292961121),\n",
       " ('length', 0.9975299835205078),\n",
       " ('quaffer', 0.9973291158676147),\n",
       " ('medium_bodied', 0.997273325920105),\n",
       " ('airy', 0.9972459673881531),\n",
       " ('sturdy', 0.9971774220466614),\n",
       " ('easy', 0.9971200823783875),\n",
       " ('simple', 0.9970458745956421),\n",
       " ('light', 0.9969235062599182),\n",
       " ('unoaked', 0.9967983365058899),\n",
       " ('dainty', 0.9966878890991211),\n",
       " ('closed', 0.9966592192649841),\n",
       " ('hearty', 0.9966194033622742),\n",
       " ('elegant', 0.9965943694114685),\n",
       " ('medium_length_finish', 0.996440589427948)]"
      ]
     },
     "execution_count": 120,
     "metadata": {},
     "output_type": "execute_result"
    }
   ],
   "source": [
    "#example \n",
    "model.wv.most_similar(positive='light_bodied', topn=20)"
   ]
  },
  {
   "cell_type": "markdown",
   "id": "5b08555f",
   "metadata": {
    "hidden": true
   },
   "source": [
    "## Merge with dataset"
   ]
  },
  {
   "cell_type": "code",
   "execution_count": 84,
   "id": "0eb67dab",
   "metadata": {
    "hidden": true
   },
   "outputs": [
    {
     "data": {
      "application/vnd.jupyter.widget-view+json": {
       "model_id": "1872998fbe954ddf977230d897bdf3b5",
       "version_major": 2,
       "version_minor": 0
      },
      "text/plain": [
       "  0%|          | 0/97851 [00:00<?, ?it/s]"
      ]
     },
     "metadata": {},
     "output_type": "display_data"
    },
    {
     "name": "stdout",
     "output_type": "stream",
     "text": [
      "CPU times: user 4min 38s, sys: 11.3 s, total: 4min 50s\n",
      "Wall time: 6min 43s\n"
     ]
    }
   ],
   "source": [
    "%%time\n",
    "wine_reviews = list(data['description'])\n",
    "\n",
    "def return_descriptor_from_mapping(word):\n",
    "    if word in list(filtered_descriptor_mapping.index):\n",
    "        descriptor_to_return = filtered_descriptor_mapping['level_3'][word]\n",
    "        return descriptor_to_return\n",
    "\n",
    "descriptorized_reviews = []\n",
    "for review in tqdm(wine_reviews):\n",
    "    normalized_review = normalize_text(review)\n",
    "    phrased_review = ngrams[normalized_review]\n",
    "    descriptors_only = [return_descriptor_from_mapping(word) for word in phrased_review]\n",
    "    no_nones = [str(d) for d in descriptors_only if d is not None]\n",
    "    descriptorized_review = ' '.join(no_nones)\n",
    "    descriptorized_reviews.append(descriptorized_review)"
   ]
  },
  {
   "cell_type": "code",
   "execution_count": 85,
   "id": "3a053803",
   "metadata": {
    "hidden": true
   },
   "outputs": [
    {
     "data": {
      "text/plain": [
       "['elegant', 'rich', 'complex succulent', '', 'rich']"
      ]
     },
     "execution_count": 85,
     "metadata": {},
     "output_type": "execute_result"
    }
   ],
   "source": [
    "descriptorized_reviews[:5]"
   ]
  },
  {
   "cell_type": "code",
   "execution_count": 86,
   "id": "d82ce390",
   "metadata": {
    "hidden": true
   },
   "outputs": [
    {
     "name": "stdout",
     "output_type": "stream",
     "text": [
      "CPU times: user 596 ms, sys: 45.3 ms, total: 642 ms\n",
      "Wall time: 731 ms\n"
     ]
    },
    {
     "name": "stderr",
     "output_type": "stream",
     "text": [
      "/Users/hyunoochang/.pyenv/versions/3.8.12/envs/wineteller/lib/python3.8/site-packages/sklearn/utils/deprecation.py:87: FutureWarning: Function get_feature_names is deprecated; get_feature_names is deprecated in 1.0 and will be removed in 1.2. Please use get_feature_names_out instead.\n",
      "  warnings.warn(msg, category=FutureWarning)\n"
     ]
    }
   ],
   "source": [
    "%%time\n",
    "\n",
    "#apply Tfidf weights and compute wine review vectors from word vectors\n",
    "\n",
    "vectorizer = TfidfVectorizer()\n",
    "X = vectorizer.fit(descriptorized_reviews)\n",
    "\n",
    "dict_of_tfidf_weightings = dict(zip(X.get_feature_names(), X.idf_))"
   ]
  },
  {
   "cell_type": "code",
   "execution_count": 87,
   "id": "61d28453",
   "metadata": {
    "hidden": true
   },
   "outputs": [
    {
     "data": {
      "application/vnd.jupyter.widget-view+json": {
       "model_id": "daa95f594e434749b93e93b72cdeedcd",
       "version_major": 2,
       "version_minor": 0
      },
      "text/plain": [
       "  0%|          | 0/97851 [00:00<?, ?it/s]"
      ]
     },
     "metadata": {},
     "output_type": "display_data"
    },
    {
     "name": "stdout",
     "output_type": "stream",
     "text": [
      "CPU times: user 2.94 s, sys: 1.38 s, total: 4.32 s\n",
      "Wall time: 5.52 s\n"
     ]
    }
   ],
   "source": [
    "%%time\n",
    "wine_review_vectors = []\n",
    "for d in tqdm(descriptorized_reviews):\n",
    "    descriptor_count = 0\n",
    "    weighted_review_terms = []\n",
    "    terms = d.split(' ')\n",
    "    for term in terms:\n",
    "        if term in dict_of_tfidf_weightings.keys():\n",
    "            tfidf_weighting = dict_of_tfidf_weightings[term]\n",
    "            word_vector = model.wv.get_vector(term).reshape(1, 300)\n",
    "            weighted_word_vector = tfidf_weighting * word_vector\n",
    "            weighted_review_terms.append(weighted_word_vector)\n",
    "            descriptor_count += 1\n",
    "        else:\n",
    "            continue\n",
    "    try:\n",
    "        review_vector = sum(weighted_review_terms)/len(weighted_review_terms)\n",
    "    except:\n",
    "        review_vector = []\n",
    "    vector_and_count = [terms, review_vector, descriptor_count]\n",
    "    wine_review_vectors.append(vector_and_count)"
   ]
  },
  {
   "cell_type": "code",
   "execution_count": 88,
   "id": "02b5181d",
   "metadata": {
    "hidden": true
   },
   "outputs": [],
   "source": [
    "#concatenante in new dataset\n",
    "data['normalized_descriptors'] = list(map(itemgetter(0), wine_review_vectors))\n",
    "data['review_vector'] = list(map(itemgetter(1), wine_review_vectors))\n",
    "data['descriptor_count'] = list(map(itemgetter(2), wine_review_vectors))\n",
    "\n",
    "data.reset_index(inplace=True)"
   ]
  },
  {
   "cell_type": "code",
   "execution_count": 89,
   "id": "e5f82409",
   "metadata": {
    "hidden": true
   },
   "outputs": [
    {
     "data": {
      "text/html": [
       "<div>\n",
       "<style scoped>\n",
       "    .dataframe tbody tr th:only-of-type {\n",
       "        vertical-align: middle;\n",
       "    }\n",
       "\n",
       "    .dataframe tbody tr th {\n",
       "        vertical-align: top;\n",
       "    }\n",
       "\n",
       "    .dataframe thead th {\n",
       "        text-align: right;\n",
       "    }\n",
       "</style>\n",
       "<table border=\"1\" class=\"dataframe\">\n",
       "  <thead>\n",
       "    <tr style=\"text-align: right;\">\n",
       "      <th></th>\n",
       "      <th>index</th>\n",
       "      <th>country</th>\n",
       "      <th>description</th>\n",
       "      <th>designation</th>\n",
       "      <th>points</th>\n",
       "      <th>price</th>\n",
       "      <th>province</th>\n",
       "      <th>region_1</th>\n",
       "      <th>region_2</th>\n",
       "      <th>variety</th>\n",
       "      <th>winery</th>\n",
       "      <th>normalized_descriptors</th>\n",
       "      <th>review_vector</th>\n",
       "      <th>descriptor_count</th>\n",
       "    </tr>\n",
       "  </thead>\n",
       "  <tbody>\n",
       "    <tr>\n",
       "      <th>0</th>\n",
       "      <td>0</td>\n",
       "      <td>US</td>\n",
       "      <td>This tremendous 100% varietal wine hails from ...</td>\n",
       "      <td>Martha's Vineyard</td>\n",
       "      <td>96</td>\n",
       "      <td>235.0</td>\n",
       "      <td>California</td>\n",
       "      <td>Napa Valley</td>\n",
       "      <td>Napa</td>\n",
       "      <td>Cabernet Sauvignon</td>\n",
       "      <td>Heitz</td>\n",
       "      <td>[elegant]</td>\n",
       "      <td>[[0.00021687507, 0.14922334, -0.040845368, 0.0...</td>\n",
       "      <td>1</td>\n",
       "    </tr>\n",
       "    <tr>\n",
       "      <th>1</th>\n",
       "      <td>1</td>\n",
       "      <td>Spain</td>\n",
       "      <td>Ripe aromas of fig, blackberry and cassis are ...</td>\n",
       "      <td>Carodorum Selección Especial Reserva</td>\n",
       "      <td>96</td>\n",
       "      <td>110.0</td>\n",
       "      <td>Northern Spain</td>\n",
       "      <td>Toro</td>\n",
       "      <td>NaN</td>\n",
       "      <td>Tinta de Toro</td>\n",
       "      <td>Bodega Carmen Rodríguez</td>\n",
       "      <td>[rich]</td>\n",
       "      <td>[[0.015195419, 0.12782869, -0.004479676, 0.037...</td>\n",
       "      <td>1</td>\n",
       "    </tr>\n",
       "    <tr>\n",
       "      <th>2</th>\n",
       "      <td>2</td>\n",
       "      <td>US</td>\n",
       "      <td>Mac Watson honors the memory of a wine once ma...</td>\n",
       "      <td>Special Selected Late Harvest</td>\n",
       "      <td>96</td>\n",
       "      <td>90.0</td>\n",
       "      <td>California</td>\n",
       "      <td>Knights Valley</td>\n",
       "      <td>Sonoma</td>\n",
       "      <td>Sauvignon Blanc</td>\n",
       "      <td>Macauley</td>\n",
       "      <td>[complex, succulent]</td>\n",
       "      <td>[[0.047932237, 0.21209106, -0.05247305, -0.010...</td>\n",
       "      <td>2</td>\n",
       "    </tr>\n",
       "    <tr>\n",
       "      <th>3</th>\n",
       "      <td>3</td>\n",
       "      <td>US</td>\n",
       "      <td>This spent 20 months in 30% new French oak, an...</td>\n",
       "      <td>Reserve</td>\n",
       "      <td>96</td>\n",
       "      <td>65.0</td>\n",
       "      <td>Oregon</td>\n",
       "      <td>Willamette Valley</td>\n",
       "      <td>Willamette Valley</td>\n",
       "      <td>Pinot Noir</td>\n",
       "      <td>Ponzi</td>\n",
       "      <td>[]</td>\n",
       "      <td>[]</td>\n",
       "      <td>0</td>\n",
       "    </tr>\n",
       "    <tr>\n",
       "      <th>4</th>\n",
       "      <td>4</td>\n",
       "      <td>France</td>\n",
       "      <td>This is the top wine from La Bégude, named aft...</td>\n",
       "      <td>La Brûlade</td>\n",
       "      <td>95</td>\n",
       "      <td>66.0</td>\n",
       "      <td>Provence</td>\n",
       "      <td>Bandol</td>\n",
       "      <td>NaN</td>\n",
       "      <td>Provence red blend</td>\n",
       "      <td>Domaine de la Bégude</td>\n",
       "      <td>[rich]</td>\n",
       "      <td>[[0.015195419, 0.12782869, -0.004479676, 0.037...</td>\n",
       "      <td>1</td>\n",
       "    </tr>\n",
       "  </tbody>\n",
       "</table>\n",
       "</div>"
      ],
      "text/plain": [
       "   index country                                        description  \\\n",
       "0      0      US  This tremendous 100% varietal wine hails from ...   \n",
       "1      1   Spain  Ripe aromas of fig, blackberry and cassis are ...   \n",
       "2      2      US  Mac Watson honors the memory of a wine once ma...   \n",
       "3      3      US  This spent 20 months in 30% new French oak, an...   \n",
       "4      4  France  This is the top wine from La Bégude, named aft...   \n",
       "\n",
       "                            designation  points  price        province  \\\n",
       "0                     Martha's Vineyard      96  235.0      California   \n",
       "1  Carodorum Selección Especial Reserva      96  110.0  Northern Spain   \n",
       "2         Special Selected Late Harvest      96   90.0      California   \n",
       "3                               Reserve      96   65.0          Oregon   \n",
       "4                            La Brûlade      95   66.0        Provence   \n",
       "\n",
       "            region_1           region_2             variety  \\\n",
       "0        Napa Valley               Napa  Cabernet Sauvignon   \n",
       "1               Toro                NaN       Tinta de Toro   \n",
       "2     Knights Valley             Sonoma     Sauvignon Blanc   \n",
       "3  Willamette Valley  Willamette Valley          Pinot Noir   \n",
       "4             Bandol                NaN  Provence red blend   \n",
       "\n",
       "                    winery normalized_descriptors  \\\n",
       "0                    Heitz              [elegant]   \n",
       "1  Bodega Carmen Rodríguez                 [rich]   \n",
       "2                 Macauley   [complex, succulent]   \n",
       "3                    Ponzi                     []   \n",
       "4     Domaine de la Bégude                 [rich]   \n",
       "\n",
       "                                       review_vector  descriptor_count  \n",
       "0  [[0.00021687507, 0.14922334, -0.040845368, 0.0...                 1  \n",
       "1  [[0.015195419, 0.12782869, -0.004479676, 0.037...                 1  \n",
       "2  [[0.047932237, 0.21209106, -0.05247305, -0.010...                 2  \n",
       "3                                                 []                 0  \n",
       "4  [[0.015195419, 0.12782869, -0.004479676, 0.037...                 1  "
      ]
     },
     "execution_count": 89,
     "metadata": {},
     "output_type": "execute_result"
    }
   ],
   "source": [
    "data.head()"
   ]
  },
  {
   "cell_type": "code",
   "execution_count": 90,
   "id": "fa431d33",
   "metadata": {
    "hidden": true
   },
   "outputs": [
    {
     "data": {
      "text/plain": [
       "'Ripe aromas of fig, blackberry and cassis are softened and sweetened by a slathering of oaky chocolate and vanilla. This is full, layered, intense and cushioned on the palate, with rich flavors of chocolaty black fruits and baking spices. A toasty, everlasting finish is heady but ideally balanced. Drink through 2023.'"
      ]
     },
     "execution_count": 90,
     "metadata": {},
     "output_type": "execute_result"
    }
   ],
   "source": [
    "data.loc[1,\"description\"]"
   ]
  },
  {
   "cell_type": "code",
   "execution_count": 91,
   "id": "ed2f0486",
   "metadata": {
    "hidden": true
   },
   "outputs": [
    {
     "data": {
      "text/plain": [
       "(55199, 14)"
      ]
     },
     "execution_count": 91,
     "metadata": {},
     "output_type": "execute_result"
    }
   ],
   "source": [
    "#rows with no BCF descriptor \n",
    "data[data[\"descriptor_count\"]>0].shape"
   ]
  },
  {
   "cell_type": "code",
   "execution_count": 92,
   "id": "d050d61a",
   "metadata": {
    "hidden": true
   },
   "outputs": [],
   "source": [
    "#save in csv"
   ]
  },
  {
   "cell_type": "markdown",
   "id": "40c1d845",
   "metadata": {
    "heading_collapsed": true
   },
   "source": [
    "# Clusterization "
   ]
  },
  {
   "cell_type": "code",
   "execution_count": 93,
   "id": "c0053533",
   "metadata": {
    "hidden": true
   },
   "outputs": [],
   "source": [
    "input_vectors = list(data['review_vector'])"
   ]
  },
  {
   "cell_type": "code",
   "execution_count": 94,
   "id": "bc7a36e8",
   "metadata": {
    "hidden": true
   },
   "outputs": [],
   "source": [
    "input_vectors_listed = [type(a) for a in input_vectors]"
   ]
  },
  {
   "cell_type": "code",
   "execution_count": 95,
   "id": "ceddd99a",
   "metadata": {
    "hidden": true
   },
   "outputs": [
    {
     "data": {
      "text/plain": [
       "[numpy.ndarray,\n",
       " numpy.ndarray,\n",
       " numpy.ndarray,\n",
       " list,\n",
       " numpy.ndarray,\n",
       " numpy.ndarray,\n",
       " list,\n",
       " numpy.ndarray,\n",
       " numpy.ndarray,\n",
       " numpy.ndarray]"
      ]
     },
     "execution_count": 95,
     "metadata": {},
     "output_type": "execute_result"
    }
   ],
   "source": [
    "input_vectors_listed[:10]"
   ]
  },
  {
   "cell_type": "code",
   "execution_count": 96,
   "id": "790af290",
   "metadata": {
    "hidden": true
   },
   "outputs": [
    {
     "data": {
      "text/plain": [
       "(55199, 14)"
      ]
     },
     "execution_count": 96,
     "metadata": {},
     "output_type": "execute_result"
    }
   ],
   "source": [
    "bcf_data = data.loc[data[\"descriptor_count\"]>0]\n",
    "bcf_data.shape"
   ]
  },
  {
   "cell_type": "code",
   "execution_count": 106,
   "id": "469303c5",
   "metadata": {
    "hidden": true
   },
   "outputs": [],
   "source": [
    "input_vectors = list(bcf_data[\"review_vector\"])"
   ]
  },
  {
   "cell_type": "code",
   "execution_count": 118,
   "id": "680146e8",
   "metadata": {
    "hidden": true
   },
   "outputs": [
    {
     "data": {
      "text/plain": [
       "[array([[ 2.16875065e-04,  1.49223343e-01, -4.08453681e-02,\n",
       "          4.64704745e-02, -1.54722989e-01, -3.90235960e-01,\n",
       "          1.69378638e-01,  7.93100834e-01, -9.84736905e-03,\n",
       "         -3.55258793e-01,  3.93205196e-01, -1.57392323e-01,\n",
       "         -1.66908249e-01,  3.69446486e-01, -2.40434289e-01,\n",
       "         -1.91845089e-01,  3.11993152e-01, -1.74097806e-01,\n",
       "          3.26657854e-02, -3.31091195e-01, -5.97387739e-03,\n",
       "         -2.01914564e-01,  1.79754011e-02,  1.62239403e-01,\n",
       "          7.25750998e-02, -5.51029928e-02, -3.86371493e-01,\n",
       "          3.04610372e-01, -1.81376174e-01, -2.37972572e-01,\n",
       "          7.17296898e-02, -1.67084798e-01,  2.78835565e-01,\n",
       "         -1.38280541e-01, -6.96543753e-02,  9.44915116e-02,\n",
       "          5.59572019e-02, -3.51908833e-01,  1.05551384e-01,\n",
       "         -2.01598898e-01, -1.05937541e-01,  1.65763013e-02,\n",
       "         -4.04731445e-02, -2.52373338e-01,  1.31698847e-01,\n",
       "          1.38928220e-01, -1.81922644e-01,  9.09381956e-02,\n",
       "         -1.91948526e-02,  3.03617477e-01,  2.35510506e-02,\n",
       "          1.32038906e-01, -3.28847438e-01,  2.79411405e-01,\n",
       "          1.38795823e-01,  4.96510454e-02, -4.40882472e-03,\n",
       "         -5.23616262e-02,  1.98965058e-01,  1.55461714e-01,\n",
       "         -9.33807716e-02,  2.30208747e-02,  1.91452846e-01,\n",
       "          2.54371941e-01, -1.85889989e-01,  3.09671730e-01,\n",
       "          9.36719403e-02,  2.39093617e-01, -3.51773709e-01,\n",
       "          1.30498245e-01,  2.61073500e-01,  4.30629611e-01,\n",
       "          1.34812385e-01, -3.00143510e-01,  5.85113227e-01,\n",
       "         -3.51026267e-01,  1.94431911e-03, -5.48344962e-02,\n",
       "         -1.63712129e-01, -1.49115011e-01, -2.58170515e-01,\n",
       "         -1.57958120e-01, -1.61805779e-01,  8.19999099e-01,\n",
       "         -1.11471556e-01, -4.33681868e-02,  2.82891184e-01,\n",
       "         -2.83452809e-01,  2.63096482e-01,  2.22580284e-01,\n",
       "         -9.54603776e-03, -2.82138258e-01,  2.71745443e-01,\n",
       "         -5.51090501e-02,  3.98751944e-01,  2.01965138e-01,\n",
       "          3.64034176e-02, -9.57216416e-03,  6.24654396e-03,\n",
       "          2.80646473e-01, -2.51311660e-02,  4.29699495e-02,\n",
       "          2.63504945e-02,  1.11844644e-01, -2.15248138e-01,\n",
       "         -4.01814759e-01, -9.15178508e-02,  1.40000001e-01,\n",
       "         -2.78503507e-01, -3.35661411e-01, -3.93801033e-01,\n",
       "         -3.95221472e-01,  1.15019038e-01,  2.52468407e-01,\n",
       "          2.32060671e-01,  2.70930201e-01,  8.93270969e-02,\n",
       "          2.88620293e-01,  1.00123629e-01, -5.65126300e-01,\n",
       "          2.85096914e-01,  2.61937648e-01,  3.51926297e-01,\n",
       "         -1.32168278e-01,  1.41730756e-02,  4.38611954e-01,\n",
       "         -4.09874111e-01, -3.46587032e-01,  1.30067080e-01,\n",
       "          5.06207049e-01,  1.56838372e-01,  2.35433877e-01,\n",
       "          4.14893031e-01, -5.82859278e-01,  1.74655035e-01,\n",
       "          4.10422683e-01, -9.18782949e-02, -2.65006628e-02,\n",
       "         -3.84903193e-01, -1.72383070e-01,  2.36570045e-01,\n",
       "         -2.07732037e-01, -2.76558876e-01,  3.09767425e-01,\n",
       "          9.28227324e-03, -3.15102376e-02, -2.86135226e-01,\n",
       "         -2.55023599e-01,  1.77766100e-01, -1.67930901e-01,\n",
       "          1.55970696e-02, -5.24255097e-01, -2.45711636e-02,\n",
       "         -1.70628726e-01,  5.63641675e-02,  4.25469995e-01,\n",
       "         -8.27705860e-02, -1.19740561e-01, -3.61260884e-02,\n",
       "          4.41922456e-01, -4.30431999e-02, -9.15554762e-02,\n",
       "         -3.50486524e-02,  4.04926986e-01,  5.97436018e-02,\n",
       "          3.62593085e-01, -3.14604938e-01,  9.91257355e-02,\n",
       "          8.94145742e-02,  3.80026162e-01, -1.22437924e-01,\n",
       "         -5.87576814e-02,  1.87959075e-01,  2.37425566e-01,\n",
       "          2.22990885e-01,  9.30910185e-02, -6.04479667e-03,\n",
       "         -2.42922470e-01,  1.77949548e-01,  2.29841769e-02,\n",
       "         -2.76457191e-01,  1.02685668e-01, -8.64370540e-02,\n",
       "         -9.14511904e-02, -3.24763179e-01, -7.67391175e-02,\n",
       "          5.05121589e-01,  3.06622624e-01,  2.49803483e-01,\n",
       "         -1.42387748e-01,  5.51727951e-01,  1.73210397e-01,\n",
       "         -2.62892663e-01,  1.14536360e-02, -1.39910400e-01,\n",
       "         -3.23847532e-01, -6.60607815e-02, -1.93594560e-01,\n",
       "         -9.51024517e-02,  2.18944177e-01,  9.69937146e-02,\n",
       "          1.57575727e-01,  9.03435871e-02, -6.02155849e-02,\n",
       "          3.97018462e-01, -2.39179909e-01,  2.60526180e-01,\n",
       "          3.90605688e-01, -2.25010589e-02, -3.26140702e-01,\n",
       "         -5.90027031e-03, -4.23568070e-01,  1.80683434e-02,\n",
       "         -2.06094086e-01,  4.57546562e-01, -1.54056430e-01,\n",
       "         -1.94870785e-01, -4.67074901e-01, -2.38135219e-01,\n",
       "         -4.67662990e-01,  7.74961337e-02,  1.82792544e-01,\n",
       "         -1.09669454e-01, -4.64916408e-01, -1.49375230e-01,\n",
       "         -1.35416508e-01,  1.92613885e-01, -2.98331417e-02,\n",
       "         -5.95719256e-02, -9.24531221e-02,  1.95151433e-01,\n",
       "         -3.89092177e-01, -1.79257333e-01, -4.72734086e-02,\n",
       "         -3.21904242e-01,  2.60513518e-02,  1.71209395e-01,\n",
       "          4.06992614e-01,  1.06627099e-01, -3.17637324e-01,\n",
       "          1.85098395e-01, -2.02124387e-01,  2.04289015e-02,\n",
       "          5.21354787e-02,  2.39294335e-01, -2.39028290e-01,\n",
       "         -6.39346391e-02, -1.27778590e-01,  6.51101768e-02,\n",
       "          3.50218147e-01,  1.45807222e-01, -2.27486715e-02,\n",
       "          3.21597815e-01, -2.73487538e-01, -1.34733289e-01,\n",
       "         -1.71297386e-01,  4.30534929e-01,  1.68229669e-01,\n",
       "         -3.64215791e-01, -2.37493396e-01, -2.87697297e-02,\n",
       "         -8.82740915e-02,  5.10385871e-01, -3.23000163e-01,\n",
       "         -5.51100612e-01,  2.84110516e-01,  3.51103455e-01,\n",
       "          2.88066953e-01, -4.83853370e-01,  2.22370043e-01,\n",
       "          1.53943198e-02,  9.86166447e-02,  2.53184617e-01,\n",
       "          8.62971842e-02,  1.22086704e-01,  2.41082072e-01,\n",
       "          2.18737319e-01,  3.30515087e-01, -4.21018779e-01,\n",
       "          1.38090119e-01, -1.00222230e-01,  4.68284860e-02,\n",
       "         -2.35210270e-01,  2.09612474e-02, -2.99727507e-02,\n",
       "          8.29298720e-02, -1.49914682e-01,  1.71704888e-02,\n",
       "          1.26281604e-01,  1.77416146e-01,  2.86809862e-01,\n",
       "          3.41017127e-01,  3.40596676e-01,  2.84564704e-01,\n",
       "          5.74258864e-01,  3.25603336e-01,  1.03492260e-01,\n",
       "          1.52877450e-01, -4.07403149e-02, -3.44217241e-01]], dtype=float32)]"
      ]
     },
     "execution_count": 118,
     "metadata": {},
     "output_type": "execute_result"
    }
   ],
   "source": [
    "input_vectors[:1]"
   ]
  },
  {
   "cell_type": "code",
   "execution_count": 108,
   "id": "433e6bd0",
   "metadata": {
    "hidden": true
   },
   "outputs": [],
   "source": [
    "input_vectors_listed = [a.tolist() for a in input_vectors]"
   ]
  },
  {
   "cell_type": "code",
   "execution_count": 117,
   "id": "f2b098f8",
   "metadata": {
    "hidden": true
   },
   "outputs": [
    {
     "data": {
      "text/plain": [
       "list"
      ]
     },
     "execution_count": 117,
     "metadata": {},
     "output_type": "execute_result"
    }
   ],
   "source": [
    "input_vectors_listed[:1]"
   ]
  }
 ],
 "metadata": {
  "kernelspec": {
   "display_name": "Python 3 (ipykernel)",
   "language": "python",
   "name": "python3"
  },
  "language_info": {
   "codemirror_mode": {
    "name": "ipython",
    "version": 3
   },
   "file_extension": ".py",
   "mimetype": "text/x-python",
   "name": "python",
   "nbconvert_exporter": "python",
   "pygments_lexer": "ipython3",
   "version": "3.8.12"
  },
  "toc": {
   "base_numbering": 1,
   "nav_menu": {},
   "number_sections": true,
   "sideBar": true,
   "skip_h1_title": false,
   "title_cell": "Table of Contents",
   "title_sidebar": "Contents",
   "toc_cell": false,
   "toc_position": {},
   "toc_section_display": true,
   "toc_window_display": false
  }
 },
 "nbformat": 4,
 "nbformat_minor": 5
}
